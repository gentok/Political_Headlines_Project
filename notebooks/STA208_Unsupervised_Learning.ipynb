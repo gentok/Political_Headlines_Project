{
 "cells": [
  {
   "cell_type": "markdown",
   "metadata": {},
   "source": [
    "<h1 style=\"text-align:center\"> Exploring and Predicting Characteristics of Japanese Newspaper Headlines </h1> \n",
    "<h2 style=\"text-align:center\"> <i>STA208 Final Project (Spring 2017)</i> </h2> \n",
    "<h3 style=\"text-align:center\"> <i>Tzu-ping Liu and Gento Kato</i> </h3> \n",
    "\n",
    "\n",
    "[<h5 style=\"text-align:center\"> Back to Summary Notebook </h5>](STA208_Project_Summary.ipynb)"
   ]
  },
  {
   "cell_type": "markdown",
   "metadata": {},
   "source": [
    "<h1 style=\"text-align:center\"> Section IV </h1>\n",
    "<h1 style=\"text-align:center\"> <i>Exploring Categories of Newspaper Headlines</i> </h1>"
   ]
  },
  {
   "cell_type": "code",
   "execution_count": 69,
   "metadata": {},
   "outputs": [
    {
     "data": {
      "text/html": [
       "<script>\n",
       "code_show=true; \n",
       "function code_toggle() {\n",
       " if (code_show){\n",
       " $('div.input').hide();\n",
       " } else {\n",
       " $('div.input').show();\n",
       " }\n",
       " code_show = !code_show\n",
       "} \n",
       "$( document ).ready(code_toggle);\n",
       "</script>\n",
       "<form action=\"javascript:code_toggle()\"><input type=\"submit\" value=\"Click here to toggle on/off the raw code.\"></form>"
      ],
      "text/plain": [
       "<IPython.core.display.HTML object>"
      ]
     },
     "execution_count": 69,
     "metadata": {},
     "output_type": "execute_result"
    }
   ],
   "source": [
    "from IPython.display import HTML\n",
    "\n",
    "HTML('''<script>\n",
    "code_show=true; \n",
    "function code_toggle() {\n",
    " if (code_show){\n",
    " $('div.input').hide();\n",
    " } else {\n",
    " $('div.input').show();\n",
    " }\n",
    " code_show = !code_show\n",
    "} \n",
    "$( document ).ready(code_toggle);\n",
    "</script>\n",
    "<form action=\"javascript:code_toggle()\"><input type=\"submit\" value=\"Click here to toggle on/off the raw code.\"></form>''')"
   ]
  },
  {
   "cell_type": "markdown",
   "metadata": {},
   "source": [
    "## 1. Preparation\n",
    "\n",
    "**Import Packages and Original Data**"
   ]
  },
  {
   "cell_type": "code",
   "execution_count": 1,
   "metadata": {
    "collapsed": true
   },
   "outputs": [],
   "source": [
    "# Computation Timer\n",
    "from timeit import default_timer as trec\n",
    "\n",
    "# Data Mining\n",
    "import pandas as pd\n",
    "import numpy as np\n",
    "from sklearn import decomposition\n",
    "from scipy.spatial.distance import cdist, pdist\n",
    "from scipy import sparse as sp ## Sparse Matrix\n",
    "from sklearn.cluster import KMeans, MiniBatchKMeans # Add MiniBatchKMeans\n",
    "\n",
    "# Visualization\n",
    "from IPython.display import display # Display HTML Table\n",
    "import matplotlib as mpl\n",
    "import matplotlib.pyplot as plt\n",
    "plt.style.use('ggplot')"
   ]
  },
  {
   "cell_type": "code",
   "execution_count": 2,
   "metadata": {},
   "outputs": [
    {
     "name": "stdout",
     "output_type": "stream",
     "text": [
      "Computation time is 288.636 seconds\n"
     ]
    }
   ],
   "source": [
    "start = trec()\n",
    "\n",
    "## Import Data\n",
    "alldata = pd.read_csv(\"../data/alldata_traincode_170510.csv\", encoding='CP932')\n",
    "allWrdMat10 = pd.read_csv(\"../data/allWrdMat10.csv.gz\", encoding='CP932')\n",
    "\n",
    "time = trec() - start\n",
    "print('Computation time is %0.3f seconds' % time)"
   ]
  },
  {
   "cell_type": "markdown",
   "metadata": {},
   "source": [
    "## 2. K-Means to Explore Topical Categories in Headlines\n",
    "\n",
    "### 2.1 Application to Full Dataset\n",
    "\n",
    "**Create Sparse Matrix**"
   ]
  },
  {
   "cell_type": "code",
   "execution_count": 3,
   "metadata": {},
   "outputs": [
    {
     "name": "stdout",
     "output_type": "stream",
     "text": [
      "Computation time is 40.549 seconds\n"
     ]
    }
   ],
   "source": [
    "start = trec() \n",
    "\n",
    "## Set X as CSR Sparse Matrix (Row Extraction is Faster) \n",
    "X = np.array(allWrdMat10)\n",
    "X = sp.csr_matrix(X)\n",
    "\n",
    "time = trec() - start\n",
    "print('Computation time is %0.3f seconds' % time)"
   ]
  },
  {
   "cell_type": "markdown",
   "metadata": {},
   "source": [
    "**Conduct K-Means**"
   ]
  },
  {
   "cell_type": "code",
   "execution_count": 4,
   "metadata": {},
   "outputs": [
    {
     "name": "stdout",
     "output_type": "stream",
     "text": [
      "Computation time is 6082.276 seconds\n"
     ]
    }
   ],
   "source": [
    "start = trec() \n",
    "\n",
    "## K Means from Whole Data\n",
    "## Using the elbow nethod to determine the number of clusters\n",
    "cluster = range(1, 16)\n",
    "score = []\n",
    "for a in cluster:\n",
    "    kmeans = KMeans(n_clusters=a, random_state=0, n_jobs=-1, n_init=10, max_iter=250)\n",
    "    ks = -(kmeans.fit(X).score(X))\n",
    "    score.append(ks)\n",
    "\n",
    "time = trec() - start\n",
    "print('Computation time is %0.3f seconds' % time)"
   ]
  },
  {
   "cell_type": "markdown",
   "metadata": {},
   "source": [
    "Since we intentionally to let the machine decide how many clusters, we utilize the scree plot, which is constructed based on the score and the number of clusters, to see the poential number of clusters we should consider."
   ]
  },
  {
   "cell_type": "code",
   "execution_count": 5,
   "metadata": {},
   "outputs": [
    {
     "data": {
      "image/png": "[encoded data removed]",
      "text/plain": [
       "<matplotlib.figure.Figure at 0x10aa2f8d0>"
      ]
     },
     "metadata": {},
     "output_type": "display_data"
    }
   ],
   "source": [
    "## Plotting the result\n",
    "plt.plot(cluster, score, 'bo-', linewidth=2)\n",
    "plt.title('Score Plot')\n",
    "plt.xlabel('Number of Clusters')\n",
    "plt.ylabel('Score')\n",
    "leg = plt.legend(['Score of K-Means'], loc='best', borderpad=0.3,\n",
    "                 shadow=False, prop=mpl.font_manager.FontProperties(size='small'),\n",
    "                 markerscale=0.4)\n",
    "leg.get_frame().set_alpha(0.4)\n",
    "leg.draggable(state=True)\n",
    "plt.show()"
   ]
  },
  {
   "cell_type": "markdown",
   "metadata": {},
   "source": [
    "According to the scree plot, it shows that the \"**elbow**\" point is **3**. However, to prevent the biasness, in addtition to **three** clusters, we also let the machine learn the cases of **four** clusters and **five** clusters. The results are shown below."
   ]
  },
  {
   "cell_type": "code",
   "execution_count": 6,
   "metadata": {},
   "outputs": [
    {
     "name": "stdout",
     "output_type": "stream",
     "text": [
      "Top 20 terms per cluster:\n",
      "Cluster 0:\n"
     ]
    },
    {
     "data": {
      "text/html": [
       "<div>\n",
       "<table border=\"1\" class=\"dataframe\">\n",
       "  <thead>\n",
       "    <tr style=\"text-align: right;\">\n",
       "      <th></th>\n",
       "      <th>０</th>\n",
       "      <th>１</th>\n",
       "      <th>２</th>\n",
       "      <th>円</th>\n",
       "      <th>５</th>\n",
       "      <th>３</th>\n",
       "      <th>人</th>\n",
       "      <th>万</th>\n",
       "      <th>億</th>\n",
       "      <th>４</th>\n",
       "      <th>年</th>\n",
       "      <th>６</th>\n",
       "      <th>８</th>\n",
       "      <th>７</th>\n",
       "      <th>９</th>\n",
       "      <th>日</th>\n",
       "      <th>％</th>\n",
       "      <th>年度</th>\n",
       "      <th>兆</th>\n",
       "      <th>社</th>\n",
       "    </tr>\n",
       "  </thead>\n",
       "  <tbody>\n",
       "    <tr>\n",
       "      <th>20 highest component</th>\n",
       "      <td>2.549</td>\n",
       "      <td>0.649</td>\n",
       "      <td>0.545</td>\n",
       "      <td>0.432</td>\n",
       "      <td>0.298</td>\n",
       "      <td>0.289</td>\n",
       "      <td>0.278</td>\n",
       "      <td>0.272</td>\n",
       "      <td>0.244</td>\n",
       "      <td>0.217</td>\n",
       "      <td>0.212</td>\n",
       "      <td>0.183</td>\n",
       "      <td>0.165</td>\n",
       "      <td>0.154</td>\n",
       "      <td>0.148</td>\n",
       "      <td>0.088</td>\n",
       "      <td>0.076</td>\n",
       "      <td>0.075</td>\n",
       "      <td>0.061</td>\n",
       "      <td>0.059</td>\n",
       "    </tr>\n",
       "  </tbody>\n",
       "</table>\n",
       "</div>"
      ],
      "text/plain": [
       "                          ０      １      ２      円      ５      ３      人      万  \\\n",
       "20 highest component  2.549  0.649  0.545  0.432  0.298  0.289  0.278  0.272   \n",
       "\n",
       "                          億      ４      年      ６      ８      ７      ９      日  \\\n",
       "20 highest component  0.244  0.217  0.212  0.183  0.165  0.154  0.148  0.088   \n",
       "\n",
       "                          ％     年度      兆      社  \n",
       "20 highest component  0.076  0.075  0.061  0.059  "
      ]
     },
     "metadata": {},
     "output_type": "display_data"
    },
    {
     "name": "stdout",
     "output_type": "stream",
     "text": [
      "Cluster 1:\n"
     ]
    },
    {
     "data": {
      "text/html": [
       "<div>\n",
       "<table border=\"1\" class=\"dataframe\">\n",
       "  <thead>\n",
       "    <tr style=\"text-align: right;\">\n",
       "      <th></th>\n",
       "      <th>米</th>\n",
       "      <th>首相</th>\n",
       "      <th>氏</th>\n",
       "      <th>２</th>\n",
       "      <th>３</th>\n",
       "      <th>日</th>\n",
       "      <th>５</th>\n",
       "      <th>４</th>\n",
       "      <th>政府</th>\n",
       "      <th>人</th>\n",
       "      <th>日本</th>\n",
       "      <th>自民</th>\n",
       "      <th>６</th>\n",
       "      <th>大統領</th>\n",
       "      <th>０</th>\n",
       "      <th>化</th>\n",
       "      <th>案</th>\n",
       "      <th>方針</th>\n",
       "      <th>選</th>\n",
       "      <th>会談</th>\n",
       "    </tr>\n",
       "  </thead>\n",
       "  <tbody>\n",
       "    <tr>\n",
       "      <th>20 highest component</th>\n",
       "      <td>0.103</td>\n",
       "      <td>0.083</td>\n",
       "      <td>0.083</td>\n",
       "      <td>0.082</td>\n",
       "      <td>0.077</td>\n",
       "      <td>0.074</td>\n",
       "      <td>0.055</td>\n",
       "      <td>0.055</td>\n",
       "      <td>0.052</td>\n",
       "      <td>0.047</td>\n",
       "      <td>0.042</td>\n",
       "      <td>0.041</td>\n",
       "      <td>0.041</td>\n",
       "      <td>0.041</td>\n",
       "      <td>0.04</td>\n",
       "      <td>0.039</td>\n",
       "      <td>0.038</td>\n",
       "      <td>0.036</td>\n",
       "      <td>0.036</td>\n",
       "      <td>0.035</td>\n",
       "    </tr>\n",
       "  </tbody>\n",
       "</table>\n",
       "</div>"
      ],
      "text/plain": [
       "                          米     首相      氏      ２      ３      日      ５      ４  \\\n",
       "20 highest component  0.103  0.083  0.083  0.082  0.077  0.074  0.055  0.055   \n",
       "\n",
       "                         政府      人     日本     自民      ６    大統領     ０      化  \\\n",
       "20 highest component  0.052  0.047  0.042  0.041  0.041  0.041  0.04  0.039   \n",
       "\n",
       "                          案     方針      選     会談  \n",
       "20 highest component  0.038  0.036  0.036  0.035  "
      ]
     },
     "metadata": {},
     "output_type": "display_data"
    },
    {
     "name": "stdout",
     "output_type": "stream",
     "text": [
      "Cluster 2:\n"
     ]
    },
    {
     "data": {
      "text/html": [
       "<div>\n",
       "<table border=\"1\" class=\"dataframe\">\n",
       "  <thead>\n",
       "    <tr style=\"text-align: right;\">\n",
       "      <th></th>\n",
       "      <th>１</th>\n",
       "      <th>２</th>\n",
       "      <th>５</th>\n",
       "      <th>３</th>\n",
       "      <th>０</th>\n",
       "      <th>円</th>\n",
       "      <th>４</th>\n",
       "      <th>人</th>\n",
       "      <th>日</th>\n",
       "      <th>％</th>\n",
       "      <th>６</th>\n",
       "      <th>９</th>\n",
       "      <th>年</th>\n",
       "      <th>７</th>\n",
       "      <th>８</th>\n",
       "      <th>．</th>\n",
       "      <th>億</th>\n",
       "      <th>万</th>\n",
       "      <th>調査</th>\n",
       "      <th>連載</th>\n",
       "    </tr>\n",
       "  </thead>\n",
       "  <tbody>\n",
       "    <tr>\n",
       "      <th>20 highest component</th>\n",
       "      <td>1.035</td>\n",
       "      <td>0.412</td>\n",
       "      <td>0.291</td>\n",
       "      <td>0.288</td>\n",
       "      <td>0.28</td>\n",
       "      <td>0.242</td>\n",
       "      <td>0.232</td>\n",
       "      <td>0.21</td>\n",
       "      <td>0.201</td>\n",
       "      <td>0.19</td>\n",
       "      <td>0.183</td>\n",
       "      <td>0.177</td>\n",
       "      <td>0.175</td>\n",
       "      <td>0.167</td>\n",
       "      <td>0.153</td>\n",
       "      <td>0.094</td>\n",
       "      <td>0.093</td>\n",
       "      <td>0.085</td>\n",
       "      <td>0.084</td>\n",
       "      <td>0.07</td>\n",
       "    </tr>\n",
       "  </tbody>\n",
       "</table>\n",
       "</div>"
      ],
      "text/plain": [
       "                          １      ２      ５      ３     ０      円      ４     人  \\\n",
       "20 highest component  1.035  0.412  0.291  0.288  0.28  0.242  0.232  0.21   \n",
       "\n",
       "                          日     ％      ６      ９      年      ７      ８      ．  \\\n",
       "20 highest component  0.201  0.19  0.183  0.177  0.175  0.167  0.153  0.094   \n",
       "\n",
       "                          億      万     調査    連載  \n",
       "20 highest component  0.093  0.085  0.084  0.07  "
      ]
     },
     "metadata": {},
     "output_type": "display_data"
    },
    {
     "name": "stdout",
     "output_type": "stream",
     "text": [
      "Computation time is 241.857 seconds\n"
     ]
    }
   ],
   "source": [
    "start = trec() \n",
    "\n",
    "kmeans3 = KMeans(n_clusters=3, random_state=0, n_jobs=-1, n_init=10, max_iter=250)\n",
    "kmresult3 = kmeans3.fit(X)\n",
    "kmlabels3 = kmresult3.predict(X)\n",
    "words = allWrdMat10.columns\n",
    "\n",
    "print(\"Top 20 terms per cluster:\")\n",
    "order_centroids3 = kmresult3.cluster_centers_.argsort()[:, ::-1]\n",
    "\n",
    "for a in range(3):\n",
    "    print(\"Cluster %d:\" % a)\n",
    "    high20 = []\n",
    "    cent20 = []\n",
    "    for b in order_centroids3[a, :20]:\n",
    "        high20.append(words[b])\n",
    "        cent20.append(kmresult3.cluster_centers_[a,b])\n",
    "    comptable = pd.DataFrame(index = high20, columns = ['20 highest component'], data = np.round(cent20,3))\n",
    "    comptable = comptable.transpose()\n",
    "    display(comptable)\n",
    "    \n",
    "time = trec() - start\n",
    "print('Computation time is %0.3f seconds' % time)"
   ]
  },
  {
   "cell_type": "code",
   "execution_count": 7,
   "metadata": {},
   "outputs": [
    {
     "name": "stdout",
     "output_type": "stream",
     "text": [
      "Computation time is 12.329 seconds\n"
     ]
    }
   ],
   "source": [
    "start = trec() \n",
    "\n",
    "kmlabels3 = pd.DataFrame(kmlabels3)\n",
    "\n",
    "allWrdMat10_3 = kmlabels3.join(allWrdMat10)\n",
    "\n",
    "time = trec() - start\n",
    "print('Computation time is %0.3f seconds' % time)"
   ]
  },
  {
   "cell_type": "code",
   "execution_count": 9,
   "metadata": {},
   "outputs": [
    {
     "name": "stdout",
     "output_type": "stream",
     "text": [
      "Computation time is 0.219 seconds\n"
     ]
    }
   ],
   "source": [
    "start = trec() \n",
    "\n",
    "kmlabels3.to_csv('../data/kmlabels3.csv')\n",
    "\n",
    "time = trec() - start\n",
    "print('Computation time is %0.3f seconds' % time)"
   ]
  },
  {
   "cell_type": "code",
   "execution_count": 10,
   "metadata": {},
   "outputs": [
    {
     "name": "stdout",
     "output_type": "stream",
     "text": [
      "Top 20 terms per cluster:\n",
      "Cluster 0:\n"
     ]
    },
    {
     "data": {
      "text/html": [
       "<div>\n",
       "<table border=\"1\" class=\"dataframe\">\n",
       "  <thead>\n",
       "    <tr style=\"text-align: right;\">\n",
       "      <th></th>\n",
       "      <th>米</th>\n",
       "      <th>首相</th>\n",
       "      <th>氏</th>\n",
       "      <th>３</th>\n",
       "      <th>日</th>\n",
       "      <th>５</th>\n",
       "      <th>４</th>\n",
       "      <th>政府</th>\n",
       "      <th>大統領</th>\n",
       "      <th>自民</th>\n",
       "      <th>日本</th>\n",
       "      <th>人</th>\n",
       "      <th>６</th>\n",
       "      <th>化</th>\n",
       "      <th>案</th>\n",
       "      <th>方針</th>\n",
       "      <th>会談</th>\n",
       "      <th>選</th>\n",
       "      <th>０</th>\n",
       "      <th>者</th>\n",
       "    </tr>\n",
       "  </thead>\n",
       "  <tbody>\n",
       "    <tr>\n",
       "      <th>20 highest component</th>\n",
       "      <td>0.106</td>\n",
       "      <td>0.085</td>\n",
       "      <td>0.085</td>\n",
       "      <td>0.077</td>\n",
       "      <td>0.063</td>\n",
       "      <td>0.055</td>\n",
       "      <td>0.054</td>\n",
       "      <td>0.053</td>\n",
       "      <td>0.042</td>\n",
       "      <td>0.042</td>\n",
       "      <td>0.041</td>\n",
       "      <td>0.041</td>\n",
       "      <td>0.04</td>\n",
       "      <td>0.039</td>\n",
       "      <td>0.038</td>\n",
       "      <td>0.037</td>\n",
       "      <td>0.036</td>\n",
       "      <td>0.036</td>\n",
       "      <td>0.036</td>\n",
       "      <td>0.035</td>\n",
       "    </tr>\n",
       "  </tbody>\n",
       "</table>\n",
       "</div>"
      ],
      "text/plain": [
       "                          米     首相      氏      ３      日      ５      ４     政府  \\\n",
       "20 highest component  0.106  0.085  0.085  0.077  0.063  0.055  0.054  0.053   \n",
       "\n",
       "                        大統領     自民     日本      人     ６      化      案     方針  \\\n",
       "20 highest component  0.042  0.042  0.041  0.041  0.04  0.039  0.038  0.037   \n",
       "\n",
       "                         会談      選      ０      者  \n",
       "20 highest component  0.036  0.036  0.036  0.035  "
      ]
     },
     "metadata": {},
     "output_type": "display_data"
    },
    {
     "name": "stdout",
     "output_type": "stream",
     "text": [
      "Cluster 1:\n"
     ]
    },
    {
     "data": {
      "text/html": [
       "<div>\n",
       "<table border=\"1\" class=\"dataframe\">\n",
       "  <thead>\n",
       "    <tr style=\"text-align: right;\">\n",
       "      <th></th>\n",
       "      <th>１</th>\n",
       "      <th>円</th>\n",
       "      <th>０</th>\n",
       "      <th>３</th>\n",
       "      <th>５</th>\n",
       "      <th>日</th>\n",
       "      <th>４</th>\n",
       "      <th>人</th>\n",
       "      <th>９</th>\n",
       "      <th>年</th>\n",
       "      <th>６</th>\n",
       "      <th>７</th>\n",
       "      <th>８</th>\n",
       "      <th>２</th>\n",
       "      <th>％</th>\n",
       "      <th>億</th>\n",
       "      <th>万</th>\n",
       "      <th>連載</th>\n",
       "      <th>米</th>\n",
       "      <th>．</th>\n",
       "    </tr>\n",
       "  </thead>\n",
       "  <tbody>\n",
       "    <tr>\n",
       "      <th>20 highest component</th>\n",
       "      <td>1.275</td>\n",
       "      <td>0.274</td>\n",
       "      <td>0.259</td>\n",
       "      <td>0.244</td>\n",
       "      <td>0.231</td>\n",
       "      <td>0.204</td>\n",
       "      <td>0.19</td>\n",
       "      <td>0.181</td>\n",
       "      <td>0.161</td>\n",
       "      <td>0.155</td>\n",
       "      <td>0.155</td>\n",
       "      <td>0.144</td>\n",
       "      <td>0.135</td>\n",
       "      <td>0.115</td>\n",
       "      <td>0.108</td>\n",
       "      <td>0.094</td>\n",
       "      <td>0.078</td>\n",
       "      <td>0.078</td>\n",
       "      <td>0.07</td>\n",
       "      <td>0.06</td>\n",
       "    </tr>\n",
       "  </tbody>\n",
       "</table>\n",
       "</div>"
      ],
      "text/plain": [
       "                          １      円      ０      ３      ５      日     ４      人  \\\n",
       "20 highest component  1.275  0.274  0.259  0.244  0.231  0.204  0.19  0.181   \n",
       "\n",
       "                          ９      年      ６      ７      ８      ２      ％      億  \\\n",
       "20 highest component  0.161  0.155  0.155  0.144  0.135  0.115  0.108  0.094   \n",
       "\n",
       "                          万     連載     米     ．  \n",
       "20 highest component  0.078  0.078  0.07  0.06  "
      ]
     },
     "metadata": {},
     "output_type": "display_data"
    },
    {
     "name": "stdout",
     "output_type": "stream",
     "text": [
      "Cluster 2:\n"
     ]
    },
    {
     "data": {
      "text/html": [
       "<div>\n",
       "<table border=\"1\" class=\"dataframe\">\n",
       "  <thead>\n",
       "    <tr style=\"text-align: right;\">\n",
       "      <th></th>\n",
       "      <th>２</th>\n",
       "      <th>１</th>\n",
       "      <th>５</th>\n",
       "      <th>３</th>\n",
       "      <th>０</th>\n",
       "      <th>日</th>\n",
       "      <th>％</th>\n",
       "      <th>人</th>\n",
       "      <th>４</th>\n",
       "      <th>年</th>\n",
       "      <th>６</th>\n",
       "      <th>７</th>\n",
       "      <th>９</th>\n",
       "      <th>８</th>\n",
       "      <th>調査</th>\n",
       "      <th>円</th>\n",
       "      <th>．</th>\n",
       "      <th>連載</th>\n",
       "      <th>米</th>\n",
       "      <th>万</th>\n",
       "    </tr>\n",
       "  </thead>\n",
       "  <tbody>\n",
       "    <tr>\n",
       "      <th>20 highest component</th>\n",
       "      <td>1.098</td>\n",
       "      <td>0.241</td>\n",
       "      <td>0.231</td>\n",
       "      <td>0.218</td>\n",
       "      <td>0.21</td>\n",
       "      <td>0.205</td>\n",
       "      <td>0.198</td>\n",
       "      <td>0.191</td>\n",
       "      <td>0.189</td>\n",
       "      <td>0.155</td>\n",
       "      <td>0.143</td>\n",
       "      <td>0.129</td>\n",
       "      <td>0.128</td>\n",
       "      <td>0.11</td>\n",
       "      <td>0.089</td>\n",
       "      <td>0.085</td>\n",
       "      <td>0.085</td>\n",
       "      <td>0.071</td>\n",
       "      <td>0.069</td>\n",
       "      <td>0.06</td>\n",
       "    </tr>\n",
       "  </tbody>\n",
       "</table>\n",
       "</div>"
      ],
      "text/plain": [
       "                          ２      １      ５      ３     ０      日      ％      人  \\\n",
       "20 highest component  1.098  0.241  0.231  0.218  0.21  0.205  0.198  0.191   \n",
       "\n",
       "                          ４      年      ６      ７      ９     ８     調査      円  \\\n",
       "20 highest component  0.189  0.155  0.143  0.129  0.128  0.11  0.089  0.085   \n",
       "\n",
       "                          ．     連載      米     万  \n",
       "20 highest component  0.085  0.071  0.069  0.06  "
      ]
     },
     "metadata": {},
     "output_type": "display_data"
    },
    {
     "name": "stdout",
     "output_type": "stream",
     "text": [
      "Cluster 3:\n"
     ]
    },
    {
     "data": {
      "text/html": [
       "<div>\n",
       "<table border=\"1\" class=\"dataframe\">\n",
       "  <thead>\n",
       "    <tr style=\"text-align: right;\">\n",
       "      <th></th>\n",
       "      <th>０</th>\n",
       "      <th>１</th>\n",
       "      <th>２</th>\n",
       "      <th>円</th>\n",
       "      <th>５</th>\n",
       "      <th>３</th>\n",
       "      <th>人</th>\n",
       "      <th>万</th>\n",
       "      <th>億</th>\n",
       "      <th>４</th>\n",
       "      <th>年</th>\n",
       "      <th>６</th>\n",
       "      <th>８</th>\n",
       "      <th>７</th>\n",
       "      <th>９</th>\n",
       "      <th>日</th>\n",
       "      <th>年度</th>\n",
       "      <th>％</th>\n",
       "      <th>兆</th>\n",
       "      <th>社</th>\n",
       "    </tr>\n",
       "  </thead>\n",
       "  <tbody>\n",
       "    <tr>\n",
       "      <th>20 highest component</th>\n",
       "      <td>2.55</td>\n",
       "      <td>0.64</td>\n",
       "      <td>0.536</td>\n",
       "      <td>0.435</td>\n",
       "      <td>0.3</td>\n",
       "      <td>0.291</td>\n",
       "      <td>0.278</td>\n",
       "      <td>0.274</td>\n",
       "      <td>0.247</td>\n",
       "      <td>0.218</td>\n",
       "      <td>0.211</td>\n",
       "      <td>0.184</td>\n",
       "      <td>0.167</td>\n",
       "      <td>0.155</td>\n",
       "      <td>0.148</td>\n",
       "      <td>0.087</td>\n",
       "      <td>0.075</td>\n",
       "      <td>0.075</td>\n",
       "      <td>0.062</td>\n",
       "      <td>0.059</td>\n",
       "    </tr>\n",
       "  </tbody>\n",
       "</table>\n",
       "</div>"
      ],
      "text/plain": [
       "                         ０     １      ２      円    ５      ３      人      万  \\\n",
       "20 highest component  2.55  0.64  0.536  0.435  0.3  0.291  0.278  0.274   \n",
       "\n",
       "                          億      ４      年      ６      ８      ７      ９      日  \\\n",
       "20 highest component  0.247  0.218  0.211  0.184  0.167  0.155  0.148  0.087   \n",
       "\n",
       "                         年度      ％      兆      社  \n",
       "20 highest component  0.075  0.075  0.062  0.059  "
      ]
     },
     "metadata": {},
     "output_type": "display_data"
    },
    {
     "name": "stdout",
     "output_type": "stream",
     "text": [
      "Computation time is 337.585 seconds\n"
     ]
    }
   ],
   "source": [
    "start = trec() \n",
    "\n",
    "kmeans4 = KMeans(n_clusters=4, random_state=0, n_jobs=-1, n_init=10, max_iter=250)\n",
    "kmresult4 = kmeans4.fit(X)\n",
    "kmlabels4 = kmresult4.predict(X)\n",
    "words = allWrdMat10.columns\n",
    "\n",
    "print(\"Top 20 terms per cluster:\")\n",
    "order_centroids4 = kmresult4.cluster_centers_.argsort()[:, ::-1]\n",
    "\n",
    "for a in range(4):\n",
    "    print(\"Cluster %d:\" % a)\n",
    "    high20 = []\n",
    "    cent20 = []\n",
    "    for b in order_centroids4[a, :20]:\n",
    "        high20.append(words[b])\n",
    "        cent20.append(kmresult4.cluster_centers_[a,b])\n",
    "    comptable = pd.DataFrame(index = high20, columns = ['20 highest component'], data = np.round(cent20,3))\n",
    "    comptable = comptable.transpose()\n",
    "    display(comptable)\n",
    "    \n",
    "time = trec() - start\n",
    "print('Computation time is %0.3f seconds' % time)"
   ]
  },
  {
   "cell_type": "code",
   "execution_count": 11,
   "metadata": {},
   "outputs": [
    {
     "name": "stdout",
     "output_type": "stream",
     "text": [
      "Computation time is 0.173 seconds\n"
     ]
    }
   ],
   "source": [
    "start = trec()\n",
    "\n",
    "kmlabels4 = pd.DataFrame(kmlabels4)\n",
    "\n",
    "kmlabels4.to_csv('../data/kmlabels4.csv')\n",
    "\n",
    "\n",
    "time = trec() - start\n",
    "print('Computation time is %0.3f seconds' % time)"
   ]
  },
  {
   "cell_type": "code",
   "execution_count": 12,
   "metadata": {},
   "outputs": [
    {
     "name": "stdout",
     "output_type": "stream",
     "text": [
      "Top 20 terms per cluster:\n",
      "Cluster 0:\n"
     ]
    },
    {
     "data": {
      "text/html": [
       "<div>\n",
       "<table border=\"1\" class=\"dataframe\">\n",
       "  <thead>\n",
       "    <tr style=\"text-align: right;\">\n",
       "      <th></th>\n",
       "      <th>氏</th>\n",
       "      <th>首相</th>\n",
       "      <th>３</th>\n",
       "      <th>５</th>\n",
       "      <th>４</th>\n",
       "      <th>政府</th>\n",
       "      <th>自民</th>\n",
       "      <th>人</th>\n",
       "      <th>日</th>\n",
       "      <th>６</th>\n",
       "      <th>化</th>\n",
       "      <th>案</th>\n",
       "      <th>日本</th>\n",
       "      <th>方針</th>\n",
       "      <th>選</th>\n",
       "      <th>調査</th>\n",
       "      <th>０</th>\n",
       "      <th>者</th>\n",
       "      <th>東京</th>\n",
       "      <th>きょう</th>\n",
       "    </tr>\n",
       "  </thead>\n",
       "  <tbody>\n",
       "    <tr>\n",
       "      <th>20 highest component</th>\n",
       "      <td>0.09</td>\n",
       "      <td>0.087</td>\n",
       "      <td>0.08</td>\n",
       "      <td>0.057</td>\n",
       "      <td>0.056</td>\n",
       "      <td>0.052</td>\n",
       "      <td>0.046</td>\n",
       "      <td>0.043</td>\n",
       "      <td>0.043</td>\n",
       "      <td>0.041</td>\n",
       "      <td>0.04</td>\n",
       "      <td>0.039</td>\n",
       "      <td>0.039</td>\n",
       "      <td>0.039</td>\n",
       "      <td>0.038</td>\n",
       "      <td>0.037</td>\n",
       "      <td>0.037</td>\n",
       "      <td>0.036</td>\n",
       "      <td>0.036</td>\n",
       "      <td>0.035</td>\n",
       "    </tr>\n",
       "  </tbody>\n",
       "</table>\n",
       "</div>"
      ],
      "text/plain": [
       "                         氏     首相     ３      ５      ４     政府     自民      人  \\\n",
       "20 highest component  0.09  0.087  0.08  0.057  0.056  0.052  0.046  0.043   \n",
       "\n",
       "                          日      ６     化      案     日本     方針      選     調査  \\\n",
       "20 highest component  0.043  0.041  0.04  0.039  0.039  0.039  0.038  0.037   \n",
       "\n",
       "                          ０      者     東京    きょう  \n",
       "20 highest component  0.037  0.036  0.036  0.035  "
      ]
     },
     "metadata": {},
     "output_type": "display_data"
    },
    {
     "name": "stdout",
     "output_type": "stream",
     "text": [
      "Cluster 1:\n"
     ]
    },
    {
     "data": {
      "text/html": [
       "<div>\n",
       "<table border=\"1\" class=\"dataframe\">\n",
       "  <thead>\n",
       "    <tr style=\"text-align: right;\">\n",
       "      <th></th>\n",
       "      <th>１</th>\n",
       "      <th>円</th>\n",
       "      <th>０</th>\n",
       "      <th>３</th>\n",
       "      <th>５</th>\n",
       "      <th>４</th>\n",
       "      <th>日</th>\n",
       "      <th>人</th>\n",
       "      <th>９</th>\n",
       "      <th>６</th>\n",
       "      <th>年</th>\n",
       "      <th>７</th>\n",
       "      <th>８</th>\n",
       "      <th>２</th>\n",
       "      <th>％</th>\n",
       "      <th>億</th>\n",
       "      <th>万</th>\n",
       "      <th>連載</th>\n",
       "      <th>．</th>\n",
       "      <th>調査</th>\n",
       "    </tr>\n",
       "  </thead>\n",
       "  <tbody>\n",
       "    <tr>\n",
       "      <th>20 highest component</th>\n",
       "      <td>1.282</td>\n",
       "      <td>0.28</td>\n",
       "      <td>0.262</td>\n",
       "      <td>0.248</td>\n",
       "      <td>0.236</td>\n",
       "      <td>0.194</td>\n",
       "      <td>0.194</td>\n",
       "      <td>0.185</td>\n",
       "      <td>0.164</td>\n",
       "      <td>0.158</td>\n",
       "      <td>0.156</td>\n",
       "      <td>0.147</td>\n",
       "      <td>0.138</td>\n",
       "      <td>0.118</td>\n",
       "      <td>0.111</td>\n",
       "      <td>0.097</td>\n",
       "      <td>0.08</td>\n",
       "      <td>0.078</td>\n",
       "      <td>0.062</td>\n",
       "      <td>0.058</td>\n",
       "    </tr>\n",
       "  </tbody>\n",
       "</table>\n",
       "</div>"
      ],
      "text/plain": [
       "                          １     円      ０      ３      ５      ４      日      人  \\\n",
       "20 highest component  1.282  0.28  0.262  0.248  0.236  0.194  0.194  0.185   \n",
       "\n",
       "                          ９      ６      年      ７      ８      ２      ％      億  \\\n",
       "20 highest component  0.164  0.158  0.156  0.147  0.138  0.118  0.111  0.097   \n",
       "\n",
       "                         万     連載      ．     調査  \n",
       "20 highest component  0.08  0.078  0.062  0.058  "
      ]
     },
     "metadata": {},
     "output_type": "display_data"
    },
    {
     "name": "stdout",
     "output_type": "stream",
     "text": [
      "Cluster 2:\n"
     ]
    },
    {
     "data": {
      "text/html": [
       "<div>\n",
       "<table border=\"1\" class=\"dataframe\">\n",
       "  <thead>\n",
       "    <tr style=\"text-align: right;\">\n",
       "      <th></th>\n",
       "      <th>２</th>\n",
       "      <th>１</th>\n",
       "      <th>５</th>\n",
       "      <th>３</th>\n",
       "      <th>０</th>\n",
       "      <th>人</th>\n",
       "      <th>％</th>\n",
       "      <th>日</th>\n",
       "      <th>４</th>\n",
       "      <th>年</th>\n",
       "      <th>６</th>\n",
       "      <th>９</th>\n",
       "      <th>７</th>\n",
       "      <th>８</th>\n",
       "      <th>調査</th>\n",
       "      <th>円</th>\n",
       "      <th>．</th>\n",
       "      <th>連載</th>\n",
       "      <th>万</th>\n",
       "      <th>億</th>\n",
       "    </tr>\n",
       "  </thead>\n",
       "  <tbody>\n",
       "    <tr>\n",
       "      <th>20 highest component</th>\n",
       "      <td>1.112</td>\n",
       "      <td>0.247</td>\n",
       "      <td>0.231</td>\n",
       "      <td>0.217</td>\n",
       "      <td>0.212</td>\n",
       "      <td>0.196</td>\n",
       "      <td>0.195</td>\n",
       "      <td>0.192</td>\n",
       "      <td>0.189</td>\n",
       "      <td>0.153</td>\n",
       "      <td>0.144</td>\n",
       "      <td>0.128</td>\n",
       "      <td>0.128</td>\n",
       "      <td>0.108</td>\n",
       "      <td>0.09</td>\n",
       "      <td>0.088</td>\n",
       "      <td>0.083</td>\n",
       "      <td>0.071</td>\n",
       "      <td>0.061</td>\n",
       "      <td>0.048</td>\n",
       "    </tr>\n",
       "  </tbody>\n",
       "</table>\n",
       "</div>"
      ],
      "text/plain": [
       "                          ２      １      ５      ３      ０      人      ％      日  \\\n",
       "20 highest component  1.112  0.247  0.231  0.217  0.212  0.196  0.195  0.192   \n",
       "\n",
       "                          ４      年      ６      ９      ７      ８    調査      円  \\\n",
       "20 highest component  0.189  0.153  0.144  0.128  0.128  0.108  0.09  0.088   \n",
       "\n",
       "                          ．     連載      万      億  \n",
       "20 highest component  0.083  0.071  0.061  0.048  "
      ]
     },
     "metadata": {},
     "output_type": "display_data"
    },
    {
     "name": "stdout",
     "output_type": "stream",
     "text": [
      "Cluster 3:\n"
     ]
    },
    {
     "data": {
      "text/html": [
       "<div>\n",
       "<table border=\"1\" class=\"dataframe\">\n",
       "  <thead>\n",
       "    <tr style=\"text-align: right;\">\n",
       "      <th></th>\n",
       "      <th>０</th>\n",
       "      <th>１</th>\n",
       "      <th>２</th>\n",
       "      <th>円</th>\n",
       "      <th>５</th>\n",
       "      <th>３</th>\n",
       "      <th>人</th>\n",
       "      <th>万</th>\n",
       "      <th>億</th>\n",
       "      <th>４</th>\n",
       "      <th>年</th>\n",
       "      <th>６</th>\n",
       "      <th>８</th>\n",
       "      <th>７</th>\n",
       "      <th>９</th>\n",
       "      <th>日</th>\n",
       "      <th>％</th>\n",
       "      <th>年度</th>\n",
       "      <th>兆</th>\n",
       "      <th>社</th>\n",
       "    </tr>\n",
       "  </thead>\n",
       "  <tbody>\n",
       "    <tr>\n",
       "      <th>20 highest component</th>\n",
       "      <td>2.551</td>\n",
       "      <td>0.64</td>\n",
       "      <td>0.536</td>\n",
       "      <td>0.435</td>\n",
       "      <td>0.3</td>\n",
       "      <td>0.291</td>\n",
       "      <td>0.278</td>\n",
       "      <td>0.274</td>\n",
       "      <td>0.247</td>\n",
       "      <td>0.218</td>\n",
       "      <td>0.211</td>\n",
       "      <td>0.184</td>\n",
       "      <td>0.166</td>\n",
       "      <td>0.155</td>\n",
       "      <td>0.147</td>\n",
       "      <td>0.087</td>\n",
       "      <td>0.075</td>\n",
       "      <td>0.075</td>\n",
       "      <td>0.062</td>\n",
       "      <td>0.059</td>\n",
       "    </tr>\n",
       "  </tbody>\n",
       "</table>\n",
       "</div>"
      ],
      "text/plain": [
       "                          ０     １      ２      円    ５      ３      人      万  \\\n",
       "20 highest component  2.551  0.64  0.536  0.435  0.3  0.291  0.278  0.274   \n",
       "\n",
       "                          億      ４      年      ６      ８      ７      ９      日  \\\n",
       "20 highest component  0.247  0.218  0.211  0.184  0.166  0.155  0.147  0.087   \n",
       "\n",
       "                          ％     年度      兆      社  \n",
       "20 highest component  0.075  0.075  0.062  0.059  "
      ]
     },
     "metadata": {},
     "output_type": "display_data"
    },
    {
     "name": "stdout",
     "output_type": "stream",
     "text": [
      "Cluster 4:\n"
     ]
    },
    {
     "data": {
      "text/html": [
       "<div>\n",
       "<table border=\"1\" class=\"dataframe\">\n",
       "  <thead>\n",
       "    <tr style=\"text-align: right;\">\n",
       "      <th></th>\n",
       "      <th>米</th>\n",
       "      <th>日</th>\n",
       "      <th>大統領</th>\n",
       "      <th>会談</th>\n",
       "      <th>軍</th>\n",
       "      <th>協議</th>\n",
       "      <th>首脳</th>\n",
       "      <th>イラク</th>\n",
       "      <th>日本</th>\n",
       "      <th>首相</th>\n",
       "      <th>合意</th>\n",
       "      <th>北朝鮮</th>\n",
       "      <th>対</th>\n",
       "      <th>３</th>\n",
       "      <th>核</th>\n",
       "      <th>長官</th>\n",
       "      <th>政府</th>\n",
       "      <th>５</th>\n",
       "      <th>中</th>\n",
       "      <th>ブッシュ</th>\n",
       "    </tr>\n",
       "  </thead>\n",
       "  <tbody>\n",
       "    <tr>\n",
       "      <th>20 highest component</th>\n",
       "      <td>1.106</td>\n",
       "      <td>0.285</td>\n",
       "      <td>0.153</td>\n",
       "      <td>0.134</td>\n",
       "      <td>0.113</td>\n",
       "      <td>0.1</td>\n",
       "      <td>0.092</td>\n",
       "      <td>0.084</td>\n",
       "      <td>0.067</td>\n",
       "      <td>0.067</td>\n",
       "      <td>0.066</td>\n",
       "      <td>0.065</td>\n",
       "      <td>0.064</td>\n",
       "      <td>0.063</td>\n",
       "      <td>0.062</td>\n",
       "      <td>0.06</td>\n",
       "      <td>0.055</td>\n",
       "      <td>0.052</td>\n",
       "      <td>0.051</td>\n",
       "      <td>0.05</td>\n",
       "    </tr>\n",
       "  </tbody>\n",
       "</table>\n",
       "</div>"
      ],
      "text/plain": [
       "                          米      日    大統領     会談      軍   協議     首脳    イラク  \\\n",
       "20 highest component  1.106  0.285  0.153  0.134  0.113  0.1  0.092  0.084   \n",
       "\n",
       "                         日本     首相     合意    北朝鮮      対      ３      核    長官  \\\n",
       "20 highest component  0.067  0.067  0.066  0.065  0.064  0.063  0.062  0.06   \n",
       "\n",
       "                         政府      ５      中  ブッシュ  \n",
       "20 highest component  0.055  0.052  0.051  0.05  "
      ]
     },
     "metadata": {},
     "output_type": "display_data"
    },
    {
     "name": "stdout",
     "output_type": "stream",
     "text": [
      "Computation time is 416.199 seconds\n"
     ]
    }
   ],
   "source": [
    "start = trec() \n",
    "\n",
    "kmeans5 = KMeans(n_clusters=5, random_state=0, n_jobs=-1, n_init=10, max_iter=250)\n",
    "kmresult5 = kmeans5.fit(X)\n",
    "kmlabels5 = kmresult5.predict(X)\n",
    "words = allWrdMat10.columns\n",
    "\n",
    "print(\"Top 20 terms per cluster:\")\n",
    "order_centroids5 = kmresult5.cluster_centers_.argsort()[:, ::-1]\n",
    "\n",
    "for a in range(5):\n",
    "    print(\"Cluster %d:\" % a)\n",
    "    high20 = []\n",
    "    cent20 = []\n",
    "    for b in order_centroids5[a, :20]:\n",
    "        high20.append(words[b])\n",
    "        cent20.append(kmresult5.cluster_centers_[a,b])\n",
    "    comptable = pd.DataFrame(index = high20, columns = ['20 highest component'], data = np.round(cent20,3))\n",
    "    comptable = comptable.transpose()\n",
    "    display(comptable)\n",
    "    \n",
    "time = trec() - start\n",
    "print('Computation time is %0.3f seconds' % time)"
   ]
  },
  {
   "cell_type": "code",
   "execution_count": 13,
   "metadata": {},
   "outputs": [
    {
     "name": "stdout",
     "output_type": "stream",
     "text": [
      "Computation time is 0.142 seconds\n"
     ]
    }
   ],
   "source": [
    "start = trec()\n",
    "\n",
    "kmlabels5 = pd.DataFrame(kmlabels5)\n",
    "\n",
    "kmlabels5.to_csv('../data/kmlabels5.csv')\n",
    "\n",
    "\n",
    "time = trec() - start\n",
    "print('Computation time is %0.3f seconds' % time)"
   ]
  },
  {
   "cell_type": "markdown",
   "metadata": {},
   "source": [
    "By the results, overall, we find that most influential words/terms are **numbers**, **units**, and several **neutral political terms**. Although none of the results show that we can divide headlines into **positive** and **negative** news just by unsupervised learning, the results of **k-means** are still very heuritic for the future study. One of the most important contribution is that, we find that we can just **delete** these words/terms and use the rest of the training set to further train the machine and further see what clusters we will get."
   ]
  },
  {
   "cell_type": "markdown",
   "metadata": {},
   "source": [
    "### 2.2 Application to Dataset with Reduced Words\n",
    "\n",
    "**allWrdMat Reduced Words Data**"
   ]
  },
  {
   "cell_type": "code",
   "execution_count": 14,
   "metadata": {},
   "outputs": [
    {
     "name": "stdout",
     "output_type": "stream",
     "text": [
      "The shape of new matrix is: 99151 rows (headlines) and 3158 columns (words)\n",
      "Omitted high frequency words are:\n"
     ]
    },
    {
     "data": {
      "text/html": [
       "<div>\n",
       "<table border=\"1\" class=\"dataframe\">\n",
       "  <thead>\n",
       "    <tr style=\"text-align: right;\">\n",
       "      <th></th>\n",
       "      <th>％</th>\n",
       "      <th>０</th>\n",
       "      <th>１</th>\n",
       "      <th>２</th>\n",
       "      <th>３</th>\n",
       "      <th>４</th>\n",
       "      <th>５</th>\n",
       "      <th>６</th>\n",
       "      <th>７</th>\n",
       "      <th>８</th>\n",
       "      <th>９</th>\n",
       "      <th>円</th>\n",
       "      <th>氏</th>\n",
       "      <th>首相</th>\n",
       "      <th>人</th>\n",
       "      <th>日</th>\n",
       "      <th>年</th>\n",
       "      <th>米</th>\n",
       "    </tr>\n",
       "  </thead>\n",
       "  <tbody>\n",
       "    <tr>\n",
       "      <th>Total Freq.</th>\n",
       "      <td>5062</td>\n",
       "      <td>25161</td>\n",
       "      <td>21400</td>\n",
       "      <td>16721</td>\n",
       "      <td>12539</td>\n",
       "      <td>9448</td>\n",
       "      <td>10997</td>\n",
       "      <td>7383</td>\n",
       "      <td>6119</td>\n",
       "      <td>6071</td>\n",
       "      <td>6427</td>\n",
       "      <td>8371</td>\n",
       "      <td>6901</td>\n",
       "      <td>6950</td>\n",
       "      <td>8892</td>\n",
       "      <td>9552</td>\n",
       "      <td>6863</td>\n",
       "      <td>9308</td>\n",
       "    </tr>\n",
       "  </tbody>\n",
       "</table>\n",
       "</div>"
      ],
      "text/plain": [
       "                ％      ０      １      ２      ３     ４      ５     ６     ７     ８  \\\n",
       "Total Freq.  5062  25161  21400  16721  12539  9448  10997  7383  6119  6071   \n",
       "\n",
       "                ９     円     氏    首相     人     日     年     米  \n",
       "Total Freq.  6427  8371  6901  6950  8892  9552  6863  9308  "
      ]
     },
     "metadata": {},
     "output_type": "display_data"
    },
    {
     "name": "stdout",
     "output_type": "stream",
     "text": [
      "Computation time is 50.382 seconds\n"
     ]
    }
   ],
   "source": [
    "## Set conditions\n",
    "minfreq = 50; maxfreq = 5000 # set minimum frequency and maximum frequency\n",
    "\n",
    "#Export reduced data\n",
    "start = trec()\n",
    "allWrdMat10_freq = pd.DataFrame(allWrdMat10.sum(), columns=['Total Freq.']) ## Calculate Total Frequency\n",
    "condition = (allWrdMat10_freq.iloc[:,0] >= minfreq) & (allWrdMat10_freq.iloc[:,0] <= maxfreq) #Import Condition\n",
    "allWrdMat10_reduced = allWrdMat10.loc[:,condition] # Reduced Data\n",
    "print('The shape of new matrix is: %i rows (headlines) and %i columns (words)' % (allWrdMat10_reduced.shape[0],allWrdMat10_reduced.shape[1]) )\n",
    "print('Omitted high frequency words are:')\n",
    "display(allWrdMat10_freq.loc[allWrdMat10_freq.iloc[:,0] >= maxfreq,:].transpose()) #  Omitted High Frequency Variables\n",
    "time = trec() - start\n",
    "print('Computation time is %0.3f seconds' % time)"
   ]
  },
  {
   "cell_type": "markdown",
   "metadata": {},
   "source": [
    "**Sparse Matrix of Reduced Data**"
   ]
  },
  {
   "cell_type": "code",
   "execution_count": 15,
   "metadata": {},
   "outputs": [
    {
     "name": "stdout",
     "output_type": "stream",
     "text": [
      "Computation time is 11.072 seconds\n"
     ]
    }
   ],
   "source": [
    "start = trec() \n",
    "\n",
    "## Set X as CSR Sparse Matrix (Row Extraction is Faster) \n",
    "X_reduced = np.array(allWrdMat10_reduced)\n",
    "X_reduced = sp.csr_matrix(X_reduced)\n",
    "\n",
    "time = trec() - start\n",
    "print('Computation time is %0.3f seconds' % time)"
   ]
  },
  {
   "cell_type": "markdown",
   "metadata": {},
   "source": [
    "**K-Means on Reduced Data**\n"
   ]
  },
  {
   "cell_type": "code",
   "execution_count": 16,
   "metadata": {},
   "outputs": [
    {
     "name": "stdout",
     "output_type": "stream",
     "text": [
      "Computation time is 2689.765 seconds\n"
     ]
    }
   ],
   "source": [
    "start = trec() \n",
    "\n",
    "## Using the elbow nethod to determine the number of clusters\n",
    "cluster = range(1, 16)\n",
    "score_r = []\n",
    "for a in cluster:\n",
    "    kmeans = KMeans(n_clusters=a, random_state=0, n_jobs=-1, n_init=10, max_iter=250)\n",
    "    ks = -(kmeans.fit(X_reduced).score(X_reduced))\n",
    "    score_r.append(ks)\n",
    "\n",
    "time = trec() - start\n",
    "print('Computation time is %0.3f seconds' % time)"
   ]
  },
  {
   "cell_type": "code",
   "execution_count": 17,
   "metadata": {},
   "outputs": [
    {
     "data": {
      "image/png": "[encoded data removed]",
      "text/plain": [
       "<matplotlib.figure.Figure at 0x10c5f5908>"
      ]
     },
     "metadata": {},
     "output_type": "display_data"
    }
   ],
   "source": [
    "## Plotting the result\n",
    "plt.plot(cluster, score_r, 'bo-', linewidth=2)\n",
    "plt.title('Score Plot')\n",
    "plt.xlabel('Number of Clusters')\n",
    "plt.ylabel('Score')\n",
    "leg = plt.legend(['Score of K-Means'], loc='best', borderpad=0.3,\n",
    "                 shadow=False, prop=mpl.font_manager.FontProperties(size='small'),\n",
    "                 markerscale=0.4)\n",
    "leg.get_frame().set_alpha(0.4)\n",
    "leg.draggable(state=True)\n",
    "plt.show()"
   ]
  },
  {
   "cell_type": "markdown",
   "metadata": {},
   "source": [
    "According to the scree plot, it shows that by the reduced data, the \"**elbow**\" point is **8**. \n",
    "However, to prevent the biasness, in addtition to **right** clusters, \n",
    "we also let the machine learn the cases of **seven** clusters and **nine** clusters. The results are shown below."
   ]
  },
  {
   "cell_type": "markdown",
   "metadata": {},
   "source": [
    "*7 clusters*"
   ]
  },
  {
   "cell_type": "code",
   "execution_count": 19,
   "metadata": {},
   "outputs": [
    {
     "name": "stdout",
     "output_type": "stream",
     "text": [
      "Computation time is 205.053 seconds\n"
     ]
    }
   ],
   "source": [
    "start = trec() \n",
    "\n",
    "kmeans7r = KMeans(n_clusters=7, random_state=0, n_jobs=-1, n_init=10, max_iter=250)\n",
    "kmresult7r = kmeans7r.fit(X_reduced)\n",
    "kmlabels7r = kmresult7r.predict(X_reduced)\n",
    "words = allWrdMat10_reduced.columns\n",
    "order_centroids7r = kmresult7r.cluster_centers_.argsort()[:, ::-1]\n",
    "    \n",
    "time = trec() - start\n",
    "print('Computation time is %0.3f seconds' % time)"
   ]
  },
  {
   "cell_type": "code",
   "execution_count": 20,
   "metadata": {
    "scrolled": true
   },
   "outputs": [
    {
     "data": {
      "text/html": [
       "<div>\n",
       "<table border=\"1\" class=\"dataframe\">\n",
       "  <thead>\n",
       "    <tr style=\"text-align: right;\">\n",
       "      <th></th>\n",
       "      <th>0</th>\n",
       "      <th>1</th>\n",
       "      <th>2</th>\n",
       "      <th>3</th>\n",
       "      <th>4</th>\n",
       "      <th>5</th>\n",
       "      <th>6</th>\n",
       "    </tr>\n",
       "  </thead>\n",
       "  <tbody>\n",
       "    <tr>\n",
       "      <th>Cluster Size</th>\n",
       "      <td>3452</td>\n",
       "      <td>79258</td>\n",
       "      <td>3595</td>\n",
       "      <td>3255</td>\n",
       "      <td>1871</td>\n",
       "      <td>4480</td>\n",
       "      <td>3240</td>\n",
       "    </tr>\n",
       "  </tbody>\n",
       "</table>\n",
       "</div>"
      ],
      "text/plain": [
       "                 0      1     2     3     4     5     6\n",
       "Cluster Size  3452  79258  3595  3255  1871  4480  3240"
      ]
     },
     "execution_count": 20,
     "metadata": {},
     "output_type": "execute_result"
    }
   ],
   "source": [
    "kmcluster7 = kmlabels7r; clustersize = []\n",
    "for i in range(len(np.unique(kmcluster7))):\n",
    "    clustersize.append(len(kmcluster7[np.array(kmcluster7) == i]))\n",
    "pd.DataFrame(index = range(len(np.unique(kmcluster7))), columns = ['Cluster Size'], data = clustersize).transpose()"
   ]
  },
  {
   "cell_type": "code",
   "execution_count": 21,
   "metadata": {},
   "outputs": [
    {
     "name": "stdout",
     "output_type": "stream",
     "text": [
      "Top 20 terms per cluster: \n",
      "\n",
      "Cluster 0:\n"
     ]
    },
    {
     "data": {
      "text/html": [
       "<div>\n",
       "<table border=\"1\" class=\"dataframe\">\n",
       "  <thead>\n",
       "    <tr style=\"text-align: right;\">\n",
       "      <th></th>\n",
       "      <th>億</th>\n",
       "      <th>ドル</th>\n",
       "      <th>兆</th>\n",
       "      <th>万</th>\n",
       "      <th>年度</th>\n",
       "      <th>予算</th>\n",
       "      <th>支援</th>\n",
       "      <th>赤字</th>\n",
       "      <th>政府</th>\n",
       "      <th>社</th>\n",
       "      <th>金</th>\n",
       "      <th>分</th>\n",
       "      <th>増</th>\n",
       "      <th>費</th>\n",
       "      <th>融資</th>\n",
       "      <th>．</th>\n",
       "      <th>資金</th>\n",
       "      <th>総額</th>\n",
       "      <th>方針</th>\n",
       "      <th>数</th>\n",
       "    </tr>\n",
       "  </thead>\n",
       "  <tbody>\n",
       "    <tr>\n",
       "      <th>20 highest component</th>\n",
       "      <td>1.069</td>\n",
       "      <td>0.138</td>\n",
       "      <td>0.133</td>\n",
       "      <td>0.093</td>\n",
       "      <td>0.08</td>\n",
       "      <td>0.074</td>\n",
       "      <td>0.071</td>\n",
       "      <td>0.07</td>\n",
       "      <td>0.061</td>\n",
       "      <td>0.059</td>\n",
       "      <td>0.053</td>\n",
       "      <td>0.052</td>\n",
       "      <td>0.052</td>\n",
       "      <td>0.052</td>\n",
       "      <td>0.048</td>\n",
       "      <td>0.046</td>\n",
       "      <td>0.046</td>\n",
       "      <td>0.042</td>\n",
       "      <td>0.04</td>\n",
       "      <td>0.039</td>\n",
       "    </tr>\n",
       "  </tbody>\n",
       "</table>\n",
       "</div>"
      ],
      "text/plain": [
       "                          億     ドル      兆      万    年度     予算     支援    赤字  \\\n",
       "20 highest component  1.069  0.138  0.133  0.093  0.08  0.074  0.071  0.07   \n",
       "\n",
       "                         政府      社      金      分      増      費     融資      ．  \\\n",
       "20 highest component  0.061  0.059  0.053  0.052  0.052  0.052  0.048  0.046   \n",
       "\n",
       "                         資金     総額    方針      数  \n",
       "20 highest component  0.046  0.042  0.04  0.039  "
      ]
     },
     "metadata": {},
     "output_type": "display_data"
    },
    {
     "name": "stdout",
     "output_type": "stream",
     "text": [
      "Cluster 1:\n"
     ]
    },
    {
     "data": {
      "text/html": [
       "<div>\n",
       "<table border=\"1\" class=\"dataframe\">\n",
       "  <thead>\n",
       "    <tr style=\"text-align: right;\">\n",
       "      <th></th>\n",
       "      <th>政府</th>\n",
       "      <th>調査</th>\n",
       "      <th>日本</th>\n",
       "      <th>案</th>\n",
       "      <th>万</th>\n",
       "      <th>方針</th>\n",
       "      <th>化</th>\n",
       "      <th>自民</th>\n",
       "      <th>会談</th>\n",
       "      <th>大統領</th>\n",
       "      <th>きょう</th>\n",
       "      <th>者</th>\n",
       "      <th>する</th>\n",
       "      <th>合意</th>\n",
       "      <th>協議</th>\n",
       "      <th>検討</th>\n",
       "      <th>改革</th>\n",
       "      <th>会議</th>\n",
       "      <th>中国</th>\n",
       "      <th>委</th>\n",
       "    </tr>\n",
       "  </thead>\n",
       "  <tbody>\n",
       "    <tr>\n",
       "      <th>20 highest component</th>\n",
       "      <td>0.053</td>\n",
       "      <td>0.048</td>\n",
       "      <td>0.041</td>\n",
       "      <td>0.041</td>\n",
       "      <td>0.04</td>\n",
       "      <td>0.039</td>\n",
       "      <td>0.038</td>\n",
       "      <td>0.035</td>\n",
       "      <td>0.034</td>\n",
       "      <td>0.033</td>\n",
       "      <td>0.032</td>\n",
       "      <td>0.032</td>\n",
       "      <td>0.029</td>\n",
       "      <td>0.028</td>\n",
       "      <td>0.028</td>\n",
       "      <td>0.027</td>\n",
       "      <td>0.027</td>\n",
       "      <td>0.026</td>\n",
       "      <td>0.026</td>\n",
       "      <td>0.025</td>\n",
       "    </tr>\n",
       "  </tbody>\n",
       "</table>\n",
       "</div>"
      ],
      "text/plain": [
       "                         政府     調査     日本      案     万     方針      化     自民  \\\n",
       "20 highest component  0.053  0.048  0.041  0.041  0.04  0.039  0.038  0.035   \n",
       "\n",
       "                         会談    大統領    きょう      者     する     合意     協議     検討  \\\n",
       "20 highest component  0.034  0.033  0.032  0.032  0.029  0.028  0.028  0.027   \n",
       "\n",
       "                         改革     会議     中国      委  \n",
       "20 highest component  0.027  0.026  0.026  0.025  "
      ]
     },
     "metadata": {},
     "output_type": "display_data"
    },
    {
     "name": "stdout",
     "output_type": "stream",
     "text": [
      "Cluster 2:\n"
     ]
    },
    {
     "data": {
      "text/html": [
       "<div>\n",
       "<table border=\"1\" class=\"dataframe\">\n",
       "  <thead>\n",
       "    <tr style=\"text-align: right;\">\n",
       "      <th></th>\n",
       "      <th>イラク</th>\n",
       "      <th>軍</th>\n",
       "      <th>大統領</th>\n",
       "      <th>政府</th>\n",
       "      <th>国連</th>\n",
       "      <th>攻撃</th>\n",
       "      <th>派遣</th>\n",
       "      <th>クウェート</th>\n",
       "      <th>対</th>\n",
       "      <th>撤退</th>\n",
       "      <th>支援</th>\n",
       "      <th>国籍</th>\n",
       "      <th>自衛隊</th>\n",
       "      <th>沖縄</th>\n",
       "      <th>会談</th>\n",
       "      <th>死亡</th>\n",
       "      <th>湾岸</th>\n",
       "      <th>戦争</th>\n",
       "      <th>ソ連</th>\n",
       "      <th>基地</th>\n",
       "    </tr>\n",
       "  </thead>\n",
       "  <tbody>\n",
       "    <tr>\n",
       "      <th>20 highest component</th>\n",
       "      <td>0.591</td>\n",
       "      <td>0.527</td>\n",
       "      <td>0.109</td>\n",
       "      <td>0.085</td>\n",
       "      <td>0.082</td>\n",
       "      <td>0.063</td>\n",
       "      <td>0.057</td>\n",
       "      <td>0.056</td>\n",
       "      <td>0.055</td>\n",
       "      <td>0.053</td>\n",
       "      <td>0.053</td>\n",
       "      <td>0.052</td>\n",
       "      <td>0.05</td>\n",
       "      <td>0.048</td>\n",
       "      <td>0.045</td>\n",
       "      <td>0.045</td>\n",
       "      <td>0.045</td>\n",
       "      <td>0.044</td>\n",
       "      <td>0.043</td>\n",
       "      <td>0.037</td>\n",
       "    </tr>\n",
       "  </tbody>\n",
       "</table>\n",
       "</div>"
      ],
      "text/plain": [
       "                        イラク      軍    大統領     政府     国連     攻撃     派遣  クウェート  \\\n",
       "20 highest component  0.591  0.527  0.109  0.085  0.082  0.063  0.057  0.056   \n",
       "\n",
       "                          対     撤退     支援     国籍   自衛隊     沖縄     会談     死亡  \\\n",
       "20 highest component  0.055  0.053  0.053  0.052  0.05  0.048  0.045  0.045   \n",
       "\n",
       "                         湾岸     戦争     ソ連     基地  \n",
       "20 highest component  0.045  0.044  0.043  0.037  "
      ]
     },
     "metadata": {},
     "output_type": "display_data"
    },
    {
     "name": "stdout",
     "output_type": "stream",
     "text": [
      "Cluster 3:\n"
     ]
    },
    {
     "data": {
      "text/html": [
       "<div>\n",
       "<table border=\"1\" class=\"dataframe\">\n",
       "  <thead>\n",
       "    <tr style=\"text-align: right;\">\n",
       "      <th></th>\n",
       "      <th>選</th>\n",
       "      <th>自民</th>\n",
       "      <th>参院</th>\n",
       "      <th>衆院</th>\n",
       "      <th>投票</th>\n",
       "      <th>総裁</th>\n",
       "      <th>知事</th>\n",
       "      <th>民主</th>\n",
       "      <th>党</th>\n",
       "      <th>市長</th>\n",
       "      <th>調査</th>\n",
       "      <th>出馬</th>\n",
       "      <th>きょう</th>\n",
       "      <th>大統領</th>\n",
       "      <th>代表</th>\n",
       "      <th>表明</th>\n",
       "      <th>選挙</th>\n",
       "      <th>統一</th>\n",
       "      <th>県</th>\n",
       "      <th>告示</th>\n",
       "    </tr>\n",
       "  </thead>\n",
       "  <tbody>\n",
       "    <tr>\n",
       "      <th>20 highest component</th>\n",
       "      <td>1.059</td>\n",
       "      <td>0.243</td>\n",
       "      <td>0.219</td>\n",
       "      <td>0.175</td>\n",
       "      <td>0.14</td>\n",
       "      <td>0.139</td>\n",
       "      <td>0.133</td>\n",
       "      <td>0.125</td>\n",
       "      <td>0.112</td>\n",
       "      <td>0.101</td>\n",
       "      <td>0.089</td>\n",
       "      <td>0.087</td>\n",
       "      <td>0.078</td>\n",
       "      <td>0.077</td>\n",
       "      <td>0.065</td>\n",
       "      <td>0.058</td>\n",
       "      <td>0.054</td>\n",
       "      <td>0.052</td>\n",
       "      <td>0.049</td>\n",
       "      <td>0.048</td>\n",
       "    </tr>\n",
       "  </tbody>\n",
       "</table>\n",
       "</div>"
      ],
      "text/plain": [
       "                          選     自民     参院     衆院    投票     総裁     知事     民主  \\\n",
       "20 highest component  1.059  0.243  0.219  0.175  0.14  0.139  0.133  0.125   \n",
       "\n",
       "                          党     市長     調査     出馬    きょう    大統領     代表     表明  \\\n",
       "20 highest component  0.112  0.101  0.089  0.087  0.078  0.077  0.065  0.058   \n",
       "\n",
       "                         選挙     統一      県     告示  \n",
       "20 highest component  0.054  0.052  0.049  0.048  "
      ]
     },
     "metadata": {},
     "output_type": "display_data"
    },
    {
     "name": "stdout",
     "output_type": "stream",
     "text": [
      "Cluster 4:\n"
     ]
    },
    {
     "data": {
      "text/html": [
       "<div>\n",
       "<table border=\"1\" class=\"dataframe\">\n",
       "  <thead>\n",
       "    <tr style=\"text-align: right;\">\n",
       "      <th></th>\n",
       "      <th>容疑</th>\n",
       "      <th>逮捕</th>\n",
       "      <th>者</th>\n",
       "      <th>事件</th>\n",
       "      <th>ら</th>\n",
       "      <th>万</th>\n",
       "      <th>地検</th>\n",
       "      <th>警視庁</th>\n",
       "      <th>殺人</th>\n",
       "      <th>社長</th>\n",
       "      <th>東京</th>\n",
       "      <th>きょう</th>\n",
       "      <th>殺害</th>\n",
       "      <th>県警</th>\n",
       "      <th>収賄</th>\n",
       "      <th>詐欺</th>\n",
       "      <th>捜査</th>\n",
       "      <th>議員</th>\n",
       "      <th>供述</th>\n",
       "      <th>歳</th>\n",
       "    </tr>\n",
       "  </thead>\n",
       "  <tbody>\n",
       "    <tr>\n",
       "      <th>20 highest component</th>\n",
       "      <td>0.742</td>\n",
       "      <td>0.657</td>\n",
       "      <td>0.27</td>\n",
       "      <td>0.19</td>\n",
       "      <td>0.162</td>\n",
       "      <td>0.094</td>\n",
       "      <td>0.084</td>\n",
       "      <td>0.076</td>\n",
       "      <td>0.076</td>\n",
       "      <td>0.071</td>\n",
       "      <td>0.068</td>\n",
       "      <td>0.065</td>\n",
       "      <td>0.065</td>\n",
       "      <td>0.064</td>\n",
       "      <td>0.061</td>\n",
       "      <td>0.061</td>\n",
       "      <td>0.057</td>\n",
       "      <td>0.055</td>\n",
       "      <td>0.052</td>\n",
       "      <td>0.048</td>\n",
       "    </tr>\n",
       "  </tbody>\n",
       "</table>\n",
       "</div>"
      ],
      "text/plain": [
       "                         容疑     逮捕     者    事件      ら      万     地検    警視庁  \\\n",
       "20 highest component  0.742  0.657  0.27  0.19  0.162  0.094  0.084  0.076   \n",
       "\n",
       "                         殺人     社長     東京    きょう     殺害     県警     収賄     詐欺  \\\n",
       "20 highest component  0.076  0.071  0.068  0.065  0.065  0.064  0.061  0.061   \n",
       "\n",
       "                         捜査     議員     供述      歳  \n",
       "20 highest component  0.057  0.055  0.052  0.048  "
      ]
     },
     "metadata": {},
     "output_type": "display_data"
    },
    {
     "name": "stdout",
     "output_type": "stream",
     "text": [
      "Cluster 5:\n"
     ]
    },
    {
     "data": {
      "text/html": [
       "<div>\n",
       "<table border=\"1\" class=\"dataframe\">\n",
       "  <thead>\n",
       "    <tr style=\"text-align: right;\">\n",
       "      <th></th>\n",
       "      <th>連載</th>\n",
       "      <th>地球</th>\n",
       "      <th>寄稿</th>\n",
       "      <th>読む</th>\n",
       "      <th>部</th>\n",
       "      <th>日本</th>\n",
       "      <th>上</th>\n",
       "      <th>世界</th>\n",
       "      <th>中</th>\n",
       "      <th>下</th>\n",
       "      <th>化</th>\n",
       "      <th>経済</th>\n",
       "      <th>危機</th>\n",
       "      <th>政治</th>\n",
       "      <th>する</th>\n",
       "      <th>改革</th>\n",
       "      <th>中国</th>\n",
       "      <th>時代</th>\n",
       "      <th>環境</th>\n",
       "      <th>社会</th>\n",
       "    </tr>\n",
       "  </thead>\n",
       "  <tbody>\n",
       "    <tr>\n",
       "      <th>20 highest component</th>\n",
       "      <td>0.81</td>\n",
       "      <td>0.224</td>\n",
       "      <td>0.194</td>\n",
       "      <td>0.19</td>\n",
       "      <td>0.167</td>\n",
       "      <td>0.117</td>\n",
       "      <td>0.081</td>\n",
       "      <td>0.078</td>\n",
       "      <td>0.076</td>\n",
       "      <td>0.065</td>\n",
       "      <td>0.055</td>\n",
       "      <td>0.055</td>\n",
       "      <td>0.054</td>\n",
       "      <td>0.054</td>\n",
       "      <td>0.051</td>\n",
       "      <td>0.049</td>\n",
       "      <td>0.046</td>\n",
       "      <td>0.04</td>\n",
       "      <td>0.038</td>\n",
       "      <td>0.036</td>\n",
       "    </tr>\n",
       "  </tbody>\n",
       "</table>\n",
       "</div>"
      ],
      "text/plain": [
       "                        連載     地球     寄稿    読む      部     日本      上     世界  \\\n",
       "20 highest component  0.81  0.224  0.194  0.19  0.167  0.117  0.081  0.078   \n",
       "\n",
       "                          中      下      化     経済     危機     政治     する     改革  \\\n",
       "20 highest component  0.076  0.065  0.055  0.055  0.054  0.054  0.051  0.049   \n",
       "\n",
       "                         中国    時代     環境     社会  \n",
       "20 highest component  0.046  0.04  0.038  0.036  "
      ]
     },
     "metadata": {},
     "output_type": "display_data"
    },
    {
     "name": "stdout",
     "output_type": "stream",
     "text": [
      "Cluster 6:\n"
     ]
    },
    {
     "data": {
      "text/html": [
       "<div>\n",
       "<table border=\"1\" class=\"dataframe\">\n",
       "  <thead>\n",
       "    <tr style=\"text-align: right;\">\n",
       "      <th></th>\n",
       "      <th>東京</th>\n",
       "      <th>地検</th>\n",
       "      <th>地裁</th>\n",
       "      <th>事件</th>\n",
       "      <th>億</th>\n",
       "      <th>都</th>\n",
       "      <th>ら</th>\n",
       "      <th>万</th>\n",
       "      <th>聴取</th>\n",
       "      <th>捜査</th>\n",
       "      <th>台</th>\n",
       "      <th>起訴</th>\n",
       "      <th>容疑</th>\n",
       "      <th>終値</th>\n",
       "      <th>銭</th>\n",
       "      <th>区</th>\n",
       "      <th>きょう</th>\n",
       "      <th>市場</th>\n",
       "      <th>会議</th>\n",
       "      <th>五輪</th>\n",
       "    </tr>\n",
       "  </thead>\n",
       "  <tbody>\n",
       "    <tr>\n",
       "      <th>20 highest component</th>\n",
       "      <td>1.015</td>\n",
       "      <td>0.189</td>\n",
       "      <td>0.074</td>\n",
       "      <td>0.067</td>\n",
       "      <td>0.065</td>\n",
       "      <td>0.065</td>\n",
       "      <td>0.054</td>\n",
       "      <td>0.054</td>\n",
       "      <td>0.052</td>\n",
       "      <td>0.047</td>\n",
       "      <td>0.043</td>\n",
       "      <td>0.042</td>\n",
       "      <td>0.042</td>\n",
       "      <td>0.039</td>\n",
       "      <td>0.037</td>\n",
       "      <td>0.036</td>\n",
       "      <td>0.035</td>\n",
       "      <td>0.033</td>\n",
       "      <td>0.033</td>\n",
       "      <td>0.033</td>\n",
       "    </tr>\n",
       "  </tbody>\n",
       "</table>\n",
       "</div>"
      ],
      "text/plain": [
       "                         東京     地検     地裁     事件      億      都      ら      万  \\\n",
       "20 highest component  1.015  0.189  0.074  0.067  0.065  0.065  0.054  0.054   \n",
       "\n",
       "                         聴取     捜査      台     起訴     容疑     終値      銭      区  \\\n",
       "20 highest component  0.052  0.047  0.043  0.042  0.042  0.039  0.037  0.036   \n",
       "\n",
       "                        きょう     市場     会議     五輪  \n",
       "20 highest component  0.035  0.033  0.033  0.033  "
      ]
     },
     "metadata": {},
     "output_type": "display_data"
    }
   ],
   "source": [
    "print(\"Top 20 terms per cluster: \\n\")\n",
    "\n",
    "for a in range(7):\n",
    "    print(\"Cluster %d:\" % a)\n",
    "    high20 = []\n",
    "    cent20 = []\n",
    "    for b in order_centroids7r[a, :20]:\n",
    "        high20.append(words[b])\n",
    "        cent20.append(kmresult7r.cluster_centers_[a,b])\n",
    "    comptable7 = pd.DataFrame(index = high20, columns = ['20 highest component'], data = np.round(cent20,3))\n",
    "    comptable7 = comptable7.transpose()\n",
    "    display(comptable7)"
   ]
  },
  {
   "cell_type": "markdown",
   "metadata": {},
   "source": [
    "## We need to rewrite this part. Could you please do it? Or we can talk about it.\n",
    "\n",
    "I would name clusters as following:\n",
    "\n",
    "* Cluster 0: **Diplomacy** (\"大統領\" (president), \"会談\" (one-to-one meeting of national head), \"ロシア\" (Russia), \"ブッシュ\" (Bush), \"ソ連\" (abbreviation for Soviet), \"エリツィン\" (Yeltsin), \"イラク\" (Iraq),  \"韓国\" (Korea), \"クリントン\" (Clinton), \"首脳\" (national heads or leaders), \"訪日\" (Japan visit of foreign heads) ...) \n",
    "* Cluster 0: **General** (Remaining Category)\n",
    "* Cluster 2: **Election** (\"選\" (choose. Used in the context of election, e.g., 衆院選 (lower house election), 知事選 (guberatorial election), 総裁選 (party leader election)), \"自民\" (Liberal Democratic Party), \"投票\" (vote), \"民主\" (Democratic party), \"市長\" (mayor), \"出馬\" (run in election), \"県\" (prefecture)"
   ]
  },
  {
   "cell_type": "code",
   "execution_count": 154,
   "metadata": {},
   "outputs": [
    {
     "name": "stdout",
     "output_type": "stream",
     "text": [
      "Computation time is 0.195 seconds\n"
     ]
    }
   ],
   "source": [
    "## We need to redo this part but we don't have to do it now. Your thought?\n",
    "\n",
    "start = trec() \n",
    "\n",
    "saveres7 = kmlabels7r\n",
    "\n",
    "saveres[np.array(saveres)==0] = \"Diplomacy\"\n",
    "saveres[np.array(saveres)==1] = \"General\"\n",
    "saveres[np.array(saveres)==2] = \"Election\"\n",
    "\n",
    "saveres = pd.DataFrame(saveres)\n",
    "saveres.to_csv('../../data/kmlabels3_reduced.csv')\n",
    "\n",
    "time = trec() - start\n",
    "print('Computation time is %0.3f seconds' % time)"
   ]
  },
  {
   "cell_type": "markdown",
   "metadata": {},
   "source": [
    "*8 clusters*"
   ]
  },
  {
   "cell_type": "code",
   "execution_count": 22,
   "metadata": {},
   "outputs": [
    {
     "name": "stdout",
     "output_type": "stream",
     "text": [
      "Computation time is 176.032 seconds\n"
     ]
    }
   ],
   "source": [
    "start = trec() \n",
    "\n",
    "kmeans8r = KMeans(n_clusters=8, random_state=0, n_jobs=-1, n_init=10, max_iter=250)\n",
    "kmresult8r = kmeans8r.fit(X_reduced)\n",
    "kmlabels8r = kmresult8r.predict(X_reduced)\n",
    "words = allWrdMat10_reduced.columns\n",
    "\n",
    "order_centroids8r = kmresult8r.cluster_centers_.argsort()[:, ::-1]\n",
    "    \n",
    "time = trec() - start\n",
    "print('Computation time is %0.3f seconds' % time)"
   ]
  },
  {
   "cell_type": "code",
   "execution_count": 23,
   "metadata": {},
   "outputs": [
    {
     "data": {
      "text/html": [
       "<div>\n",
       "<table border=\"1\" class=\"dataframe\">\n",
       "  <thead>\n",
       "    <tr style=\"text-align: right;\">\n",
       "      <th></th>\n",
       "      <th>0</th>\n",
       "      <th>1</th>\n",
       "      <th>2</th>\n",
       "      <th>3</th>\n",
       "      <th>4</th>\n",
       "      <th>5</th>\n",
       "      <th>6</th>\n",
       "      <th>7</th>\n",
       "    </tr>\n",
       "  </thead>\n",
       "  <tbody>\n",
       "    <tr>\n",
       "      <th>Cluster Size</th>\n",
       "      <td>3000</td>\n",
       "      <td>74378</td>\n",
       "      <td>2918</td>\n",
       "      <td>3134</td>\n",
       "      <td>3693</td>\n",
       "      <td>3659</td>\n",
       "      <td>3996</td>\n",
       "      <td>4373</td>\n",
       "    </tr>\n",
       "  </tbody>\n",
       "</table>\n",
       "</div>"
      ],
      "text/plain": [
       "                 0      1     2     3     4     5     6     7\n",
       "Cluster Size  3000  74378  2918  3134  3693  3659  3996  4373"
      ]
     },
     "execution_count": 23,
     "metadata": {},
     "output_type": "execute_result"
    }
   ],
   "source": [
    "kmcluster8 = kmlabels8r; clustersize = []\n",
    "for i in range(len(np.unique(kmcluster8))):\n",
    "    clustersize.append(len(kmcluster8[np.array(kmcluster8) == i]))\n",
    "pd.DataFrame(index = range(len(np.unique(kmcluster8))), columns = ['Cluster Size'], data = clustersize).transpose()"
   ]
  },
  {
   "cell_type": "code",
   "execution_count": 24,
   "metadata": {},
   "outputs": [
    {
     "name": "stdout",
     "output_type": "stream",
     "text": [
      "Top 20 terms per cluster: \n",
      "\n",
      "Cluster 0:\n"
     ]
    },
    {
     "data": {
      "text/html": [
       "<div>\n",
       "<table border=\"1\" class=\"dataframe\">\n",
       "  <thead>\n",
       "    <tr style=\"text-align: right;\">\n",
       "      <th></th>\n",
       "      <th>大統領</th>\n",
       "      <th>ロシア</th>\n",
       "      <th>ブッシュ</th>\n",
       "      <th>会談</th>\n",
       "      <th>ソ連</th>\n",
       "      <th>エリツィン</th>\n",
       "      <th>イラク</th>\n",
       "      <th>韓国</th>\n",
       "      <th>選</th>\n",
       "      <th>ゴルバチョフ</th>\n",
       "      <th>表明</th>\n",
       "      <th>来日</th>\n",
       "      <th>クリントン</th>\n",
       "      <th>演説</th>\n",
       "      <th>会見</th>\n",
       "      <th>軍</th>\n",
       "      <th>外相</th>\n",
       "      <th>訪日</th>\n",
       "      <th>フセイン</th>\n",
       "      <th>金</th>\n",
       "    </tr>\n",
       "  </thead>\n",
       "  <tbody>\n",
       "    <tr>\n",
       "      <th>20 highest component</th>\n",
       "      <td>1.039</td>\n",
       "      <td>0.142</td>\n",
       "      <td>0.12</td>\n",
       "      <td>0.105</td>\n",
       "      <td>0.105</td>\n",
       "      <td>0.095</td>\n",
       "      <td>0.093</td>\n",
       "      <td>0.086</td>\n",
       "      <td>0.075</td>\n",
       "      <td>0.073</td>\n",
       "      <td>0.072</td>\n",
       "      <td>0.056</td>\n",
       "      <td>0.055</td>\n",
       "      <td>0.05</td>\n",
       "      <td>0.045</td>\n",
       "      <td>0.041</td>\n",
       "      <td>0.04</td>\n",
       "      <td>0.04</td>\n",
       "      <td>0.038</td>\n",
       "      <td>0.037</td>\n",
       "    </tr>\n",
       "  </tbody>\n",
       "</table>\n",
       "</div>"
      ],
      "text/plain": [
       "                        大統領    ロシア  ブッシュ     会談     ソ連  エリツィン    イラク     韓国  \\\n",
       "20 highest component  1.039  0.142  0.12  0.105  0.105  0.095  0.093  0.086   \n",
       "\n",
       "                          選  ゴルバチョフ     表明     来日  クリントン    演説     会見      軍  \\\n",
       "20 highest component  0.075   0.073  0.072  0.056  0.055  0.05  0.045  0.041   \n",
       "\n",
       "                        外相    訪日   フセイン      金  \n",
       "20 highest component  0.04  0.04  0.038  0.037  "
      ]
     },
     "metadata": {},
     "output_type": "display_data"
    },
    {
     "name": "stdout",
     "output_type": "stream",
     "text": [
      "Cluster 1:\n"
     ]
    },
    {
     "data": {
      "text/html": [
       "<div>\n",
       "<table border=\"1\" class=\"dataframe\">\n",
       "  <thead>\n",
       "    <tr style=\"text-align: right;\">\n",
       "      <th></th>\n",
       "      <th>政府</th>\n",
       "      <th>億</th>\n",
       "      <th>日本</th>\n",
       "      <th>方針</th>\n",
       "      <th>案</th>\n",
       "      <th>東京</th>\n",
       "      <th>化</th>\n",
       "      <th>者</th>\n",
       "      <th>自民</th>\n",
       "      <th>事件</th>\n",
       "      <th>検討</th>\n",
       "      <th>する</th>\n",
       "      <th>改革</th>\n",
       "      <th>法</th>\n",
       "      <th>中国</th>\n",
       "      <th>．</th>\n",
       "      <th>合意</th>\n",
       "      <th>会議</th>\n",
       "      <th>党</th>\n",
       "      <th>委</th>\n",
       "    </tr>\n",
       "  </thead>\n",
       "  <tbody>\n",
       "    <tr>\n",
       "      <th>20 highest component</th>\n",
       "      <td>0.056</td>\n",
       "      <td>0.044</td>\n",
       "      <td>0.042</td>\n",
       "      <td>0.041</td>\n",
       "      <td>0.04</td>\n",
       "      <td>0.04</td>\n",
       "      <td>0.037</td>\n",
       "      <td>0.036</td>\n",
       "      <td>0.033</td>\n",
       "      <td>0.028</td>\n",
       "      <td>0.028</td>\n",
       "      <td>0.028</td>\n",
       "      <td>0.025</td>\n",
       "      <td>0.025</td>\n",
       "      <td>0.024</td>\n",
       "      <td>0.024</td>\n",
       "      <td>0.024</td>\n",
       "      <td>0.023</td>\n",
       "      <td>0.023</td>\n",
       "      <td>0.022</td>\n",
       "    </tr>\n",
       "  </tbody>\n",
       "</table>\n",
       "</div>"
      ],
      "text/plain": [
       "                         政府      億     日本     方針     案    東京      化      者  \\\n",
       "20 highest component  0.056  0.044  0.042  0.041  0.04  0.04  0.037  0.036   \n",
       "\n",
       "                         自民     事件     検討     する     改革      法     中国      ．  \\\n",
       "20 highest component  0.033  0.028  0.028  0.028  0.025  0.025  0.024  0.024   \n",
       "\n",
       "                         合意     会議      党      委  \n",
       "20 highest component  0.024  0.023  0.023  0.022  "
      ]
     },
     "metadata": {},
     "output_type": "display_data"
    },
    {
     "name": "stdout",
     "output_type": "stream",
     "text": [
      "Cluster 2:\n"
     ]
    },
    {
     "data": {
      "text/html": [
       "<div>\n",
       "<table border=\"1\" class=\"dataframe\">\n",
       "  <thead>\n",
       "    <tr style=\"text-align: right;\">\n",
       "      <th></th>\n",
       "      <th>選</th>\n",
       "      <th>自民</th>\n",
       "      <th>参院</th>\n",
       "      <th>衆院</th>\n",
       "      <th>総裁</th>\n",
       "      <th>知事</th>\n",
       "      <th>民主</th>\n",
       "      <th>党</th>\n",
       "      <th>投票</th>\n",
       "      <th>市長</th>\n",
       "      <th>出馬</th>\n",
       "      <th>きょう</th>\n",
       "      <th>代表</th>\n",
       "      <th>表明</th>\n",
       "      <th>調査</th>\n",
       "      <th>選挙</th>\n",
       "      <th>県</th>\n",
       "      <th>統一</th>\n",
       "      <th>告示</th>\n",
       "      <th>候補</th>\n",
       "    </tr>\n",
       "  </thead>\n",
       "  <tbody>\n",
       "    <tr>\n",
       "      <th>20 highest component</th>\n",
       "      <td>1.068</td>\n",
       "      <td>0.263</td>\n",
       "      <td>0.23</td>\n",
       "      <td>0.185</td>\n",
       "      <td>0.155</td>\n",
       "      <td>0.149</td>\n",
       "      <td>0.129</td>\n",
       "      <td>0.12</td>\n",
       "      <td>0.119</td>\n",
       "      <td>0.111</td>\n",
       "      <td>0.094</td>\n",
       "      <td>0.078</td>\n",
       "      <td>0.071</td>\n",
       "      <td>0.062</td>\n",
       "      <td>0.059</td>\n",
       "      <td>0.057</td>\n",
       "      <td>0.054</td>\n",
       "      <td>0.053</td>\n",
       "      <td>0.053</td>\n",
       "      <td>0.047</td>\n",
       "    </tr>\n",
       "  </tbody>\n",
       "</table>\n",
       "</div>"
      ],
      "text/plain": [
       "                          選     自民    参院     衆院     総裁     知事     民主     党  \\\n",
       "20 highest component  1.068  0.263  0.23  0.185  0.155  0.149  0.129  0.12   \n",
       "\n",
       "                         投票     市長     出馬    きょう     代表     表明     調査     選挙  \\\n",
       "20 highest component  0.119  0.111  0.094  0.078  0.071  0.062  0.059  0.057   \n",
       "\n",
       "                          県     統一     告示     候補  \n",
       "20 highest component  0.054  0.053  0.053  0.047  "
      ]
     },
     "metadata": {},
     "output_type": "display_data"
    },
    {
     "name": "stdout",
     "output_type": "stream",
     "text": [
      "Cluster 3:\n"
     ]
    },
    {
     "data": {
      "text/html": [
       "<div>\n",
       "<table border=\"1\" class=\"dataframe\">\n",
       "  <thead>\n",
       "    <tr style=\"text-align: right;\">\n",
       "      <th></th>\n",
       "      <th>会談</th>\n",
       "      <th>首脳</th>\n",
       "      <th>外相</th>\n",
       "      <th>合意</th>\n",
       "      <th>中</th>\n",
       "      <th>協議</th>\n",
       "      <th>会議</th>\n",
       "      <th>ソ</th>\n",
       "      <th>韓</th>\n",
       "      <th>北朝鮮</th>\n",
       "      <th>一致</th>\n",
       "      <th>表明</th>\n",
       "      <th>問題</th>\n",
       "      <th>中国</th>\n",
       "      <th>協力</th>\n",
       "      <th>大統領</th>\n",
       "      <th>党首</th>\n",
       "      <th>核</th>\n",
       "      <th>確認</th>\n",
       "      <th>共同</th>\n",
       "    </tr>\n",
       "  </thead>\n",
       "  <tbody>\n",
       "    <tr>\n",
       "      <th>20 highest component</th>\n",
       "      <td>0.788</td>\n",
       "      <td>0.599</td>\n",
       "      <td>0.133</td>\n",
       "      <td>0.119</td>\n",
       "      <td>0.104</td>\n",
       "      <td>0.096</td>\n",
       "      <td>0.088</td>\n",
       "      <td>0.082</td>\n",
       "      <td>0.079</td>\n",
       "      <td>0.074</td>\n",
       "      <td>0.069</td>\n",
       "      <td>0.06</td>\n",
       "      <td>0.057</td>\n",
       "      <td>0.056</td>\n",
       "      <td>0.055</td>\n",
       "      <td>0.053</td>\n",
       "      <td>0.053</td>\n",
       "      <td>0.052</td>\n",
       "      <td>0.051</td>\n",
       "      <td>0.048</td>\n",
       "    </tr>\n",
       "  </tbody>\n",
       "</table>\n",
       "</div>"
      ],
      "text/plain": [
       "                         会談     首脳     外相     合意      中     協議     会議      ソ  \\\n",
       "20 highest component  0.788  0.599  0.133  0.119  0.104  0.096  0.088  0.082   \n",
       "\n",
       "                          韓    北朝鮮     一致    表明     問題     中国     協力    大統領  \\\n",
       "20 highest component  0.079  0.074  0.069  0.06  0.057  0.056  0.055  0.053   \n",
       "\n",
       "                         党首      核     確認     共同  \n",
       "20 highest component  0.053  0.052  0.051  0.048  "
      ]
     },
     "metadata": {},
     "output_type": "display_data"
    },
    {
     "name": "stdout",
     "output_type": "stream",
     "text": [
      "Cluster 4:\n"
     ]
    },
    {
     "data": {
      "text/html": [
       "<div>\n",
       "<table border=\"1\" class=\"dataframe\">\n",
       "  <thead>\n",
       "    <tr style=\"text-align: right;\">\n",
       "      <th></th>\n",
       "      <th>万</th>\n",
       "      <th>億</th>\n",
       "      <th>東証</th>\n",
       "      <th>者</th>\n",
       "      <th>台</th>\n",
       "      <th>終値</th>\n",
       "      <th>東京</th>\n",
       "      <th>調査</th>\n",
       "      <th>件</th>\n",
       "      <th>．</th>\n",
       "      <th>容疑</th>\n",
       "      <th>株</th>\n",
       "      <th>千</th>\n",
       "      <th>数</th>\n",
       "      <th>逮捕</th>\n",
       "      <th>銭</th>\n",
       "      <th>省</th>\n",
       "      <th>社</th>\n",
       "      <th>政府</th>\n",
       "      <th>分</th>\n",
       "    </tr>\n",
       "  </thead>\n",
       "  <tbody>\n",
       "    <tr>\n",
       "      <th>20 highest component</th>\n",
       "      <td>1.06</td>\n",
       "      <td>0.1</td>\n",
       "      <td>0.075</td>\n",
       "      <td>0.062</td>\n",
       "      <td>0.06</td>\n",
       "      <td>0.06</td>\n",
       "      <td>0.057</td>\n",
       "      <td>0.053</td>\n",
       "      <td>0.053</td>\n",
       "      <td>0.046</td>\n",
       "      <td>0.046</td>\n",
       "      <td>0.044</td>\n",
       "      <td>0.041</td>\n",
       "      <td>0.04</td>\n",
       "      <td>0.04</td>\n",
       "      <td>0.037</td>\n",
       "      <td>0.035</td>\n",
       "      <td>0.034</td>\n",
       "      <td>0.034</td>\n",
       "      <td>0.034</td>\n",
       "    </tr>\n",
       "  </tbody>\n",
       "</table>\n",
       "</div>"
      ],
      "text/plain": [
       "                         万    億     東証      者     台    終値     東京     調査  \\\n",
       "20 highest component  1.06  0.1  0.075  0.062  0.06  0.06  0.057  0.053   \n",
       "\n",
       "                          件      ．     容疑      株      千     数    逮捕      銭  \\\n",
       "20 highest component  0.053  0.046  0.046  0.044  0.041  0.04  0.04  0.037   \n",
       "\n",
       "                          省      社     政府      分  \n",
       "20 highest component  0.035  0.034  0.034  0.034  "
      ]
     },
     "metadata": {},
     "output_type": "display_data"
    },
    {
     "name": "stdout",
     "output_type": "stream",
     "text": [
      "Cluster 5:\n"
     ]
    },
    {
     "data": {
      "text/html": [
       "<div>\n",
       "<table border=\"1\" class=\"dataframe\">\n",
       "  <thead>\n",
       "    <tr style=\"text-align: right;\">\n",
       "      <th></th>\n",
       "      <th>連載</th>\n",
       "      <th>部</th>\n",
       "      <th>日本</th>\n",
       "      <th>上</th>\n",
       "      <th>中</th>\n",
       "      <th>世界</th>\n",
       "      <th>下</th>\n",
       "      <th>政治</th>\n",
       "      <th>する</th>\n",
       "      <th>経済</th>\n",
       "      <th>危機</th>\n",
       "      <th>化</th>\n",
       "      <th>改革</th>\n",
       "      <th>時代</th>\n",
       "      <th>中国</th>\n",
       "      <th>環境</th>\n",
       "      <th>変わる</th>\n",
       "      <th>社会</th>\n",
       "      <th>再生</th>\n",
       "      <th>地球</th>\n",
       "    </tr>\n",
       "  </thead>\n",
       "  <tbody>\n",
       "    <tr>\n",
       "      <th>20 highest component</th>\n",
       "      <td>1.0</td>\n",
       "      <td>0.204</td>\n",
       "      <td>0.128</td>\n",
       "      <td>0.1</td>\n",
       "      <td>0.087</td>\n",
       "      <td>0.086</td>\n",
       "      <td>0.079</td>\n",
       "      <td>0.06</td>\n",
       "      <td>0.057</td>\n",
       "      <td>0.054</td>\n",
       "      <td>0.054</td>\n",
       "      <td>0.052</td>\n",
       "      <td>0.052</td>\n",
       "      <td>0.046</td>\n",
       "      <td>0.046</td>\n",
       "      <td>0.045</td>\n",
       "      <td>0.043</td>\n",
       "      <td>0.041</td>\n",
       "      <td>0.04</td>\n",
       "      <td>0.04</td>\n",
       "    </tr>\n",
       "  </tbody>\n",
       "</table>\n",
       "</div>"
      ],
      "text/plain": [
       "                       連載      部     日本    上      中     世界      下    政治  \\\n",
       "20 highest component  1.0  0.204  0.128  0.1  0.087  0.086  0.079  0.06   \n",
       "\n",
       "                         する     経済     危機      化     改革     時代     中国     環境  \\\n",
       "20 highest component  0.057  0.054  0.054  0.052  0.052  0.046  0.046  0.045   \n",
       "\n",
       "                        変わる     社会    再生    地球  \n",
       "20 highest component  0.043  0.041  0.04  0.04  "
      ]
     },
     "metadata": {},
     "output_type": "display_data"
    },
    {
     "name": "stdout",
     "output_type": "stream",
     "text": [
      "Cluster 6:\n"
     ]
    },
    {
     "data": {
      "text/html": [
       "<div>\n",
       "<table border=\"1\" class=\"dataframe\">\n",
       "  <thead>\n",
       "    <tr style=\"text-align: right;\">\n",
       "      <th></th>\n",
       "      <th>調査</th>\n",
       "      <th>世論</th>\n",
       "      <th>朝日新聞社</th>\n",
       "      <th>読売新聞社</th>\n",
       "      <th>割</th>\n",
       "      <th>支持</th>\n",
       "      <th>内閣</th>\n",
       "      <th>全国</th>\n",
       "      <th>社</th>\n",
       "      <th>省</th>\n",
       "      <th>率</th>\n",
       "      <th>自民</th>\n",
       "      <th>．</th>\n",
       "      <th>する</th>\n",
       "      <th>会</th>\n",
       "      <th>読売新聞</th>\n",
       "      <th>委</th>\n",
       "      <th>者</th>\n",
       "      <th>本社</th>\n",
       "      <th>日本</th>\n",
       "    </tr>\n",
       "  </thead>\n",
       "  <tbody>\n",
       "    <tr>\n",
       "      <th>20 highest component</th>\n",
       "      <td>1.006</td>\n",
       "      <td>0.311</td>\n",
       "      <td>0.167</td>\n",
       "      <td>0.159</td>\n",
       "      <td>0.15</td>\n",
       "      <td>0.139</td>\n",
       "      <td>0.11</td>\n",
       "      <td>0.102</td>\n",
       "      <td>0.061</td>\n",
       "      <td>0.056</td>\n",
       "      <td>0.05</td>\n",
       "      <td>0.046</td>\n",
       "      <td>0.046</td>\n",
       "      <td>0.042</td>\n",
       "      <td>0.041</td>\n",
       "      <td>0.041</td>\n",
       "      <td>0.041</td>\n",
       "      <td>0.04</td>\n",
       "      <td>0.039</td>\n",
       "      <td>0.038</td>\n",
       "    </tr>\n",
       "  </tbody>\n",
       "</table>\n",
       "</div>"
      ],
      "text/plain": [
       "                         調査     世論  朝日新聞社  読売新聞社     割     支持    内閣     全国  \\\n",
       "20 highest component  1.006  0.311  0.167  0.159  0.15  0.139  0.11  0.102   \n",
       "\n",
       "                          社      省     率     自民      ．     する      会   読売新聞  \\\n",
       "20 highest component  0.061  0.056  0.05  0.046  0.046  0.042  0.041  0.041   \n",
       "\n",
       "                          委     者     本社     日本  \n",
       "20 highest component  0.041  0.04  0.039  0.038  "
      ]
     },
     "metadata": {},
     "output_type": "display_data"
    },
    {
     "name": "stdout",
     "output_type": "stream",
     "text": [
      "Cluster 7:\n"
     ]
    },
    {
     "data": {
      "text/html": [
       "<div>\n",
       "<table border=\"1\" class=\"dataframe\">\n",
       "  <thead>\n",
       "    <tr style=\"text-align: right;\">\n",
       "      <th></th>\n",
       "      <th>きょう</th>\n",
       "      <th>問題</th>\n",
       "      <th>協議</th>\n",
       "      <th>案</th>\n",
       "      <th>委</th>\n",
       "      <th>衆院</th>\n",
       "      <th>政府</th>\n",
       "      <th>決定</th>\n",
       "      <th>自民</th>\n",
       "      <th>北朝鮮</th>\n",
       "      <th>予算</th>\n",
       "      <th>会議</th>\n",
       "      <th>東京</th>\n",
       "      <th>ら</th>\n",
       "      <th>開幕</th>\n",
       "      <th>法案</th>\n",
       "      <th>合意</th>\n",
       "      <th>党</th>\n",
       "      <th>核</th>\n",
       "      <th>国会</th>\n",
       "    </tr>\n",
       "  </thead>\n",
       "  <tbody>\n",
       "    <tr>\n",
       "      <th>20 highest component</th>\n",
       "      <td>0.619</td>\n",
       "      <td>0.406</td>\n",
       "      <td>0.071</td>\n",
       "      <td>0.058</td>\n",
       "      <td>0.058</td>\n",
       "      <td>0.056</td>\n",
       "      <td>0.044</td>\n",
       "      <td>0.043</td>\n",
       "      <td>0.043</td>\n",
       "      <td>0.041</td>\n",
       "      <td>0.04</td>\n",
       "      <td>0.038</td>\n",
       "      <td>0.037</td>\n",
       "      <td>0.034</td>\n",
       "      <td>0.034</td>\n",
       "      <td>0.034</td>\n",
       "      <td>0.032</td>\n",
       "      <td>0.031</td>\n",
       "      <td>0.031</td>\n",
       "      <td>0.031</td>\n",
       "    </tr>\n",
       "  </tbody>\n",
       "</table>\n",
       "</div>"
      ],
      "text/plain": [
       "                        きょう     問題     協議      案      委     衆院     政府     決定  \\\n",
       "20 highest component  0.619  0.406  0.071  0.058  0.058  0.056  0.044  0.043   \n",
       "\n",
       "                         自民    北朝鮮    予算     会議     東京      ら     開幕     法案  \\\n",
       "20 highest component  0.043  0.041  0.04  0.038  0.037  0.034  0.034  0.034   \n",
       "\n",
       "                         合意      党      核     国会  \n",
       "20 highest component  0.032  0.031  0.031  0.031  "
      ]
     },
     "metadata": {},
     "output_type": "display_data"
    }
   ],
   "source": [
    "print(\"Top 20 terms per cluster: \\n\")\n",
    "\n",
    "for a in range(8):\n",
    "    print(\"Cluster %d:\" % a)\n",
    "    high20 = []\n",
    "    cent20 = []\n",
    "    for b in order_centroids8r[a, :20]:\n",
    "        high20.append(words[b])\n",
    "        cent20.append(kmresult8r.cluster_centers_[a,b])\n",
    "    comptable8 = pd.DataFrame(index = high20, columns = ['20 highest component'], data = np.round(cent20,3))\n",
    "    comptable8 = comptable8.transpose()\n",
    "    display(comptable8)"
   ]
  },
  {
   "cell_type": "markdown",
   "metadata": {},
   "source": [
    "## We need to rewrite this part. Could you please do it? Or we can talk about it.\n",
    "\n",
    "I would name clusters as following:\n",
    "\n",
    "* Cluster 0: **General** (Remaining Category)\n",
    "* Cluster 1: **Crime** ( \"地検\" (district prosecutor's office), \"容疑\" (crime charge), \"地裁\" (district court), \"事件\" (affair or incident), \"逮捕\" (arrest), \"捜査\" (investigation) ...)\n",
    "* Cluster 2: **Politics** ( \"案\" (plan. often used in context of government plan, such as 予算案 (budget pllan), 法案 (bill)), \"政府\" (government), \"自民\" (Liberal Democratic Party, often the case cabinet party), \"改革\" (reform) , \"衆院\" (House of Representatives, lower house in Japan), \"与党\" (cabinet party)...)\n",
    "* Cluster 3: **Economy** ( \"万\" (ten thousand), \"億\" (billion), \"東証\" (Tokyo stock market), \"終値\" (end price, i.e., stock price), \"株\" (stock), \"社\" (company), \"年金\" (pension program)...)"
   ]
  },
  {
   "cell_type": "code",
   "execution_count": 153,
   "metadata": {},
   "outputs": [
    {
     "name": "stdout",
     "output_type": "stream",
     "text": [
      "Computation time is 0.204 seconds\n"
     ]
    }
   ],
   "source": [
    "## We need to redo this part but we don't have to do it now. Your thought?\n",
    "\n",
    "start = trec() \n",
    "\n",
    "saveres = kmlabels4r\n",
    "\n",
    "saveres[np.array(saveres)==0] = \"General\"\n",
    "saveres[np.array(saveres)==1] = \"Crime\"\n",
    "saveres[np.array(saveres)==2] = \"Politics\"\n",
    "saveres[np.array(saveres)==3] = \"Economy\"\n",
    "\n",
    "saveres = pd.DataFrame(saveres)\n",
    "saveres.to_csv('../../data/kmlabels4_reduced.csv')\n",
    "\n",
    "time = trec() - start\n",
    "print('Computation time is %0.3f seconds' % time)"
   ]
  },
  {
   "cell_type": "markdown",
   "metadata": {},
   "source": [
    "*9 clusters*"
   ]
  },
  {
   "cell_type": "code",
   "execution_count": 25,
   "metadata": {},
   "outputs": [
    {
     "name": "stdout",
     "output_type": "stream",
     "text": [
      "Computation time is 188.829 seconds\n"
     ]
    }
   ],
   "source": [
    "start = trec() \n",
    "\n",
    "kmeans9r = KMeans(n_clusters=9, random_state=0, n_jobs=-1, n_init=10, max_iter=250)\n",
    "kmresult9r = kmeans9r.fit(X_reduced)\n",
    "kmlabels9r = kmresult9r.predict(X_reduced)\n",
    "words = allWrdMat10_reduced.columns\n",
    "\n",
    "order_centroids9r = kmresult9r.cluster_centers_.argsort()[:, ::-1]\n",
    "\n",
    "time = trec() - start\n",
    "print('Computation time is %0.3f seconds' % time)"
   ]
  },
  {
   "cell_type": "code",
   "execution_count": 27,
   "metadata": {},
   "outputs": [
    {
     "data": {
      "text/html": [
       "<div>\n",
       "<table border=\"1\" class=\"dataframe\">\n",
       "  <thead>\n",
       "    <tr style=\"text-align: right;\">\n",
       "      <th></th>\n",
       "      <th>0</th>\n",
       "      <th>1</th>\n",
       "      <th>2</th>\n",
       "      <th>3</th>\n",
       "      <th>4</th>\n",
       "      <th>5</th>\n",
       "      <th>6</th>\n",
       "      <th>7</th>\n",
       "      <th>8</th>\n",
       "    </tr>\n",
       "  </thead>\n",
       "  <tbody>\n",
       "    <tr>\n",
       "      <th>Cluster Size</th>\n",
       "      <td>2967</td>\n",
       "      <td>72922</td>\n",
       "      <td>2913</td>\n",
       "      <td>2558</td>\n",
       "      <td>3654</td>\n",
       "      <td>3550</td>\n",
       "      <td>3935</td>\n",
       "      <td>4221</td>\n",
       "      <td>2431</td>\n",
       "    </tr>\n",
       "  </tbody>\n",
       "</table>\n",
       "</div>"
      ],
      "text/plain": [
       "                 0      1     2     3     4     5     6     7     8\n",
       "Cluster Size  2967  72922  2913  2558  3654  3550  3935  4221  2431"
      ]
     },
     "execution_count": 27,
     "metadata": {},
     "output_type": "execute_result"
    }
   ],
   "source": [
    "kmcluster9 = kmlabels9r; clustersize = []\n",
    "for i in range(len(np.unique(kmcluster9))):\n",
    "    clustersize.append(len(kmcluster9[np.array(kmcluster9) == i]))\n",
    "pd.DataFrame(index = range(len(np.unique(kmcluster9))), columns = ['Cluster Size'], data = clustersize).transpose()"
   ]
  },
  {
   "cell_type": "code",
   "execution_count": 28,
   "metadata": {},
   "outputs": [
    {
     "name": "stdout",
     "output_type": "stream",
     "text": [
      "Top 20 terms per cluster: \n",
      "\n",
      "Cluster 0:\n"
     ]
    },
    {
     "data": {
      "text/html": [
       "<div>\n",
       "<table border=\"1\" class=\"dataframe\">\n",
       "  <thead>\n",
       "    <tr style=\"text-align: right;\">\n",
       "      <th></th>\n",
       "      <th>大統領</th>\n",
       "      <th>ロシア</th>\n",
       "      <th>ブッシュ</th>\n",
       "      <th>ソ連</th>\n",
       "      <th>会談</th>\n",
       "      <th>エリツィン</th>\n",
       "      <th>イラク</th>\n",
       "      <th>韓国</th>\n",
       "      <th>選</th>\n",
       "      <th>ゴルバチョフ</th>\n",
       "      <th>表明</th>\n",
       "      <th>クリントン</th>\n",
       "      <th>来日</th>\n",
       "      <th>演説</th>\n",
       "      <th>会見</th>\n",
       "      <th>軍</th>\n",
       "      <th>訪日</th>\n",
       "      <th>フセイン</th>\n",
       "      <th>外相</th>\n",
       "      <th>金</th>\n",
       "    </tr>\n",
       "  </thead>\n",
       "  <tbody>\n",
       "    <tr>\n",
       "      <th>20 highest component</th>\n",
       "      <td>1.04</td>\n",
       "      <td>0.144</td>\n",
       "      <td>0.121</td>\n",
       "      <td>0.106</td>\n",
       "      <td>0.102</td>\n",
       "      <td>0.095</td>\n",
       "      <td>0.094</td>\n",
       "      <td>0.087</td>\n",
       "      <td>0.076</td>\n",
       "      <td>0.073</td>\n",
       "      <td>0.072</td>\n",
       "      <td>0.056</td>\n",
       "      <td>0.056</td>\n",
       "      <td>0.051</td>\n",
       "      <td>0.045</td>\n",
       "      <td>0.042</td>\n",
       "      <td>0.04</td>\n",
       "      <td>0.038</td>\n",
       "      <td>0.038</td>\n",
       "      <td>0.037</td>\n",
       "    </tr>\n",
       "  </tbody>\n",
       "</table>\n",
       "</div>"
      ],
      "text/plain": [
       "                       大統領    ロシア   ブッシュ     ソ連     会談  エリツィン    イラク     韓国  \\\n",
       "20 highest component  1.04  0.144  0.121  0.106  0.102  0.095  0.094  0.087   \n",
       "\n",
       "                          選  ゴルバチョフ     表明  クリントン     来日     演説     会見      軍  \\\n",
       "20 highest component  0.076   0.073  0.072  0.056  0.056  0.051  0.045  0.042   \n",
       "\n",
       "                        訪日   フセイン     外相      金  \n",
       "20 highest component  0.04  0.038  0.038  0.037  "
      ]
     },
     "metadata": {},
     "output_type": "display_data"
    },
    {
     "name": "stdout",
     "output_type": "stream",
     "text": [
      "Cluster 1:\n"
     ]
    },
    {
     "data": {
      "text/html": [
       "<div>\n",
       "<table border=\"1\" class=\"dataframe\">\n",
       "  <thead>\n",
       "    <tr style=\"text-align: right;\">\n",
       "      <th></th>\n",
       "      <th>政府</th>\n",
       "      <th>億</th>\n",
       "      <th>日本</th>\n",
       "      <th>案</th>\n",
       "      <th>方針</th>\n",
       "      <th>東京</th>\n",
       "      <th>化</th>\n",
       "      <th>者</th>\n",
       "      <th>自民</th>\n",
       "      <th>検討</th>\n",
       "      <th>事件</th>\n",
       "      <th>会議</th>\n",
       "      <th>改革</th>\n",
       "      <th>法</th>\n",
       "      <th>合意</th>\n",
       "      <th>中国</th>\n",
       "      <th>．</th>\n",
       "      <th>党</th>\n",
       "      <th>ら</th>\n",
       "      <th>委</th>\n",
       "    </tr>\n",
       "  </thead>\n",
       "  <tbody>\n",
       "    <tr>\n",
       "      <th>20 highest component</th>\n",
       "      <td>0.056</td>\n",
       "      <td>0.045</td>\n",
       "      <td>0.042</td>\n",
       "      <td>0.04</td>\n",
       "      <td>0.04</td>\n",
       "      <td>0.04</td>\n",
       "      <td>0.037</td>\n",
       "      <td>0.035</td>\n",
       "      <td>0.033</td>\n",
       "      <td>0.028</td>\n",
       "      <td>0.028</td>\n",
       "      <td>0.026</td>\n",
       "      <td>0.025</td>\n",
       "      <td>0.025</td>\n",
       "      <td>0.024</td>\n",
       "      <td>0.024</td>\n",
       "      <td>0.024</td>\n",
       "      <td>0.023</td>\n",
       "      <td>0.022</td>\n",
       "      <td>0.022</td>\n",
       "    </tr>\n",
       "  </tbody>\n",
       "</table>\n",
       "</div>"
      ],
      "text/plain": [
       "                         政府      億     日本     案    方針    東京      化      者  \\\n",
       "20 highest component  0.056  0.045  0.042  0.04  0.04  0.04  0.037  0.035   \n",
       "\n",
       "                         自民     検討     事件     会議     改革      法     合意     中国  \\\n",
       "20 highest component  0.033  0.028  0.028  0.026  0.025  0.025  0.024  0.024   \n",
       "\n",
       "                          ．      党      ら      委  \n",
       "20 highest component  0.024  0.023  0.022  0.022  "
      ]
     },
     "metadata": {},
     "output_type": "display_data"
    },
    {
     "name": "stdout",
     "output_type": "stream",
     "text": [
      "Cluster 2:\n"
     ]
    },
    {
     "data": {
      "text/html": [
       "<div>\n",
       "<table border=\"1\" class=\"dataframe\">\n",
       "  <thead>\n",
       "    <tr style=\"text-align: right;\">\n",
       "      <th></th>\n",
       "      <th>選</th>\n",
       "      <th>自民</th>\n",
       "      <th>参院</th>\n",
       "      <th>衆院</th>\n",
       "      <th>総裁</th>\n",
       "      <th>知事</th>\n",
       "      <th>民主</th>\n",
       "      <th>党</th>\n",
       "      <th>投票</th>\n",
       "      <th>市長</th>\n",
       "      <th>出馬</th>\n",
       "      <th>きょう</th>\n",
       "      <th>代表</th>\n",
       "      <th>表明</th>\n",
       "      <th>調査</th>\n",
       "      <th>選挙</th>\n",
       "      <th>県</th>\n",
       "      <th>告示</th>\n",
       "      <th>統一</th>\n",
       "      <th>候補</th>\n",
       "    </tr>\n",
       "  </thead>\n",
       "  <tbody>\n",
       "    <tr>\n",
       "      <th>20 highest component</th>\n",
       "      <td>1.068</td>\n",
       "      <td>0.263</td>\n",
       "      <td>0.23</td>\n",
       "      <td>0.184</td>\n",
       "      <td>0.155</td>\n",
       "      <td>0.15</td>\n",
       "      <td>0.129</td>\n",
       "      <td>0.12</td>\n",
       "      <td>0.119</td>\n",
       "      <td>0.111</td>\n",
       "      <td>0.094</td>\n",
       "      <td>0.079</td>\n",
       "      <td>0.071</td>\n",
       "      <td>0.062</td>\n",
       "      <td>0.058</td>\n",
       "      <td>0.057</td>\n",
       "      <td>0.055</td>\n",
       "      <td>0.054</td>\n",
       "      <td>0.054</td>\n",
       "      <td>0.047</td>\n",
       "    </tr>\n",
       "  </tbody>\n",
       "</table>\n",
       "</div>"
      ],
      "text/plain": [
       "                          選     自民    参院     衆院     総裁    知事     民主     党  \\\n",
       "20 highest component  1.068  0.263  0.23  0.184  0.155  0.15  0.129  0.12   \n",
       "\n",
       "                         投票     市長     出馬    きょう     代表     表明     調査     選挙  \\\n",
       "20 highest component  0.119  0.111  0.094  0.079  0.071  0.062  0.058  0.057   \n",
       "\n",
       "                          県     告示     統一     候補  \n",
       "20 highest component  0.055  0.054  0.054  0.047  "
      ]
     },
     "metadata": {},
     "output_type": "display_data"
    },
    {
     "name": "stdout",
     "output_type": "stream",
     "text": [
      "Cluster 3:\n"
     ]
    },
    {
     "data": {
      "text/html": [
       "<div>\n",
       "<table border=\"1\" class=\"dataframe\">\n",
       "  <thead>\n",
       "    <tr style=\"text-align: right;\">\n",
       "      <th></th>\n",
       "      <th>会談</th>\n",
       "      <th>首脳</th>\n",
       "      <th>外相</th>\n",
       "      <th>合意</th>\n",
       "      <th>中</th>\n",
       "      <th>協議</th>\n",
       "      <th>ソ</th>\n",
       "      <th>韓</th>\n",
       "      <th>北朝鮮</th>\n",
       "      <th>党首</th>\n",
       "      <th>一致</th>\n",
       "      <th>大統領</th>\n",
       "      <th>きょう</th>\n",
       "      <th>表明</th>\n",
       "      <th>問題</th>\n",
       "      <th>中国</th>\n",
       "      <th>核</th>\n",
       "      <th>協力</th>\n",
       "      <th>確認</th>\n",
       "      <th>朝</th>\n",
       "    </tr>\n",
       "  </thead>\n",
       "  <tbody>\n",
       "    <tr>\n",
       "      <th>20 highest component</th>\n",
       "      <td>0.997</td>\n",
       "      <td>0.477</td>\n",
       "      <td>0.164</td>\n",
       "      <td>0.12</td>\n",
       "      <td>0.116</td>\n",
       "      <td>0.109</td>\n",
       "      <td>0.098</td>\n",
       "      <td>0.088</td>\n",
       "      <td>0.08</td>\n",
       "      <td>0.074</td>\n",
       "      <td>0.073</td>\n",
       "      <td>0.07</td>\n",
       "      <td>0.067</td>\n",
       "      <td>0.064</td>\n",
       "      <td>0.062</td>\n",
       "      <td>0.061</td>\n",
       "      <td>0.054</td>\n",
       "      <td>0.052</td>\n",
       "      <td>0.052</td>\n",
       "      <td>0.048</td>\n",
       "    </tr>\n",
       "  </tbody>\n",
       "</table>\n",
       "</div>"
      ],
      "text/plain": [
       "                         会談     首脳     外相    合意      中     協議      ソ      韓  \\\n",
       "20 highest component  0.997  0.477  0.164  0.12  0.116  0.109  0.098  0.088   \n",
       "\n",
       "                       北朝鮮     党首     一致   大統領    きょう     表明     問題     中国  \\\n",
       "20 highest component  0.08  0.074  0.073  0.07  0.067  0.064  0.062  0.061   \n",
       "\n",
       "                          核     協力     確認      朝  \n",
       "20 highest component  0.054  0.052  0.052  0.048  "
      ]
     },
     "metadata": {},
     "output_type": "display_data"
    },
    {
     "name": "stdout",
     "output_type": "stream",
     "text": [
      "Cluster 4:\n"
     ]
    },
    {
     "data": {
      "text/html": [
       "<div>\n",
       "<table border=\"1\" class=\"dataframe\">\n",
       "  <thead>\n",
       "    <tr style=\"text-align: right;\">\n",
       "      <th></th>\n",
       "      <th>万</th>\n",
       "      <th>億</th>\n",
       "      <th>東証</th>\n",
       "      <th>者</th>\n",
       "      <th>台</th>\n",
       "      <th>終値</th>\n",
       "      <th>東京</th>\n",
       "      <th>調査</th>\n",
       "      <th>件</th>\n",
       "      <th>．</th>\n",
       "      <th>容疑</th>\n",
       "      <th>株</th>\n",
       "      <th>千</th>\n",
       "      <th>数</th>\n",
       "      <th>逮捕</th>\n",
       "      <th>銭</th>\n",
       "      <th>省</th>\n",
       "      <th>社</th>\n",
       "      <th>政府</th>\n",
       "      <th>分</th>\n",
       "    </tr>\n",
       "  </thead>\n",
       "  <tbody>\n",
       "    <tr>\n",
       "      <th>20 highest component</th>\n",
       "      <td>1.061</td>\n",
       "      <td>0.101</td>\n",
       "      <td>0.076</td>\n",
       "      <td>0.062</td>\n",
       "      <td>0.06</td>\n",
       "      <td>0.06</td>\n",
       "      <td>0.057</td>\n",
       "      <td>0.053</td>\n",
       "      <td>0.053</td>\n",
       "      <td>0.046</td>\n",
       "      <td>0.046</td>\n",
       "      <td>0.044</td>\n",
       "      <td>0.042</td>\n",
       "      <td>0.04</td>\n",
       "      <td>0.04</td>\n",
       "      <td>0.038</td>\n",
       "      <td>0.036</td>\n",
       "      <td>0.035</td>\n",
       "      <td>0.034</td>\n",
       "      <td>0.034</td>\n",
       "    </tr>\n",
       "  </tbody>\n",
       "</table>\n",
       "</div>"
      ],
      "text/plain": [
       "                          万      億     東証      者     台    終値     東京     調査  \\\n",
       "20 highest component  1.061  0.101  0.076  0.062  0.06  0.06  0.057  0.053   \n",
       "\n",
       "                          件      ．     容疑      株      千     数    逮捕      銭  \\\n",
       "20 highest component  0.053  0.046  0.046  0.044  0.042  0.04  0.04  0.038   \n",
       "\n",
       "                          省      社     政府      分  \n",
       "20 highest component  0.036  0.035  0.034  0.034  "
      ]
     },
     "metadata": {},
     "output_type": "display_data"
    },
    {
     "name": "stdout",
     "output_type": "stream",
     "text": [
      "Cluster 5:\n"
     ]
    },
    {
     "data": {
      "text/html": [
       "<div>\n",
       "<table border=\"1\" class=\"dataframe\">\n",
       "  <thead>\n",
       "    <tr style=\"text-align: right;\">\n",
       "      <th></th>\n",
       "      <th>連載</th>\n",
       "      <th>部</th>\n",
       "      <th>日本</th>\n",
       "      <th>上</th>\n",
       "      <th>中</th>\n",
       "      <th>世界</th>\n",
       "      <th>下</th>\n",
       "      <th>政治</th>\n",
       "      <th>経済</th>\n",
       "      <th>危機</th>\n",
       "      <th>化</th>\n",
       "      <th>改革</th>\n",
       "      <th>時代</th>\n",
       "      <th>変わる</th>\n",
       "      <th>中国</th>\n",
       "      <th>社会</th>\n",
       "      <th>再生</th>\n",
       "      <th>環境</th>\n",
       "      <th>地球</th>\n",
       "      <th>世紀</th>\n",
       "    </tr>\n",
       "  </thead>\n",
       "  <tbody>\n",
       "    <tr>\n",
       "      <th>20 highest component</th>\n",
       "      <td>1.0</td>\n",
       "      <td>0.21</td>\n",
       "      <td>0.132</td>\n",
       "      <td>0.102</td>\n",
       "      <td>0.09</td>\n",
       "      <td>0.088</td>\n",
       "      <td>0.081</td>\n",
       "      <td>0.059</td>\n",
       "      <td>0.056</td>\n",
       "      <td>0.054</td>\n",
       "      <td>0.052</td>\n",
       "      <td>0.052</td>\n",
       "      <td>0.047</td>\n",
       "      <td>0.045</td>\n",
       "      <td>0.042</td>\n",
       "      <td>0.042</td>\n",
       "      <td>0.041</td>\n",
       "      <td>0.041</td>\n",
       "      <td>0.04</td>\n",
       "      <td>0.034</td>\n",
       "    </tr>\n",
       "  </tbody>\n",
       "</table>\n",
       "</div>"
      ],
      "text/plain": [
       "                       連載     部     日本      上     中     世界      下     政治  \\\n",
       "20 highest component  1.0  0.21  0.132  0.102  0.09  0.088  0.081  0.059   \n",
       "\n",
       "                         経済     危機      化     改革     時代    変わる     中国     社会  \\\n",
       "20 highest component  0.056  0.054  0.052  0.052  0.047  0.045  0.042  0.042   \n",
       "\n",
       "                         再生     環境    地球     世紀  \n",
       "20 highest component  0.041  0.041  0.04  0.034  "
      ]
     },
     "metadata": {},
     "output_type": "display_data"
    },
    {
     "name": "stdout",
     "output_type": "stream",
     "text": [
      "Cluster 6:\n"
     ]
    },
    {
     "data": {
      "text/html": [
       "<div>\n",
       "<table border=\"1\" class=\"dataframe\">\n",
       "  <thead>\n",
       "    <tr style=\"text-align: right;\">\n",
       "      <th></th>\n",
       "      <th>調査</th>\n",
       "      <th>世論</th>\n",
       "      <th>朝日新聞社</th>\n",
       "      <th>読売新聞社</th>\n",
       "      <th>割</th>\n",
       "      <th>支持</th>\n",
       "      <th>内閣</th>\n",
       "      <th>全国</th>\n",
       "      <th>社</th>\n",
       "      <th>省</th>\n",
       "      <th>率</th>\n",
       "      <th>．</th>\n",
       "      <th>自民</th>\n",
       "      <th>読売新聞</th>\n",
       "      <th>者</th>\n",
       "      <th>会</th>\n",
       "      <th>委</th>\n",
       "      <th>本社</th>\n",
       "      <th>日本</th>\n",
       "      <th>評価</th>\n",
       "    </tr>\n",
       "  </thead>\n",
       "  <tbody>\n",
       "    <tr>\n",
       "      <th>20 highest component</th>\n",
       "      <td>1.006</td>\n",
       "      <td>0.315</td>\n",
       "      <td>0.17</td>\n",
       "      <td>0.161</td>\n",
       "      <td>0.153</td>\n",
       "      <td>0.142</td>\n",
       "      <td>0.111</td>\n",
       "      <td>0.103</td>\n",
       "      <td>0.061</td>\n",
       "      <td>0.056</td>\n",
       "      <td>0.05</td>\n",
       "      <td>0.047</td>\n",
       "      <td>0.047</td>\n",
       "      <td>0.042</td>\n",
       "      <td>0.04</td>\n",
       "      <td>0.04</td>\n",
       "      <td>0.04</td>\n",
       "      <td>0.04</td>\n",
       "      <td>0.038</td>\n",
       "      <td>0.034</td>\n",
       "    </tr>\n",
       "  </tbody>\n",
       "</table>\n",
       "</div>"
      ],
      "text/plain": [
       "                         調査     世論  朝日新聞社  読売新聞社      割     支持     内閣     全国  \\\n",
       "20 highest component  1.006  0.315   0.17  0.161  0.153  0.142  0.111  0.103   \n",
       "\n",
       "                          社      省     率      ．     自民   読売新聞     者     会  \\\n",
       "20 highest component  0.061  0.056  0.05  0.047  0.047  0.042  0.04  0.04   \n",
       "\n",
       "                         委    本社     日本     評価  \n",
       "20 highest component  0.04  0.04  0.038  0.034  "
      ]
     },
     "metadata": {},
     "output_type": "display_data"
    },
    {
     "name": "stdout",
     "output_type": "stream",
     "text": [
      "Cluster 7:\n"
     ]
    },
    {
     "data": {
      "text/html": [
       "<div>\n",
       "<table border=\"1\" class=\"dataframe\">\n",
       "  <thead>\n",
       "    <tr style=\"text-align: right;\">\n",
       "      <th></th>\n",
       "      <th>きょう</th>\n",
       "      <th>問題</th>\n",
       "      <th>協議</th>\n",
       "      <th>案</th>\n",
       "      <th>委</th>\n",
       "      <th>衆院</th>\n",
       "      <th>政府</th>\n",
       "      <th>決定</th>\n",
       "      <th>北朝鮮</th>\n",
       "      <th>自民</th>\n",
       "      <th>会議</th>\n",
       "      <th>予算</th>\n",
       "      <th>東京</th>\n",
       "      <th>開幕</th>\n",
       "      <th>ら</th>\n",
       "      <th>法案</th>\n",
       "      <th>核</th>\n",
       "      <th>合意</th>\n",
       "      <th>国会</th>\n",
       "      <th>党</th>\n",
       "    </tr>\n",
       "  </thead>\n",
       "  <tbody>\n",
       "    <tr>\n",
       "      <th>20 highest component</th>\n",
       "      <td>0.616</td>\n",
       "      <td>0.41</td>\n",
       "      <td>0.072</td>\n",
       "      <td>0.06</td>\n",
       "      <td>0.059</td>\n",
       "      <td>0.057</td>\n",
       "      <td>0.045</td>\n",
       "      <td>0.043</td>\n",
       "      <td>0.043</td>\n",
       "      <td>0.042</td>\n",
       "      <td>0.04</td>\n",
       "      <td>0.04</td>\n",
       "      <td>0.037</td>\n",
       "      <td>0.035</td>\n",
       "      <td>0.035</td>\n",
       "      <td>0.034</td>\n",
       "      <td>0.033</td>\n",
       "      <td>0.033</td>\n",
       "      <td>0.031</td>\n",
       "      <td>0.031</td>\n",
       "    </tr>\n",
       "  </tbody>\n",
       "</table>\n",
       "</div>"
      ],
      "text/plain": [
       "                        きょう    問題     協議     案      委     衆院     政府     決定  \\\n",
       "20 highest component  0.616  0.41  0.072  0.06  0.059  0.057  0.045  0.043   \n",
       "\n",
       "                        北朝鮮     自民    会議    予算     東京     開幕      ら     法案  \\\n",
       "20 highest component  0.043  0.042  0.04  0.04  0.037  0.035  0.035  0.034   \n",
       "\n",
       "                          核     合意     国会      党  \n",
       "20 highest component  0.033  0.033  0.031  0.031  "
      ]
     },
     "metadata": {},
     "output_type": "display_data"
    },
    {
     "name": "stdout",
     "output_type": "stream",
     "text": [
      "Cluster 8:\n"
     ]
    },
    {
     "data": {
      "text/html": [
       "<div>\n",
       "<table border=\"1\" class=\"dataframe\">\n",
       "  <thead>\n",
       "    <tr style=\"text-align: right;\">\n",
       "      <th></th>\n",
       "      <th>する</th>\n",
       "      <th>れる</th>\n",
       "      <th>政府</th>\n",
       "      <th>化</th>\n",
       "      <th>連載</th>\n",
       "      <th>者</th>\n",
       "      <th>方針</th>\n",
       "      <th>日本</th>\n",
       "      <th>報告</th>\n",
       "      <th>中国</th>\n",
       "      <th>案</th>\n",
       "      <th>閉幕</th>\n",
       "      <th>会議</th>\n",
       "      <th>改革</th>\n",
       "      <th>北朝鮮</th>\n",
       "      <th>自民</th>\n",
       "      <th>採択</th>\n",
       "      <th>問題</th>\n",
       "      <th>合意</th>\n",
       "      <th>事件</th>\n",
       "    </tr>\n",
       "  </thead>\n",
       "  <tbody>\n",
       "    <tr>\n",
       "      <th>20 highest component</th>\n",
       "      <td>1.018</td>\n",
       "      <td>0.07</td>\n",
       "      <td>0.055</td>\n",
       "      <td>0.049</td>\n",
       "      <td>0.046</td>\n",
       "      <td>0.044</td>\n",
       "      <td>0.04</td>\n",
       "      <td>0.039</td>\n",
       "      <td>0.037</td>\n",
       "      <td>0.036</td>\n",
       "      <td>0.035</td>\n",
       "      <td>0.033</td>\n",
       "      <td>0.032</td>\n",
       "      <td>0.031</td>\n",
       "      <td>0.031</td>\n",
       "      <td>0.031</td>\n",
       "      <td>0.03</td>\n",
       "      <td>0.03</td>\n",
       "      <td>0.028</td>\n",
       "      <td>0.026</td>\n",
       "    </tr>\n",
       "  </tbody>\n",
       "</table>\n",
       "</div>"
      ],
      "text/plain": [
       "                         する    れる     政府      化     連載      者    方針     日本  \\\n",
       "20 highest component  1.018  0.07  0.055  0.049  0.046  0.044  0.04  0.039   \n",
       "\n",
       "                         報告     中国      案     閉幕     会議     改革    北朝鮮     自民  \\\n",
       "20 highest component  0.037  0.036  0.035  0.033  0.032  0.031  0.031  0.031   \n",
       "\n",
       "                        採択    問題     合意     事件  \n",
       "20 highest component  0.03  0.03  0.028  0.026  "
      ]
     },
     "metadata": {},
     "output_type": "display_data"
    }
   ],
   "source": [
    "print(\"Top 20 terms per cluster: \\n\")\n",
    "\n",
    "for a in range(9):\n",
    "    print(\"Cluster %d:\" % a)\n",
    "    high20 = []\n",
    "    cent20 = []\n",
    "    for b in order_centroids9r[a, :20]:\n",
    "        high20.append(words[b])\n",
    "        cent20.append(kmresult9r.cluster_centers_[a,b])\n",
    "    comptable9 = pd.DataFrame(index = high20, columns = ['20 highest component'], data = np.round(cent20,3))\n",
    "    comptable9 = comptable9.transpose()\n",
    "    display(comptable9)\n",
    "    \n",
    "time = trec() - start"
   ]
  },
  {
   "cell_type": "markdown",
   "metadata": {},
   "source": [
    "## We need to rewrite this part. Could you please do it? Or we can talk about it.\n",
    "\n",
    "I would name clusters as following:\n",
    "\n",
    "* Cluster 0: **General** (Remaining Category)\n",
    "* Cluster 1: **Crime** ( \"地検\" (district prosecutor's office), \"容疑\" (crime charge), \"地裁\" (district court), \"事件\" (affair or incident), \"逮捕\" (arrest), \"捜査\" (investigation) \"きょう\" (today) ...)\n",
    "* Cluster 2: **Politics** ( \"案\" (plan. often used in context of government plan, such as 予算案 (budget pllan), 法案 (bill)), \"政府\" (government), \"自民\" (Liberal Democratic Party, often the case cabinet party), \"改革\" (reform) ,\"衆院\" (House of Representatives, lower house in Japan), \"与党\" (cabinet party)...)\n",
    "* Cluster 3: **Economy** ( \"万\" (ten thousand), \"億\" (billion), \"東証\" (Tokyo stock market), \"終値\" (end price, i.e., stock price), \"株\" (stock), \"社\" (company), \"年金\" (pension program)...)\n",
    "* Cluster 4: **Diplomacy** (\"会談\" & \"会議\" (both mean conference. former implies one-to-one meeting of national head, and latter implies large conference with multiple members), \"首脳\" (national heads or leaders), \"外相\" (foreign ministers), \"大統領\" (president), \"合意\" (agreement), \"中\" (abbreviation for 中国 China), \"ソ\" & \"ソ連\" (abbreviation for Soviet), \"韓\" (abbreviation for 韓国 Korea), 協力 (cooperation), \"核\" (nuclear) ...) "
   ]
  },
  {
   "cell_type": "code",
   "execution_count": 152,
   "metadata": {},
   "outputs": [
    {
     "name": "stdout",
     "output_type": "stream",
     "text": [
      "Computation time is 0.211 seconds\n"
     ]
    }
   ],
   "source": [
    "## We need to redo this part but we don't have to do it now. Your thought?\n",
    "\n",
    "start = trec() \n",
    "\n",
    "saveres = kmlabels5r\n",
    "\n",
    "saveres[np.array(saveres)==0] = \"General\"\n",
    "saveres[np.array(saveres)==1] = \"Crime\"\n",
    "saveres[np.array(saveres)==2] = \"Politics\"\n",
    "saveres[np.array(saveres)==3] = \"Economy\"\n",
    "saveres[np.array(saveres)==4] = \"Diplomacy\"\n",
    "\n",
    "saveres = pd.DataFrame(saveres)\n",
    "saveres.to_csv('../../data/kmlabels5_reduced.csv')\n",
    "\n",
    "time = trec() - start\n",
    "print('Computation time is %0.3f seconds' % time)"
   ]
  },
  {
   "cell_type": "markdown",
   "metadata": {},
   "source": [
    "## 3. Hierarchical Clustering to Explore Word Appearance Patterns\n",
    "\n",
    "### 3.1 Prepare Functions and Data"
   ]
  },
  {
   "cell_type": "code",
   "execution_count": 29,
   "metadata": {
    "collapsed": true
   },
   "outputs": [],
   "source": [
    "from scipy.cluster.hierarchy import dendrogram\n",
    "\n",
    "def plot_dendrogram(model, **kwargs):\n",
    "    # Children of hierarchical clustering\n",
    "    children = model.children_\n",
    "\n",
    "    # Distances between each pair of children\n",
    "    # Since we don't have this information, we can use a uniform one for plotting\n",
    "    distance = np.arange(children.shape[0])\n",
    "    \n",
    "    # The number of observations contained in each cluster level\n",
    "    no_of_observations = np.arange(2, children.shape[0]+2)\n",
    "    \n",
    "    # Create linkage matrix and then plot the dendrogram\n",
    "    linkage_matrix = np.column_stack([children, distance, no_of_observations]).astype(float)\n",
    "    \n",
    "    # Plot the corresponding dendrogram\n",
    "    dendrogram(linkage_matrix, **kwargs)\n",
    "    \n",
    "from matplotlib.font_manager import FontProperties\n",
    "from sklearn.cluster import AgglomerativeClustering as hicluster\n",
    "\n",
    "%matplotlib inline"
   ]
  },
  {
   "cell_type": "code",
   "execution_count": 30,
   "metadata": {
    "collapsed": true
   },
   "outputs": [],
   "source": [
    "dict_index = {t:i for i,t in enumerate(allWrdMat10.columns)}\n",
    "\n",
    "dictlist = []\n",
    "temp = []\n",
    "akey = []\n",
    "avalue = []\n",
    "\n",
    "for key, value in dict_index.items():\n",
    "    akey.append(key)\n",
    "    avalue.append(value)\n",
    "    temp = [key,value]\n",
    "    dictlist.append(temp)"
   ]
  },
  {
   "cell_type": "markdown",
   "metadata": {},
   "source": [
    "### 3.2 Application to First 1000 words"
   ]
  },
  {
   "cell_type": "code",
   "execution_count": 31,
   "metadata": {
    "collapsed": true
   },
   "outputs": [],
   "source": [
    "avalue = np.array(avalue)\n",
    "\n",
    "X_transform = X[:, avalue < 1000].transpose().toarray()\n",
    "\n",
    "freq1000terms = akey\n",
    "freq1000terms = np.array(freq1000terms)[avalue < 1000]"
   ]
  },
  {
   "cell_type": "code",
   "execution_count": 32,
   "metadata": {},
   "outputs": [
    {
     "name": "stdout",
     "output_type": "stream",
     "text": [
      "Computation time is 167.839 seconds\n"
     ]
    }
   ],
   "source": [
    "start = trec() \n",
    "hicl_ward = hicluster(n_clusters=40,linkage='ward', compute_full_tree = False)\n",
    "hicl_comp = hicluster(n_clusters=40,linkage='complete', compute_full_tree = False)\n",
    "hicl_avg = hicluster(n_clusters=40,linkage='average', compute_full_tree = False)\n",
    "\n",
    "hiclwres = hicl_ward.fit(X_transform)\n",
    "hiclcres = hicl_comp.fit(X_transform)\n",
    "hiclares = hicl_avg.fit(X_transform)\n",
    "\n",
    "time = trec() - start\n",
    "print('Computation time is %0.3f seconds' % time)"
   ]
  },
  {
   "cell_type": "code",
   "execution_count": 33,
   "metadata": {
    "scrolled": false
   },
   "outputs": [
    {
     "data": {
      "image/png": "[encoded data removed]",
      "text/plain": [
       "<matplotlib.figure.Figure at 0x18f546d68>"
      ]
     },
     "metadata": {},
     "output_type": "display_data"
    },
    {
     "data": {
      "image/png": "[encoded data removed]",
      "text/plain": [
       "<matplotlib.figure.Figure at 0x10e41ac18>"
      ]
     },
     "metadata": {},
     "output_type": "display_data"
    },
    {
     "data": {
      "image/png": "[encoded data removed]",
      "text/plain": [
       "<matplotlib.figure.Figure at 0x10ee418d0>"
      ]
     },
     "metadata": {},
     "output_type": "display_data"
    }
   ],
   "source": [
    "plt.rcParams[\"font.family\"] =\"Osaka\"\n",
    "plt.rcParams[\"figure.figsize\"] = (15,6)\n",
    "\n",
    "model1 = hiclwres\n",
    "plt.title('Hierarchical Clustering Dendrogram (Ward Linkage)')\n",
    "plot_dendrogram(model1, p = 40, truncate_mode = 'lastp', orientation = 'top', labels=freq1000terms[model1.labels_], color_threshold = 991)\n",
    "plt.ylim(959,1000)\n",
    "plt.show()\n",
    "\n",
    "model2 = hiclcres\n",
    "plt.title('Hierarchical Clustering Dendrogram (Complete Linkage)')\n",
    "plot_dendrogram(model2, p = 40, truncate_mode = 'lastp', orientation = 'top', labels=freq1000terms[model2.labels_], color_threshold = 991)\n",
    "plt.ylim(959,1000)\n",
    "plt.show()\n",
    "\n",
    "model3 = hiclares\n",
    "plt.title('Hierarchical Clustering Dendrogram (Average Linkage)')\n",
    "plt.subplot()\n",
    "plot_dendrogram(model3, p = 40, truncate_mode = 'lastp', orientation = 'top', labels=freq1000terms[model3.labels_], color_threshold = 991)\n",
    "plt.ylim(959,1000)\n",
    "plt.show()"
   ]
  },
  {
   "cell_type": "markdown",
   "metadata": {},
   "source": [
    "### 3.3 Application to Full Dataset"
   ]
  },
  {
   "cell_type": "code",
   "execution_count": 27,
   "metadata": {},
   "outputs": [
    {
     "name": "stdout",
     "output_type": "stream",
     "text": [
      "Computation time is 21.371 seconds\n"
     ]
    }
   ],
   "source": [
    "start = trec()\n",
    "\n",
    "X_test = X.transpose().toarray()\n",
    "X_testsp = sp.csr_matrix(X_test)\n",
    "\n",
    "time = trec() - start\n",
    "print('Computation time is %0.3f seconds' % time)"
   ]
  },
  {
   "cell_type": "code",
   "execution_count": 28,
   "metadata": {},
   "outputs": [
    {
     "name": "stdout",
     "output_type": "stream",
     "text": [
      "Computation time is 22926.007 seconds\n"
     ]
    }
   ],
   "source": [
    "start = trec() \n",
    "\n",
    "hicl_compt = hicluster(n_clusters=40, linkage='complete', affinity='l1', compute_full_tree = False)\n",
    "\n",
    "hiclwres_test = hicl_compt.fit(X_test)\n",
    "\n",
    "time = trec() - start\n",
    "print('Computation time is %0.3f seconds' % time)"
   ]
  },
  {
   "cell_type": "code",
   "execution_count": 41,
   "metadata": {},
   "outputs": [
    {
     "data": {
      "image/png": "[encoded data removed]",
      "text/plain": [
       "<matplotlib.figure.Figure at 0x1185e5198>"
      ]
     },
     "metadata": {},
     "output_type": "display_data"
    }
   ],
   "source": [
    "plt.rcParams[\"font.family\"] =\"Osaka\"\n",
    "plt.rcParams[\"figure.figsize\"] = (15,6)\n",
    "\n",
    "model4 = hiclwres_test\n",
    "plt.title('Hierarchical Clustering Dendrogram (Complete Linkage)')\n",
    "plot_dendrogram(model4, p = 40, truncate_mode = 'lastp', orientation = 'top', labels=freq1000terms[model4.labels_], color_threshold = 991)\n",
    "plt.ylim(8610,8660)\n",
    "plt.show()"
   ]
  },
  {
   "cell_type": "markdown",
   "metadata": {},
   "source": [
    "### 3.4 Application to Reduced Words Dataset"
   ]
  },
  {
   "cell_type": "code",
   "execution_count": 34,
   "metadata": {
    "collapsed": true
   },
   "outputs": [],
   "source": [
    "X_transform_r = X_reduced.transpose().toarray()\n",
    "\n",
    "freqterms_r = akey\n",
    "freqterms_r = np.array(freqterms_r)[condition]"
   ]
  },
  {
   "cell_type": "code",
   "execution_count": 35,
   "metadata": {},
   "outputs": [
    {
     "name": "stdout",
     "output_type": "stream",
     "text": [
      "Computation time is 1676.384 seconds\n"
     ]
    }
   ],
   "source": [
    "start = trec() \n",
    "hicl_ward = hicluster(n_clusters=40,linkage='ward', compute_full_tree = False)\n",
    "hicl_comp = hicluster(n_clusters=40,linkage='complete', compute_full_tree = False)\n",
    "hicl_avg = hicluster(n_clusters=40,linkage='average', compute_full_tree = False)\n",
    "\n",
    "hiclwres = hicl_ward.fit(X_transform_r)\n",
    "hiclcres = hicl_comp.fit(X_transform_r)\n",
    "hiclares = hicl_avg.fit(X_transform_r)\n",
    "\n",
    "time = trec() - start\n",
    "print('Computation time is %0.3f seconds' % time)"
   ]
  },
  {
   "cell_type": "code",
   "execution_count": 40,
   "metadata": {},
   "outputs": [
    {
     "data": {
      "image/png": "[encoded data removed]",
      "text/plain": [
       "<matplotlib.figure.Figure at 0x10f45e940>"
      ]
     },
     "metadata": {},
     "output_type": "display_data"
    },
    {
     "data": {
      "image/png": "[encoded data removed]",
      "text/plain": [
       "<matplotlib.figure.Figure at 0x1073ffcc0>"
      ]
     },
     "metadata": {},
     "output_type": "display_data"
    }
   ],
   "source": [
    "#print([f.name for f in mpl.font_manager.fontManager.ttflist])\n",
    "plt.rcParams[\"font.family\"] =\"Osaka\" # Mac \n",
    "#plt.rcParams[\"font.family\"] =\"HGSeikaishotaiPRO\" # Windows\n",
    "plt.rcParams[\"figure.figsize\"] = (15,6)\n",
    "\n",
    "#model1 = hiclwres\n",
    "#plt.title('Hierarchical Clustering Dendrogram (Ward Linkage)')\n",
    "#plot_dendrogram(model1, p = 70, truncate_mode = 'lastp', orientation = 'top', labels=freqterms_r[model1.labels_], color_threshold = 991)\n",
    "#plt.ylim(3088,3158)\n",
    "#plt.show()\n",
    "\n",
    "model2 = hiclcres\n",
    "plt.title('Hierarchical Clustering Dendrogram (Complete Linkage)')\n",
    "plot_dendrogram(model2, p = 70, truncate_mode = 'lastp', orientation = 'top', labels=freqterms_r[model2.labels_], color_threshold = 991)\n",
    "plt.ylim(3088,3158)\n",
    "plt.show()\n",
    "\n",
    "model3 = hiclares\n",
    "plt.title('Hierarchical Clustering Dendrogram (Average Linkage)')\n",
    "plt.subplot()\n",
    "plot_dendrogram(model3, p = 70, truncate_mode = 'lastp', orientation = 'top', labels=freqterms_r[model3.labels_], color_threshold = 991)\n",
    "plt.ylim(3088,3158)\n",
    "plt.show()"
   ]
  },
  {
   "cell_type": "markdown",
   "metadata": {},
   "source": [
    "## I don't know why my dendrogram does not work for \"ward\" linkage\n",
    "\n",
    "## Conclusion"
   ]
  },
  {
   "cell_type": "markdown",
   "metadata": {},
   "source": [
    "It looks like at least for this data, **k-means** performs much better than **hierarchical clustering**. What we mean better is that clusters searched by **k-means** makes more sense than hierarchical clustering, and the more influential dimesntions of the training set makes more sense too."
   ]
  }
 ],
 "metadata": {
  "kernelspec": {
   "display_name": "Python 3",
   "language": "python",
   "name": "python3"
  },
  "language_info": {
   "codemirror_mode": {
    "name": "ipython",
    "version": 3
   },
   "file_extension": ".py",
   "mimetype": "text/x-python",
   "name": "python",
   "nbconvert_exporter": "python",
   "pygments_lexer": "ipython3",
   "version": "3.5.2"
  }
 },
 "nbformat": 4,
 "nbformat_minor": 2
}
