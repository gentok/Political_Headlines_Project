{
 "cells": [
  {
   "cell_type": "code",
   "execution_count": 1,
   "metadata": {
    "collapsed": true
   },
   "outputs": [],
   "source": [
    "# Computation Timer\n",
    "from timeit import default_timer as trec\n",
    "\n",
    "# Data Mining\n",
    "import pandas as pd\n",
    "import numpy as np\n",
    "from sklearn import decomposition\n",
    "from scipy.spatial.distance import cdist, pdist\n",
    "from scipy import sparse as sp ## Sparse Matrix\n",
    "from sklearn.cluster import KMeans, MiniBatchKMeans # Add MiniBatchKMeans\n",
    "\n",
    "# Visualization\n",
    "from IPython.display import display # Display HTML Table\n",
    "import matplotlib as mpl\n",
    "import matplotlib.pyplot as plt\n",
    "plt.style.use('ggplot')"
   ]
  },
  {
   "cell_type": "code",
   "execution_count": 2,
   "metadata": {},
   "outputs": [
    {
     "name": "stdout",
     "output_type": "stream",
     "text": [
      "Computation time is 291.296 seconds\n"
     ]
    }
   ],
   "source": [
    "start = trec()\n",
    "\n",
    "## Import Data\n",
    "alldata = pd.read_csv(\"../../data/alldata_traincode_170510.csv\", encoding='CP932')\n",
    "allWrdMat10 = pd.read_csv(\"../../data/allWrdMat10.csv.gz\", encoding='CP932')\n",
    "\n",
    "time = trec() - start\n",
    "print('Computation time is %0.3f seconds' % time)"
   ]
  },
  {
   "cell_type": "code",
   "execution_count": 3,
   "metadata": {},
   "outputs": [
    {
     "name": "stdout",
     "output_type": "stream",
     "text": [
      "Computation time is 45.782 seconds\n"
     ]
    }
   ],
   "source": [
    "start = trec() \n",
    "\n",
    "## Set X as CSR Sparse Matrix (Row Extraction is Faster) \n",
    "X = np.array(allWrdMat10)\n",
    "X = sp.csr_matrix(X)\n",
    "\n",
    "time = trec() - start\n",
    "print('Computation time is %0.3f seconds' % time)"
   ]
  },
  {
   "cell_type": "code",
   "execution_count": 4,
   "metadata": {},
   "outputs": [
    {
     "name": "stdout",
     "output_type": "stream",
     "text": [
      "Computation time is 6147.517 seconds\n"
     ]
    }
   ],
   "source": [
    "start = trec() \n",
    "\n",
    "## K Means from Whole Data\n",
    "## Using the elbow nethod to determine the number of clusters\n",
    "cluster = range(1, 16)\n",
    "score = []\n",
    "for a in cluster:\n",
    "    kmeans = KMeans(n_clusters=a, random_state=0, n_jobs=-1, n_init=10, max_iter=250)\n",
    "    ks = -(kmeans.fit(X).score(X))\n",
    "    score.append(ks)\n",
    "\n",
    "time = trec() - start\n",
    "print('Computation time is %0.3f seconds' % time)"
   ]
  },
  {
   "cell_type": "markdown",
   "metadata": {},
   "source": [
    "Since we intentionally to let the machine decide how many clusters, we utilize the scree plot, which is constructed baed on the score and the number of clusters, to see the poential number of clusters we should consider."
   ]
  },
  {
   "cell_type": "code",
   "execution_count": 5,
   "metadata": {},
   "outputs": [
    {
     "data": {
      "image/png": "[encoded data removed]",
      "text/plain": [
       "<matplotlib.figure.Figure at 0x114a86ba8>"
      ]
     },
     "metadata": {},
     "output_type": "display_data"
    }
   ],
   "source": [
    "## Plotting the result\n",
    "plt.plot(cluster, score, 'bo-', linewidth=2)\n",
    "plt.title('Score Plot')\n",
    "plt.xlabel('Number of Clusters')\n",
    "plt.ylabel('Score')\n",
    "leg = plt.legend(['Score of K-Means'], loc='best', borderpad=0.3,\n",
    "                 shadow=False, prop=mpl.font_manager.FontProperties(size='small'),\n",
    "                 markerscale=0.4)\n",
    "leg.get_frame().set_alpha(0.4)\n",
    "leg.draggable(state=True)\n",
    "plt.show()"
   ]
  },
  {
   "cell_type": "markdown",
   "metadata": {},
   "source": [
    "According to the scree plot, it shows that the \"**elbow**\" point is **3**. However, to prevent the biasness, in addtition to **three** clusters, we also let the machine learn the cases of **four** clusters and **five** clusters. The results are shown below."
   ]
  },
  {
   "cell_type": "code",
   "execution_count": 6,
   "metadata": {},
   "outputs": [
    {
     "name": "stdout",
     "output_type": "stream",
     "text": [
      "Top 20 terms per cluster:\n",
      "Cluster 0:\n"
     ]
    },
    {
     "data": {
      "text/html": [
       "<div>\n",
       "<table border=\"1\" class=\"dataframe\">\n",
       "  <thead>\n",
       "    <tr style=\"text-align: right;\">\n",
       "      <th></th>\n",
       "      <th>０</th>\n",
       "      <th>１</th>\n",
       "      <th>２</th>\n",
       "      <th>円</th>\n",
       "      <th>５</th>\n",
       "      <th>３</th>\n",
       "      <th>人</th>\n",
       "      <th>万</th>\n",
       "      <th>億</th>\n",
       "      <th>４</th>\n",
       "      <th>年</th>\n",
       "      <th>６</th>\n",
       "      <th>８</th>\n",
       "      <th>７</th>\n",
       "      <th>９</th>\n",
       "      <th>日</th>\n",
       "      <th>％</th>\n",
       "      <th>年度</th>\n",
       "      <th>兆</th>\n",
       "      <th>社</th>\n",
       "    </tr>\n",
       "  </thead>\n",
       "  <tbody>\n",
       "    <tr>\n",
       "      <th>20 highest component</th>\n",
       "      <td>2.549</td>\n",
       "      <td>0.649</td>\n",
       "      <td>0.545</td>\n",
       "      <td>0.432</td>\n",
       "      <td>0.298</td>\n",
       "      <td>0.289</td>\n",
       "      <td>0.278</td>\n",
       "      <td>0.272</td>\n",
       "      <td>0.244</td>\n",
       "      <td>0.217</td>\n",
       "      <td>0.212</td>\n",
       "      <td>0.183</td>\n",
       "      <td>0.165</td>\n",
       "      <td>0.154</td>\n",
       "      <td>0.148</td>\n",
       "      <td>0.088</td>\n",
       "      <td>0.076</td>\n",
       "      <td>0.075</td>\n",
       "      <td>0.061</td>\n",
       "      <td>0.059</td>\n",
       "    </tr>\n",
       "  </tbody>\n",
       "</table>\n",
       "</div>"
      ],
      "text/plain": [
       "                          ０      １      ２      円      ５      ３      人      万  \\\n",
       "20 highest component  2.549  0.649  0.545  0.432  0.298  0.289  0.278  0.272   \n",
       "\n",
       "                          億      ４      年      ６      ８      ７      ９      日  \\\n",
       "20 highest component  0.244  0.217  0.212  0.183  0.165  0.154  0.148  0.088   \n",
       "\n",
       "                          ％     年度      兆      社  \n",
       "20 highest component  0.076  0.075  0.061  0.059  "
      ]
     },
     "metadata": {},
     "output_type": "display_data"
    },
    {
     "name": "stdout",
     "output_type": "stream",
     "text": [
      "Cluster 1:\n"
     ]
    },
    {
     "data": {
      "text/html": [
       "<div>\n",
       "<table border=\"1\" class=\"dataframe\">\n",
       "  <thead>\n",
       "    <tr style=\"text-align: right;\">\n",
       "      <th></th>\n",
       "      <th>米</th>\n",
       "      <th>首相</th>\n",
       "      <th>氏</th>\n",
       "      <th>２</th>\n",
       "      <th>３</th>\n",
       "      <th>日</th>\n",
       "      <th>５</th>\n",
       "      <th>４</th>\n",
       "      <th>政府</th>\n",
       "      <th>人</th>\n",
       "      <th>日本</th>\n",
       "      <th>自民</th>\n",
       "      <th>６</th>\n",
       "      <th>大統領</th>\n",
       "      <th>０</th>\n",
       "      <th>化</th>\n",
       "      <th>案</th>\n",
       "      <th>方針</th>\n",
       "      <th>選</th>\n",
       "      <th>会談</th>\n",
       "    </tr>\n",
       "  </thead>\n",
       "  <tbody>\n",
       "    <tr>\n",
       "      <th>20 highest component</th>\n",
       "      <td>0.103</td>\n",
       "      <td>0.083</td>\n",
       "      <td>0.083</td>\n",
       "      <td>0.082</td>\n",
       "      <td>0.077</td>\n",
       "      <td>0.074</td>\n",
       "      <td>0.055</td>\n",
       "      <td>0.055</td>\n",
       "      <td>0.052</td>\n",
       "      <td>0.047</td>\n",
       "      <td>0.042</td>\n",
       "      <td>0.041</td>\n",
       "      <td>0.041</td>\n",
       "      <td>0.041</td>\n",
       "      <td>0.04</td>\n",
       "      <td>0.039</td>\n",
       "      <td>0.038</td>\n",
       "      <td>0.036</td>\n",
       "      <td>0.036</td>\n",
       "      <td>0.035</td>\n",
       "    </tr>\n",
       "  </tbody>\n",
       "</table>\n",
       "</div>"
      ],
      "text/plain": [
       "                          米     首相      氏      ２      ３      日      ５      ４  \\\n",
       "20 highest component  0.103  0.083  0.083  0.082  0.077  0.074  0.055  0.055   \n",
       "\n",
       "                         政府      人     日本     自民      ６    大統領     ０      化  \\\n",
       "20 highest component  0.052  0.047  0.042  0.041  0.041  0.041  0.04  0.039   \n",
       "\n",
       "                          案     方針      選     会談  \n",
       "20 highest component  0.038  0.036  0.036  0.035  "
      ]
     },
     "metadata": {},
     "output_type": "display_data"
    },
    {
     "name": "stdout",
     "output_type": "stream",
     "text": [
      "Cluster 2:\n"
     ]
    },
    {
     "data": {
      "text/html": [
       "<div>\n",
       "<table border=\"1\" class=\"dataframe\">\n",
       "  <thead>\n",
       "    <tr style=\"text-align: right;\">\n",
       "      <th></th>\n",
       "      <th>１</th>\n",
       "      <th>２</th>\n",
       "      <th>５</th>\n",
       "      <th>３</th>\n",
       "      <th>０</th>\n",
       "      <th>円</th>\n",
       "      <th>４</th>\n",
       "      <th>人</th>\n",
       "      <th>日</th>\n",
       "      <th>％</th>\n",
       "      <th>６</th>\n",
       "      <th>９</th>\n",
       "      <th>年</th>\n",
       "      <th>７</th>\n",
       "      <th>８</th>\n",
       "      <th>．</th>\n",
       "      <th>億</th>\n",
       "      <th>万</th>\n",
       "      <th>調査</th>\n",
       "      <th>連載</th>\n",
       "    </tr>\n",
       "  </thead>\n",
       "  <tbody>\n",
       "    <tr>\n",
       "      <th>20 highest component</th>\n",
       "      <td>1.035</td>\n",
       "      <td>0.412</td>\n",
       "      <td>0.291</td>\n",
       "      <td>0.288</td>\n",
       "      <td>0.28</td>\n",
       "      <td>0.242</td>\n",
       "      <td>0.232</td>\n",
       "      <td>0.21</td>\n",
       "      <td>0.201</td>\n",
       "      <td>0.19</td>\n",
       "      <td>0.183</td>\n",
       "      <td>0.177</td>\n",
       "      <td>0.175</td>\n",
       "      <td>0.167</td>\n",
       "      <td>0.153</td>\n",
       "      <td>0.094</td>\n",
       "      <td>0.093</td>\n",
       "      <td>0.085</td>\n",
       "      <td>0.084</td>\n",
       "      <td>0.07</td>\n",
       "    </tr>\n",
       "  </tbody>\n",
       "</table>\n",
       "</div>"
      ],
      "text/plain": [
       "                          １      ２      ５      ３     ０      円      ４     人  \\\n",
       "20 highest component  1.035  0.412  0.291  0.288  0.28  0.242  0.232  0.21   \n",
       "\n",
       "                          日     ％      ６      ９      年      ７      ８      ．  \\\n",
       "20 highest component  0.201  0.19  0.183  0.177  0.175  0.167  0.153  0.094   \n",
       "\n",
       "                          億      万     調査    連載  \n",
       "20 highest component  0.093  0.085  0.084  0.07  "
      ]
     },
     "metadata": {},
     "output_type": "display_data"
    },
    {
     "name": "stdout",
     "output_type": "stream",
     "text": [
      "Computation time is 250.943 seconds\n"
     ]
    }
   ],
   "source": [
    "start = trec() \n",
    "\n",
    "kmeans3 = KMeans(n_clusters=3, random_state=0, n_jobs=-1, n_init=10, max_iter=250)\n",
    "kmresult3 = kmeans3.fit(X)\n",
    "kmlabels3 = kmresult3.predict(X)\n",
    "words = allWrdMat10.columns\n",
    "\n",
    "print(\"Top 20 terms per cluster:\")\n",
    "order_centroids3 = kmresult3.cluster_centers_.argsort()[:, ::-1]\n",
    "\n",
    "for a in range(3):\n",
    "    print(\"Cluster %d:\" % a)\n",
    "    high20 = []\n",
    "    cent20 = []\n",
    "    for b in order_centroids3[a, :20]:\n",
    "        high20.append(words[b])\n",
    "        cent20.append(kmresult3.cluster_centers_[a,b])\n",
    "    comptable = pd.DataFrame(index = high20, columns = ['20 highest component'], data = np.round(cent20,3))\n",
    "    comptable = comptable.transpose()\n",
    "    display(comptable)\n",
    "    \n",
    "time = trec() - start\n",
    "print('Computation time is %0.3f seconds' % time)"
   ]
  },
  {
   "cell_type": "code",
   "execution_count": 7,
   "metadata": {},
   "outputs": [
    {
     "name": "stdout",
     "output_type": "stream",
     "text": [
      "Computation time is 14.783 seconds\n"
     ]
    }
   ],
   "source": [
    "start = trec() \n",
    "\n",
    "kmlabels3 = pd.DataFrame(kmlabels3)\n",
    "\n",
    "allWrdMat10_3 = kmlabels3.join(allWrdMat10)\n",
    "\n",
    "time = trec() - start\n",
    "print('Computation time is %0.3f seconds' % time)"
   ]
  },
  {
   "cell_type": "code",
   "execution_count": 8,
   "metadata": {},
   "outputs": [
    {
     "name": "stdout",
     "output_type": "stream",
     "text": [
      "Computation time is 0.553 seconds\n"
     ]
    }
   ],
   "source": [
    "start = trec() \n",
    "\n",
    "kmlabels3.to_csv('../../data/kmlabels3.csv')\n",
    "\n",
    "time = trec() - start\n",
    "print('Computation time is %0.3f seconds' % time)"
   ]
  },
  {
   "cell_type": "code",
   "execution_count": 9,
   "metadata": {},
   "outputs": [
    {
     "name": "stdout",
     "output_type": "stream",
     "text": [
      "Top 20 terms per cluster:\n",
      "Cluster 0:\n"
     ]
    },
    {
     "data": {
      "text/html": [
       "<div>\n",
       "<table border=\"1\" class=\"dataframe\">\n",
       "  <thead>\n",
       "    <tr style=\"text-align: right;\">\n",
       "      <th></th>\n",
       "      <th>米</th>\n",
       "      <th>首相</th>\n",
       "      <th>氏</th>\n",
       "      <th>３</th>\n",
       "      <th>日</th>\n",
       "      <th>５</th>\n",
       "      <th>４</th>\n",
       "      <th>政府</th>\n",
       "      <th>大統領</th>\n",
       "      <th>自民</th>\n",
       "      <th>日本</th>\n",
       "      <th>人</th>\n",
       "      <th>６</th>\n",
       "      <th>化</th>\n",
       "      <th>案</th>\n",
       "      <th>方針</th>\n",
       "      <th>会談</th>\n",
       "      <th>選</th>\n",
       "      <th>０</th>\n",
       "      <th>者</th>\n",
       "    </tr>\n",
       "  </thead>\n",
       "  <tbody>\n",
       "    <tr>\n",
       "      <th>20 highest component</th>\n",
       "      <td>0.106</td>\n",
       "      <td>0.085</td>\n",
       "      <td>0.085</td>\n",
       "      <td>0.077</td>\n",
       "      <td>0.063</td>\n",
       "      <td>0.055</td>\n",
       "      <td>0.054</td>\n",
       "      <td>0.053</td>\n",
       "      <td>0.042</td>\n",
       "      <td>0.042</td>\n",
       "      <td>0.041</td>\n",
       "      <td>0.041</td>\n",
       "      <td>0.04</td>\n",
       "      <td>0.039</td>\n",
       "      <td>0.038</td>\n",
       "      <td>0.037</td>\n",
       "      <td>0.036</td>\n",
       "      <td>0.036</td>\n",
       "      <td>0.036</td>\n",
       "      <td>0.035</td>\n",
       "    </tr>\n",
       "  </tbody>\n",
       "</table>\n",
       "</div>"
      ],
      "text/plain": [
       "                          米     首相      氏      ３      日      ５      ４     政府  \\\n",
       "20 highest component  0.106  0.085  0.085  0.077  0.063  0.055  0.054  0.053   \n",
       "\n",
       "                        大統領     自民     日本      人     ６      化      案     方針  \\\n",
       "20 highest component  0.042  0.042  0.041  0.041  0.04  0.039  0.038  0.037   \n",
       "\n",
       "                         会談      選      ０      者  \n",
       "20 highest component  0.036  0.036  0.036  0.035  "
      ]
     },
     "metadata": {},
     "output_type": "display_data"
    },
    {
     "name": "stdout",
     "output_type": "stream",
     "text": [
      "Cluster 1:\n"
     ]
    },
    {
     "data": {
      "text/html": [
       "<div>\n",
       "<table border=\"1\" class=\"dataframe\">\n",
       "  <thead>\n",
       "    <tr style=\"text-align: right;\">\n",
       "      <th></th>\n",
       "      <th>１</th>\n",
       "      <th>円</th>\n",
       "      <th>０</th>\n",
       "      <th>３</th>\n",
       "      <th>５</th>\n",
       "      <th>日</th>\n",
       "      <th>４</th>\n",
       "      <th>人</th>\n",
       "      <th>９</th>\n",
       "      <th>年</th>\n",
       "      <th>６</th>\n",
       "      <th>７</th>\n",
       "      <th>８</th>\n",
       "      <th>２</th>\n",
       "      <th>％</th>\n",
       "      <th>億</th>\n",
       "      <th>万</th>\n",
       "      <th>連載</th>\n",
       "      <th>米</th>\n",
       "      <th>．</th>\n",
       "    </tr>\n",
       "  </thead>\n",
       "  <tbody>\n",
       "    <tr>\n",
       "      <th>20 highest component</th>\n",
       "      <td>1.275</td>\n",
       "      <td>0.274</td>\n",
       "      <td>0.259</td>\n",
       "      <td>0.244</td>\n",
       "      <td>0.231</td>\n",
       "      <td>0.204</td>\n",
       "      <td>0.19</td>\n",
       "      <td>0.181</td>\n",
       "      <td>0.161</td>\n",
       "      <td>0.155</td>\n",
       "      <td>0.155</td>\n",
       "      <td>0.144</td>\n",
       "      <td>0.135</td>\n",
       "      <td>0.115</td>\n",
       "      <td>0.108</td>\n",
       "      <td>0.094</td>\n",
       "      <td>0.078</td>\n",
       "      <td>0.078</td>\n",
       "      <td>0.07</td>\n",
       "      <td>0.06</td>\n",
       "    </tr>\n",
       "  </tbody>\n",
       "</table>\n",
       "</div>"
      ],
      "text/plain": [
       "                          １      円      ０      ３      ５      日     ４      人  \\\n",
       "20 highest component  1.275  0.274  0.259  0.244  0.231  0.204  0.19  0.181   \n",
       "\n",
       "                          ９      年      ６      ７      ８      ２      ％      億  \\\n",
       "20 highest component  0.161  0.155  0.155  0.144  0.135  0.115  0.108  0.094   \n",
       "\n",
       "                          万     連載     米     ．  \n",
       "20 highest component  0.078  0.078  0.07  0.06  "
      ]
     },
     "metadata": {},
     "output_type": "display_data"
    },
    {
     "name": "stdout",
     "output_type": "stream",
     "text": [
      "Cluster 2:\n"
     ]
    },
    {
     "data": {
      "text/html": [
       "<div>\n",
       "<table border=\"1\" class=\"dataframe\">\n",
       "  <thead>\n",
       "    <tr style=\"text-align: right;\">\n",
       "      <th></th>\n",
       "      <th>２</th>\n",
       "      <th>１</th>\n",
       "      <th>５</th>\n",
       "      <th>３</th>\n",
       "      <th>０</th>\n",
       "      <th>日</th>\n",
       "      <th>％</th>\n",
       "      <th>人</th>\n",
       "      <th>４</th>\n",
       "      <th>年</th>\n",
       "      <th>６</th>\n",
       "      <th>７</th>\n",
       "      <th>９</th>\n",
       "      <th>８</th>\n",
       "      <th>調査</th>\n",
       "      <th>円</th>\n",
       "      <th>．</th>\n",
       "      <th>連載</th>\n",
       "      <th>米</th>\n",
       "      <th>万</th>\n",
       "    </tr>\n",
       "  </thead>\n",
       "  <tbody>\n",
       "    <tr>\n",
       "      <th>20 highest component</th>\n",
       "      <td>1.098</td>\n",
       "      <td>0.241</td>\n",
       "      <td>0.231</td>\n",
       "      <td>0.218</td>\n",
       "      <td>0.21</td>\n",
       "      <td>0.205</td>\n",
       "      <td>0.198</td>\n",
       "      <td>0.191</td>\n",
       "      <td>0.189</td>\n",
       "      <td>0.155</td>\n",
       "      <td>0.143</td>\n",
       "      <td>0.129</td>\n",
       "      <td>0.128</td>\n",
       "      <td>0.11</td>\n",
       "      <td>0.089</td>\n",
       "      <td>0.085</td>\n",
       "      <td>0.085</td>\n",
       "      <td>0.071</td>\n",
       "      <td>0.069</td>\n",
       "      <td>0.06</td>\n",
       "    </tr>\n",
       "  </tbody>\n",
       "</table>\n",
       "</div>"
      ],
      "text/plain": [
       "                          ２      １      ５      ３     ０      日      ％      人  \\\n",
       "20 highest component  1.098  0.241  0.231  0.218  0.21  0.205  0.198  0.191   \n",
       "\n",
       "                          ４      年      ６      ７      ９     ８     調査      円  \\\n",
       "20 highest component  0.189  0.155  0.143  0.129  0.128  0.11  0.089  0.085   \n",
       "\n",
       "                          ．     連載      米     万  \n",
       "20 highest component  0.085  0.071  0.069  0.06  "
      ]
     },
     "metadata": {},
     "output_type": "display_data"
    },
    {
     "name": "stdout",
     "output_type": "stream",
     "text": [
      "Cluster 3:\n"
     ]
    },
    {
     "data": {
      "text/html": [
       "<div>\n",
       "<table border=\"1\" class=\"dataframe\">\n",
       "  <thead>\n",
       "    <tr style=\"text-align: right;\">\n",
       "      <th></th>\n",
       "      <th>０</th>\n",
       "      <th>１</th>\n",
       "      <th>２</th>\n",
       "      <th>円</th>\n",
       "      <th>５</th>\n",
       "      <th>３</th>\n",
       "      <th>人</th>\n",
       "      <th>万</th>\n",
       "      <th>億</th>\n",
       "      <th>４</th>\n",
       "      <th>年</th>\n",
       "      <th>６</th>\n",
       "      <th>８</th>\n",
       "      <th>７</th>\n",
       "      <th>９</th>\n",
       "      <th>日</th>\n",
       "      <th>年度</th>\n",
       "      <th>％</th>\n",
       "      <th>兆</th>\n",
       "      <th>社</th>\n",
       "    </tr>\n",
       "  </thead>\n",
       "  <tbody>\n",
       "    <tr>\n",
       "      <th>20 highest component</th>\n",
       "      <td>2.55</td>\n",
       "      <td>0.64</td>\n",
       "      <td>0.536</td>\n",
       "      <td>0.435</td>\n",
       "      <td>0.3</td>\n",
       "      <td>0.291</td>\n",
       "      <td>0.278</td>\n",
       "      <td>0.274</td>\n",
       "      <td>0.247</td>\n",
       "      <td>0.218</td>\n",
       "      <td>0.211</td>\n",
       "      <td>0.184</td>\n",
       "      <td>0.167</td>\n",
       "      <td>0.155</td>\n",
       "      <td>0.148</td>\n",
       "      <td>0.087</td>\n",
       "      <td>0.075</td>\n",
       "      <td>0.075</td>\n",
       "      <td>0.062</td>\n",
       "      <td>0.059</td>\n",
       "    </tr>\n",
       "  </tbody>\n",
       "</table>\n",
       "</div>"
      ],
      "text/plain": [
       "                         ０     １      ２      円    ５      ３      人      万  \\\n",
       "20 highest component  2.55  0.64  0.536  0.435  0.3  0.291  0.278  0.274   \n",
       "\n",
       "                          億      ４      年      ６      ８      ７      ９      日  \\\n",
       "20 highest component  0.247  0.218  0.211  0.184  0.167  0.155  0.148  0.087   \n",
       "\n",
       "                         年度      ％      兆      社  \n",
       "20 highest component  0.075  0.075  0.062  0.059  "
      ]
     },
     "metadata": {},
     "output_type": "display_data"
    },
    {
     "name": "stdout",
     "output_type": "stream",
     "text": [
      "Computation time is 364.010 seconds\n"
     ]
    }
   ],
   "source": [
    "start = trec() \n",
    "\n",
    "kmeans4 = KMeans(n_clusters=4, random_state=0, n_jobs=-1, n_init=10, max_iter=250)\n",
    "kmresult4 = kmeans4.fit(X)\n",
    "kmlabels4 = kmresult4.predict(X)\n",
    "words = allWrdMat10.columns\n",
    "\n",
    "print(\"Top 20 terms per cluster:\")\n",
    "order_centroids4 = kmresult4.cluster_centers_.argsort()[:, ::-1]\n",
    "\n",
    "for a in range(4):\n",
    "    print(\"Cluster %d:\" % a)\n",
    "    high20 = []\n",
    "    cent20 = []\n",
    "    for b in order_centroids4[a, :20]:\n",
    "        high20.append(words[b])\n",
    "        cent20.append(kmresult4.cluster_centers_[a,b])\n",
    "    comptable = pd.DataFrame(index = high20, columns = ['20 highest component'], data = np.round(cent20,3))\n",
    "    comptable = comptable.transpose()\n",
    "    display(comptable)\n",
    "    \n",
    "time = trec() - start\n",
    "print('Computation time is %0.3f seconds' % time)"
   ]
  },
  {
   "cell_type": "code",
   "execution_count": 10,
   "metadata": {},
   "outputs": [
    {
     "name": "stdout",
     "output_type": "stream",
     "text": [
      "Computation time is 0.320 seconds\n"
     ]
    }
   ],
   "source": [
    "start = trec()\n",
    "\n",
    "kmlabels4 = pd.DataFrame(kmlabels4)\n",
    "\n",
    "kmlabels4.to_csv('../../data/kmlabels4.csv')\n",
    "\n",
    "\n",
    "time = trec() - start\n",
    "print('Computation time is %0.3f seconds' % time)"
   ]
  },
  {
   "cell_type": "code",
   "execution_count": 11,
   "metadata": {},
   "outputs": [
    {
     "name": "stdout",
     "output_type": "stream",
     "text": [
      "Top 20 terms per cluster:\n",
      "Cluster 0:\n"
     ]
    },
    {
     "data": {
      "text/html": [
       "<div>\n",
       "<table border=\"1\" class=\"dataframe\">\n",
       "  <thead>\n",
       "    <tr style=\"text-align: right;\">\n",
       "      <th></th>\n",
       "      <th>氏</th>\n",
       "      <th>首相</th>\n",
       "      <th>３</th>\n",
       "      <th>５</th>\n",
       "      <th>４</th>\n",
       "      <th>政府</th>\n",
       "      <th>自民</th>\n",
       "      <th>人</th>\n",
       "      <th>日</th>\n",
       "      <th>６</th>\n",
       "      <th>化</th>\n",
       "      <th>案</th>\n",
       "      <th>日本</th>\n",
       "      <th>方針</th>\n",
       "      <th>選</th>\n",
       "      <th>調査</th>\n",
       "      <th>０</th>\n",
       "      <th>者</th>\n",
       "      <th>東京</th>\n",
       "      <th>きょう</th>\n",
       "    </tr>\n",
       "  </thead>\n",
       "  <tbody>\n",
       "    <tr>\n",
       "      <th>20 highest component</th>\n",
       "      <td>0.09</td>\n",
       "      <td>0.087</td>\n",
       "      <td>0.08</td>\n",
       "      <td>0.057</td>\n",
       "      <td>0.056</td>\n",
       "      <td>0.052</td>\n",
       "      <td>0.046</td>\n",
       "      <td>0.043</td>\n",
       "      <td>0.043</td>\n",
       "      <td>0.041</td>\n",
       "      <td>0.04</td>\n",
       "      <td>0.039</td>\n",
       "      <td>0.039</td>\n",
       "      <td>0.039</td>\n",
       "      <td>0.038</td>\n",
       "      <td>0.037</td>\n",
       "      <td>0.037</td>\n",
       "      <td>0.036</td>\n",
       "      <td>0.036</td>\n",
       "      <td>0.035</td>\n",
       "    </tr>\n",
       "  </tbody>\n",
       "</table>\n",
       "</div>"
      ],
      "text/plain": [
       "                         氏     首相     ３      ５      ４     政府     自民      人  \\\n",
       "20 highest component  0.09  0.087  0.08  0.057  0.056  0.052  0.046  0.043   \n",
       "\n",
       "                          日      ６     化      案     日本     方針      選     調査  \\\n",
       "20 highest component  0.043  0.041  0.04  0.039  0.039  0.039  0.038  0.037   \n",
       "\n",
       "                          ０      者     東京    きょう  \n",
       "20 highest component  0.037  0.036  0.036  0.035  "
      ]
     },
     "metadata": {},
     "output_type": "display_data"
    },
    {
     "name": "stdout",
     "output_type": "stream",
     "text": [
      "Cluster 1:\n"
     ]
    },
    {
     "data": {
      "text/html": [
       "<div>\n",
       "<table border=\"1\" class=\"dataframe\">\n",
       "  <thead>\n",
       "    <tr style=\"text-align: right;\">\n",
       "      <th></th>\n",
       "      <th>１</th>\n",
       "      <th>円</th>\n",
       "      <th>０</th>\n",
       "      <th>３</th>\n",
       "      <th>５</th>\n",
       "      <th>４</th>\n",
       "      <th>日</th>\n",
       "      <th>人</th>\n",
       "      <th>９</th>\n",
       "      <th>６</th>\n",
       "      <th>年</th>\n",
       "      <th>７</th>\n",
       "      <th>８</th>\n",
       "      <th>２</th>\n",
       "      <th>％</th>\n",
       "      <th>億</th>\n",
       "      <th>万</th>\n",
       "      <th>連載</th>\n",
       "      <th>．</th>\n",
       "      <th>調査</th>\n",
       "    </tr>\n",
       "  </thead>\n",
       "  <tbody>\n",
       "    <tr>\n",
       "      <th>20 highest component</th>\n",
       "      <td>1.282</td>\n",
       "      <td>0.28</td>\n",
       "      <td>0.262</td>\n",
       "      <td>0.248</td>\n",
       "      <td>0.236</td>\n",
       "      <td>0.194</td>\n",
       "      <td>0.194</td>\n",
       "      <td>0.185</td>\n",
       "      <td>0.164</td>\n",
       "      <td>0.158</td>\n",
       "      <td>0.156</td>\n",
       "      <td>0.147</td>\n",
       "      <td>0.138</td>\n",
       "      <td>0.118</td>\n",
       "      <td>0.111</td>\n",
       "      <td>0.097</td>\n",
       "      <td>0.08</td>\n",
       "      <td>0.078</td>\n",
       "      <td>0.062</td>\n",
       "      <td>0.058</td>\n",
       "    </tr>\n",
       "  </tbody>\n",
       "</table>\n",
       "</div>"
      ],
      "text/plain": [
       "                          １     円      ０      ３      ５      ４      日      人  \\\n",
       "20 highest component  1.282  0.28  0.262  0.248  0.236  0.194  0.194  0.185   \n",
       "\n",
       "                          ９      ６      年      ７      ８      ２      ％      億  \\\n",
       "20 highest component  0.164  0.158  0.156  0.147  0.138  0.118  0.111  0.097   \n",
       "\n",
       "                         万     連載      ．     調査  \n",
       "20 highest component  0.08  0.078  0.062  0.058  "
      ]
     },
     "metadata": {},
     "output_type": "display_data"
    },
    {
     "name": "stdout",
     "output_type": "stream",
     "text": [
      "Cluster 2:\n"
     ]
    },
    {
     "data": {
      "text/html": [
       "<div>\n",
       "<table border=\"1\" class=\"dataframe\">\n",
       "  <thead>\n",
       "    <tr style=\"text-align: right;\">\n",
       "      <th></th>\n",
       "      <th>２</th>\n",
       "      <th>１</th>\n",
       "      <th>５</th>\n",
       "      <th>３</th>\n",
       "      <th>０</th>\n",
       "      <th>人</th>\n",
       "      <th>％</th>\n",
       "      <th>日</th>\n",
       "      <th>４</th>\n",
       "      <th>年</th>\n",
       "      <th>６</th>\n",
       "      <th>９</th>\n",
       "      <th>７</th>\n",
       "      <th>８</th>\n",
       "      <th>調査</th>\n",
       "      <th>円</th>\n",
       "      <th>．</th>\n",
       "      <th>連載</th>\n",
       "      <th>万</th>\n",
       "      <th>億</th>\n",
       "    </tr>\n",
       "  </thead>\n",
       "  <tbody>\n",
       "    <tr>\n",
       "      <th>20 highest component</th>\n",
       "      <td>1.112</td>\n",
       "      <td>0.247</td>\n",
       "      <td>0.231</td>\n",
       "      <td>0.217</td>\n",
       "      <td>0.212</td>\n",
       "      <td>0.196</td>\n",
       "      <td>0.195</td>\n",
       "      <td>0.192</td>\n",
       "      <td>0.189</td>\n",
       "      <td>0.153</td>\n",
       "      <td>0.144</td>\n",
       "      <td>0.128</td>\n",
       "      <td>0.128</td>\n",
       "      <td>0.108</td>\n",
       "      <td>0.09</td>\n",
       "      <td>0.088</td>\n",
       "      <td>0.083</td>\n",
       "      <td>0.071</td>\n",
       "      <td>0.061</td>\n",
       "      <td>0.048</td>\n",
       "    </tr>\n",
       "  </tbody>\n",
       "</table>\n",
       "</div>"
      ],
      "text/plain": [
       "                          ２      １      ５      ３      ０      人      ％      日  \\\n",
       "20 highest component  1.112  0.247  0.231  0.217  0.212  0.196  0.195  0.192   \n",
       "\n",
       "                          ４      年      ６      ９      ７      ８    調査      円  \\\n",
       "20 highest component  0.189  0.153  0.144  0.128  0.128  0.108  0.09  0.088   \n",
       "\n",
       "                          ．     連載      万      億  \n",
       "20 highest component  0.083  0.071  0.061  0.048  "
      ]
     },
     "metadata": {},
     "output_type": "display_data"
    },
    {
     "name": "stdout",
     "output_type": "stream",
     "text": [
      "Cluster 3:\n"
     ]
    },
    {
     "data": {
      "text/html": [
       "<div>\n",
       "<table border=\"1\" class=\"dataframe\">\n",
       "  <thead>\n",
       "    <tr style=\"text-align: right;\">\n",
       "      <th></th>\n",
       "      <th>０</th>\n",
       "      <th>１</th>\n",
       "      <th>２</th>\n",
       "      <th>円</th>\n",
       "      <th>５</th>\n",
       "      <th>３</th>\n",
       "      <th>人</th>\n",
       "      <th>万</th>\n",
       "      <th>億</th>\n",
       "      <th>４</th>\n",
       "      <th>年</th>\n",
       "      <th>６</th>\n",
       "      <th>８</th>\n",
       "      <th>７</th>\n",
       "      <th>９</th>\n",
       "      <th>日</th>\n",
       "      <th>％</th>\n",
       "      <th>年度</th>\n",
       "      <th>兆</th>\n",
       "      <th>社</th>\n",
       "    </tr>\n",
       "  </thead>\n",
       "  <tbody>\n",
       "    <tr>\n",
       "      <th>20 highest component</th>\n",
       "      <td>2.551</td>\n",
       "      <td>0.64</td>\n",
       "      <td>0.536</td>\n",
       "      <td>0.435</td>\n",
       "      <td>0.3</td>\n",
       "      <td>0.291</td>\n",
       "      <td>0.278</td>\n",
       "      <td>0.274</td>\n",
       "      <td>0.247</td>\n",
       "      <td>0.218</td>\n",
       "      <td>0.211</td>\n",
       "      <td>0.184</td>\n",
       "      <td>0.166</td>\n",
       "      <td>0.155</td>\n",
       "      <td>0.147</td>\n",
       "      <td>0.087</td>\n",
       "      <td>0.075</td>\n",
       "      <td>0.075</td>\n",
       "      <td>0.062</td>\n",
       "      <td>0.059</td>\n",
       "    </tr>\n",
       "  </tbody>\n",
       "</table>\n",
       "</div>"
      ],
      "text/plain": [
       "                          ０     １      ２      円    ５      ３      人      万  \\\n",
       "20 highest component  2.551  0.64  0.536  0.435  0.3  0.291  0.278  0.274   \n",
       "\n",
       "                          億      ４      年      ６      ８      ７      ９      日  \\\n",
       "20 highest component  0.247  0.218  0.211  0.184  0.166  0.155  0.147  0.087   \n",
       "\n",
       "                          ％     年度      兆      社  \n",
       "20 highest component  0.075  0.075  0.062  0.059  "
      ]
     },
     "metadata": {},
     "output_type": "display_data"
    },
    {
     "name": "stdout",
     "output_type": "stream",
     "text": [
      "Cluster 4:\n"
     ]
    },
    {
     "data": {
      "text/html": [
       "<div>\n",
       "<table border=\"1\" class=\"dataframe\">\n",
       "  <thead>\n",
       "    <tr style=\"text-align: right;\">\n",
       "      <th></th>\n",
       "      <th>米</th>\n",
       "      <th>日</th>\n",
       "      <th>大統領</th>\n",
       "      <th>会談</th>\n",
       "      <th>軍</th>\n",
       "      <th>協議</th>\n",
       "      <th>首脳</th>\n",
       "      <th>イラク</th>\n",
       "      <th>日本</th>\n",
       "      <th>首相</th>\n",
       "      <th>合意</th>\n",
       "      <th>北朝鮮</th>\n",
       "      <th>対</th>\n",
       "      <th>３</th>\n",
       "      <th>核</th>\n",
       "      <th>長官</th>\n",
       "      <th>政府</th>\n",
       "      <th>５</th>\n",
       "      <th>中</th>\n",
       "      <th>ブッシュ</th>\n",
       "    </tr>\n",
       "  </thead>\n",
       "  <tbody>\n",
       "    <tr>\n",
       "      <th>20 highest component</th>\n",
       "      <td>1.106</td>\n",
       "      <td>0.285</td>\n",
       "      <td>0.153</td>\n",
       "      <td>0.134</td>\n",
       "      <td>0.113</td>\n",
       "      <td>0.1</td>\n",
       "      <td>0.092</td>\n",
       "      <td>0.084</td>\n",
       "      <td>0.067</td>\n",
       "      <td>0.067</td>\n",
       "      <td>0.066</td>\n",
       "      <td>0.065</td>\n",
       "      <td>0.064</td>\n",
       "      <td>0.063</td>\n",
       "      <td>0.062</td>\n",
       "      <td>0.06</td>\n",
       "      <td>0.055</td>\n",
       "      <td>0.052</td>\n",
       "      <td>0.051</td>\n",
       "      <td>0.05</td>\n",
       "    </tr>\n",
       "  </tbody>\n",
       "</table>\n",
       "</div>"
      ],
      "text/plain": [
       "                          米      日    大統領     会談      軍   協議     首脳    イラク  \\\n",
       "20 highest component  1.106  0.285  0.153  0.134  0.113  0.1  0.092  0.084   \n",
       "\n",
       "                         日本     首相     合意    北朝鮮      対      ３      核    長官  \\\n",
       "20 highest component  0.067  0.067  0.066  0.065  0.064  0.063  0.062  0.06   \n",
       "\n",
       "                         政府      ５      中  ブッシュ  \n",
       "20 highest component  0.055  0.052  0.051  0.05  "
      ]
     },
     "metadata": {},
     "output_type": "display_data"
    },
    {
     "name": "stdout",
     "output_type": "stream",
     "text": [
      "Computation time is 441.897 seconds\n"
     ]
    }
   ],
   "source": [
    "start = trec() \n",
    "\n",
    "kmeans5 = KMeans(n_clusters=5, random_state=0, n_jobs=-1, n_init=10, max_iter=250)\n",
    "kmresult5 = kmeans5.fit(X)\n",
    "kmlabels5 = kmresult5.predict(X)\n",
    "words = allWrdMat10.columns\n",
    "\n",
    "print(\"Top 20 terms per cluster:\")\n",
    "order_centroids5 = kmresult5.cluster_centers_.argsort()[:, ::-1]\n",
    "\n",
    "for a in range(5):\n",
    "    print(\"Cluster %d:\" % a)\n",
    "    high20 = []\n",
    "    cent20 = []\n",
    "    for b in order_centroids5[a, :20]:\n",
    "        high20.append(words[b])\n",
    "        cent20.append(kmresult5.cluster_centers_[a,b])\n",
    "    comptable = pd.DataFrame(index = high20, columns = ['20 highest component'], data = np.round(cent20,3))\n",
    "    comptable = comptable.transpose()\n",
    "    display(comptable)\n",
    "    \n",
    "time = trec() - start\n",
    "print('Computation time is %0.3f seconds' % time)"
   ]
  },
  {
   "cell_type": "code",
   "execution_count": 12,
   "metadata": {},
   "outputs": [
    {
     "name": "stdout",
     "output_type": "stream",
     "text": [
      "Computation time is 0.246 seconds\n"
     ]
    }
   ],
   "source": [
    "start = trec()\n",
    "\n",
    "kmlabels5 = pd.DataFrame(kmlabels5)\n",
    "\n",
    "kmlabels5.to_csv('../../data/kmlabels5.csv')\n",
    "\n",
    "\n",
    "time = trec() - start\n",
    "print('Computation time is %0.3f seconds' % time)"
   ]
  },
  {
   "cell_type": "markdown",
   "metadata": {},
   "source": [
    "By the results, overall, we find that most influential words/terms are **numbers**, **units**, and several **neutral political terms**. Although none of the results show that we can divide headlines into **positive** and **negative** news just by unsupervised learning, the results of **k-means** are still very heuritic for the future study. One of the most important contribution is that, we find that we can just **delete** these words/terms and use the rest of the training set to further train the machine and further see what clusters we will get."
   ]
  },
  {
   "cell_type": "code",
   "execution_count": 13,
   "metadata": {
    "collapsed": true
   },
   "outputs": [],
   "source": [
    "from scipy.cluster.hierarchy import dendrogram\n",
    "\n",
    "def plot_dendrogram(model, **kwargs):\n",
    "    # Children of hierarchical clustering\n",
    "    children = model.children_\n",
    "\n",
    "    # Distances between each pair of children\n",
    "    # Since we don't have this information, we can use a uniform one for plotting\n",
    "    distance = np.arange(children.shape[0])\n",
    "    \n",
    "    # The number of observations contained in each cluster level\n",
    "    no_of_observations = np.arange(2, children.shape[0]+2)\n",
    "    \n",
    "    # Create linkage matrix and then plot the dendrogram\n",
    "    linkage_matrix = np.column_stack([children, distance, no_of_observations]).astype(float)\n",
    "    \n",
    "    # Plot the corresponding dendrogram\n",
    "    dendrogram(linkage_matrix, **kwargs)"
   ]
  },
  {
   "cell_type": "code",
   "execution_count": 14,
   "metadata": {
    "collapsed": true
   },
   "outputs": [],
   "source": [
    "from matplotlib.font_manager import FontProperties\n",
    "from sklearn.cluster import AgglomerativeClustering as hicluster\n",
    "\n",
    "%matplotlib inline\n",
    "\n",
    "\n",
    "dict_index = {t:i for i,t in enumerate(allWrdMat10.columns)}\n",
    "\n",
    "dictlist = []\n",
    "temp = []\n",
    "akey = []\n",
    "avalue = []\n",
    "\n",
    "for key, value in dict_index.items():\n",
    "    akey.append(key)\n",
    "    avalue.append(value)\n",
    "    temp = [key,value]\n",
    "    dictlist.append(temp)"
   ]
  },
  {
   "cell_type": "code",
   "execution_count": 15,
   "metadata": {
    "collapsed": true
   },
   "outputs": [],
   "source": [
    "avalue = np.array(avalue)\n",
    "\n",
    "X_transform = X[:, avalue < 1000].transpose().toarray()\n",
    "\n",
    "freq1000terms = akey\n",
    "freq1000terms = np.array(freq1000terms)[avalue < 1000]"
   ]
  },
  {
   "cell_type": "code",
   "execution_count": 16,
   "metadata": {},
   "outputs": [
    {
     "name": "stdout",
     "output_type": "stream",
     "text": [
      "Computation time is 175.741 seconds\n"
     ]
    }
   ],
   "source": [
    "start = trec() \n",
    "hicl_ward = hicluster(n_clusters=40,linkage='ward', compute_full_tree = False)\n",
    "hicl_comp = hicluster(n_clusters=40,linkage='complete', compute_full_tree = False)\n",
    "hicl_avg = hicluster(n_clusters=40,linkage='average', compute_full_tree = False)\n",
    "\n",
    "hiclwres = hicl_ward.fit(X_transform)\n",
    "hiclcres = hicl_comp.fit(X_transform)\n",
    "hiclares = hicl_avg.fit(X_transform)\n",
    "\n",
    "time = trec() - start\n",
    "print('Computation time is %0.3f seconds' % time)"
   ]
  },
  {
   "cell_type": "code",
   "execution_count": 17,
   "metadata": {},
   "outputs": [
    {
     "data": {
      "image/png": "[encoded data removed]",
      "text/plain": [
       "<matplotlib.figure.Figure at 0x18f50e898>"
      ]
     },
     "metadata": {},
     "output_type": "display_data"
    },
    {
     "data": {
      "image/png": "[encoded data removed]",
      "text/plain": [
       "<matplotlib.figure.Figure at 0x1996c1908>"
      ]
     },
     "metadata": {},
     "output_type": "display_data"
    },
    {
     "data": {
      "image/png": "[encoded data removed]",
      "text/plain": [
       "<matplotlib.figure.Figure at 0x118918c18>"
      ]
     },
     "metadata": {},
     "output_type": "display_data"
    }
   ],
   "source": [
    "plt.rcParams[\"font.family\"] =\"Osaka\"\n",
    "plt.rcParams[\"figure.figsize\"] = (15,6)\n",
    "\n",
    "model1 = hiclwres\n",
    "plt.title('Hierarchical Clustering Dendrogram (Ward Linkage)')\n",
    "plot_dendrogram(model1, p = 40, truncate_mode = 'lastp', orientation = 'top', labels=freq1000terms[model1.labels_], color_threshold = 991)\n",
    "plt.ylim(959,1000)\n",
    "plt.show()\n",
    "\n",
    "model2 = hiclcres\n",
    "plt.title('Hierarchical Clustering Dendrogram (Complete Linkage)')\n",
    "plot_dendrogram(model2, p = 40, truncate_mode = 'lastp', orientation = 'top', labels=freq1000terms[model2.labels_], color_threshold = 991)\n",
    "plt.ylim(959,1000)\n",
    "plt.show()\n",
    "\n",
    "model3 = hiclares\n",
    "plt.title('Hierarchical Clustering Dendrogram (Average Linkage)')\n",
    "plt.subplot()\n",
    "plot_dendrogram(model3, p = 40, truncate_mode = 'lastp', orientation = 'top', labels=freq1000terms[model3.labels_], color_threshold = 991)\n",
    "plt.ylim(959,1000)\n",
    "plt.show()"
   ]
  },
  {
   "cell_type": "code",
   "execution_count": 27,
   "metadata": {},
   "outputs": [
    {
     "name": "stdout",
     "output_type": "stream",
     "text": [
      "Computation time is 21.371 seconds\n"
     ]
    }
   ],
   "source": [
    "start = trec()\n",
    "\n",
    "X_test = X.transpose().toarray()\n",
    "X_testsp = sp.csr_matrix(X_test)\n",
    "\n",
    "time = trec() - start\n",
    "print('Computation time is %0.3f seconds' % time)"
   ]
  },
  {
   "cell_type": "code",
   "execution_count": 28,
   "metadata": {},
   "outputs": [
    {
     "name": "stdout",
     "output_type": "stream",
     "text": [
      "Computation time is 22926.007 seconds\n"
     ]
    }
   ],
   "source": [
    "start = trec() \n",
    "\n",
    "hicl_compt = hicluster(n_clusters=40, linkage='complete', affinity='l1', compute_full_tree = False)\n",
    "\n",
    "hiclwres_test = hicl_compt.fit(X_test)\n",
    "\n",
    "time = trec() - start\n",
    "print('Computation time is %0.3f seconds' % time)"
   ]
  },
  {
   "cell_type": "code",
   "execution_count": 41,
   "metadata": {},
   "outputs": [
    {
     "data": {
      "image/png": "[encoded data removed]",
      "text/plain": [
       "<matplotlib.figure.Figure at 0x1185e5198>"
      ]
     },
     "metadata": {},
     "output_type": "display_data"
    }
   ],
   "source": [
    "plt.rcParams[\"font.family\"] =\"Osaka\"\n",
    "plt.rcParams[\"figure.figsize\"] = (15,6)\n",
    "\n",
    "model4 = hiclwres_test\n",
    "plt.title('Hierarchical Clustering Dendrogram (Complete Linkage)')\n",
    "plot_dendrogram(model4, p = 40, truncate_mode = 'lastp', orientation = 'top', labels=freq1000terms[model4.labels_], color_threshold = 991)\n",
    "plt.ylim(8610,8660)\n",
    "plt.show()"
   ]
  }
 ],
 "metadata": {
  "kernelspec": {
   "display_name": "Python 3",
   "language": "python",
   "name": "python3"
  },
  "language_info": {
   "codemirror_mode": {
    "name": "ipython",
    "version": 3
   },
   "file_extension": ".py",
   "mimetype": "text/x-python",
   "name": "python",
   "nbconvert_exporter": "python",
   "pygments_lexer": "ipython3",
   "version": "3.5.2"
  }
 },
 "nbformat": 4,
 "nbformat_minor": 2
}
