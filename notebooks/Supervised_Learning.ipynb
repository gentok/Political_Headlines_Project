{
 "cells": [
  {
   "cell_type": "markdown",
   "metadata": {},
   "source": [
    "<center> <h1> Exploring and Predicting Characteristics of Japanese Newspaper Headlines </h1> </center>\n",
    "\n",
    "<center> <h2> <i>STA208 Final Project (Spring 2017)</i> </h2> </center>\n",
    "<center> <h3> <i>Tzu-ping Liu and Gento Kato</i> </h3> </center>\n",
    "\n",
    "[*Back to Summary Notebook*](Project_Summary_STA208.ipynb)"
   ]
  },
  {
   "cell_type": "markdown",
   "metadata": {
    "deletable": true,
    "editable": true
   },
   "source": [
    "<center> <h1> <i>Section V</i> </h1> </center>\n",
    "<center> <h1> Predicting Negative Sentiments in Newspaper Headlines </h1> </center>"
   ]
  },
  {
   "cell_type": "markdown",
   "metadata": {
    "deletable": true,
    "editable": true
   },
   "source": [
    "## 1. Purpose\n",
    "\n",
    "Apply supervised learning methods to the data"
   ]
  },
  {
   "cell_type": "markdown",
   "metadata": {
    "deletable": true,
    "editable": true
   },
   "source": [
    "## 2. Preparation\n",
    "\n",
    "### 2.0 Import Required Packages"
   ]
  },
  {
   "cell_type": "code",
   "execution_count": 1,
   "metadata": {
    "collapsed": true,
    "deletable": true,
    "editable": true
   },
   "outputs": [],
   "source": [
    "#%reset"
   ]
  },
  {
   "cell_type": "code",
   "execution_count": 2,
   "metadata": {
    "collapsed": false,
    "deletable": true,
    "editable": true
   },
   "outputs": [],
   "source": [
    "## Data Mining\n",
    "import pandas as pd\n",
    "import numpy as np\n",
    "import matplotlib as mpl\n",
    "import matplotlib.pyplot as plt\n",
    "%matplotlib inline\n",
    "plt.style.use('ggplot')\n",
    "\n",
    "## Classification Method\n",
    "from sklearn import preprocessing, neighbors ## KNN\n",
    "import sklearn.linear_model as skl_lm ## Linear Methods (Logit)\n",
    "from sklearn.discriminant_analysis import LinearDiscriminantAnalysis ## Linear Discricimant Analysis\n",
    "from sklearn.svm import SVC ## Support Vector Machine \n",
    "from sklearn.naive_bayes import BernoulliNB ## Naive Bayes\n",
    "from sklearn.ensemble import RandomForestClassifier ## Random Forest\n",
    "\n",
    "## Model Selection and Metrics\n",
    "from sklearn.model_selection import train_test_split, LeaveOneOut, KFold\n",
    "from sklearn.metrics import confusion_matrix, classification_report, precision_recall_curve, roc_curve\n",
    "from sklearn.metrics import auc, roc_auc_score, average_precision_score"
   ]
  },
  {
   "cell_type": "markdown",
   "metadata": {
    "deletable": true,
    "editable": true
   },
   "source": [
    "### 2.1 Load Data"
   ]
  },
  {
   "cell_type": "code",
   "execution_count": 3,
   "metadata": {
    "collapsed": false,
    "deletable": true,
    "editable": true
   },
   "outputs": [],
   "source": [
    "## All Data\n",
    "alldata = pd.read_csv(\"../../data/alldata_traincode_170510.csv\", encoding='CP932')\n",
    "allWrdMat10 = pd.read_csv(\"../../data/allWrdMat10.csv.gz\", encoding='CP932')\n",
    "\n",
    "## Test on Cabinet Data\n",
    "#cabinetdata = pd.read_csv('../data_public/cabinetdata_traincode.csv', encoding='CP932', na_values='NA')\n",
    "#cabinetWrdMat10 = pd.read_csv('../data_public/cabinetWrdMat10.csv', encoding='CP932', na_values='NA')\n",
    "\n",
    "## Test on LDP Data\n",
    "#ldpdata = pd.read_csv('../data_public/ldpdata_traincode.csv', encoding='CP932', na_values='NA')\n",
    "#ldpWrdMat10 = pd.read_csv('../data_public/ldpWrdMat10.csv', encoding='CP932', na_values='NA')\n",
    "\n",
    "## Test on Politics Data (FOR THIS EXAMPLE)\n",
    "#politicsdata = pd.read_csv('../data_public/politicsdata_traincode.csv', encoding='CP932', na_values='NA')\n",
    "#politicsWrdMat10 = pd.read_csv('../data_public/politicsWrdMat10.csv', encoding='CP932', na_values='NA')"
   ]
  },
  {
   "cell_type": "code",
   "execution_count": null,
   "metadata": {
    "collapsed": true,
    "deletable": true,
    "editable": true
   },
   "outputs": [],
   "source": [
    "allWrdMat10_count = allWrdMat10.groupby(by=train).count()"
   ]
  },
  {
   "cell_type": "code",
   "execution_count": 18,
   "metadata": {
    "collapsed": false,
    "deletable": true,
    "editable": true
   },
   "outputs": [
    {
     "data": {
      "text/html": [
       "<div>\n",
       "<table border=\"1\" class=\"dataframe\">\n",
       "  <thead>\n",
       "    <tr style=\"text-align: right;\">\n",
       "      <th></th>\n",
       "      <th>id_all</th>\n",
       "      <th>id_inpaper</th>\n",
       "      <th>id_original</th>\n",
       "      <th>year</th>\n",
       "      <th>month</th>\n",
       "      <th>date</th>\n",
       "      <th>ymonth</th>\n",
       "      <th>Headline</th>\n",
       "      <th>paper</th>\n",
       "      <th>wcount</th>\n",
       "      <th>Asahi</th>\n",
       "      <th>Yomiuri</th>\n",
       "      <th>jijistartdate</th>\n",
       "      <th>jijiymonth</th>\n",
       "      <th>codeN</th>\n",
       "      <th>train</th>\n",
       "    </tr>\n",
       "  </thead>\n",
       "  <tbody>\n",
       "    <tr>\n",
       "      <th>0</th>\n",
       "      <td>1</td>\n",
       "      <td>1</td>\n",
       "      <td>3</td>\n",
       "      <td>1987</td>\n",
       "      <td>11</td>\n",
       "      <td>7</td>\n",
       "      <td>198711</td>\n",
       "      <td>竹下首相任命式も皇太子殿下が出席</td>\n",
       "      <td>A</td>\n",
       "      <td>85.0</td>\n",
       "      <td>1.0</td>\n",
       "      <td>NaN</td>\n",
       "      <td>7</td>\n",
       "      <td>198711</td>\n",
       "      <td>NaN</td>\n",
       "      <td>0</td>\n",
       "    </tr>\n",
       "    <tr>\n",
       "      <th>1</th>\n",
       "      <td>2</td>\n",
       "      <td>2</td>\n",
       "      <td>4</td>\n",
       "      <td>1987</td>\n",
       "      <td>11</td>\n",
       "      <td>7</td>\n",
       "      <td>198711</td>\n",
       "      <td>米国務次官補、懸案協議へあす来日</td>\n",
       "      <td>A</td>\n",
       "      <td>426.0</td>\n",
       "      <td>1.0</td>\n",
       "      <td>NaN</td>\n",
       "      <td>7</td>\n",
       "      <td>198711</td>\n",
       "      <td>NaN</td>\n",
       "      <td>0</td>\n",
       "    </tr>\n",
       "    <tr>\n",
       "      <th>2</th>\n",
       "      <td>3</td>\n",
       "      <td>3</td>\n",
       "      <td>5</td>\n",
       "      <td>1987</td>\n",
       "      <td>11</td>\n",
       "      <td>7</td>\n",
       "      <td>198711</td>\n",
       "      <td>政策遂行は党主導か　竹下内閣発足＜解説＞</td>\n",
       "      <td>A</td>\n",
       "      <td>1033.0</td>\n",
       "      <td>1.0</td>\n",
       "      <td>NaN</td>\n",
       "      <td>7</td>\n",
       "      <td>198711</td>\n",
       "      <td>NaN</td>\n",
       "      <td>0</td>\n",
       "    </tr>\n",
       "  </tbody>\n",
       "</table>\n",
       "</div>"
      ],
      "text/plain": [
       "   id_all  id_inpaper  id_original  year  month  date  ymonth  \\\n",
       "0       1           1            3  1987     11     7  198711   \n",
       "1       2           2            4  1987     11     7  198711   \n",
       "2       3           3            5  1987     11     7  198711   \n",
       "\n",
       "               Headline paper  wcount  Asahi  Yomiuri  jijistartdate  \\\n",
       "0      竹下首相任命式も皇太子殿下が出席     A    85.0    1.0      NaN              7   \n",
       "1      米国務次官補、懸案協議へあす来日     A   426.0    1.0      NaN              7   \n",
       "2  政策遂行は党主導か　竹下内閣発足＜解説＞     A  1033.0    1.0      NaN              7   \n",
       "\n",
       "   jijiymonth  codeN  train  \n",
       "0      198711    NaN      0  \n",
       "1      198711    NaN      0  \n",
       "2      198711    NaN      0  "
      ]
     },
     "execution_count": 18,
     "metadata": {},
     "output_type": "execute_result"
    }
   ],
   "source": [
    "alldata.head(3)"
   ]
  },
  {
   "cell_type": "code",
   "execution_count": 19,
   "metadata": {
    "collapsed": false,
    "deletable": true,
    "editable": true
   },
   "outputs": [
    {
     "data": {
      "text/html": [
       "<div>\n",
       "<table border=\"1\" class=\"dataframe\">\n",
       "  <thead>\n",
       "    <tr style=\"text-align: right;\">\n",
       "      <th></th>\n",
       "      <th>?</th>\n",
       "      <th>．</th>\n",
       "      <th>・</th>\n",
       "      <th>％</th>\n",
       "      <th>０</th>\n",
       "      <th>１</th>\n",
       "      <th>１０月</th>\n",
       "      <th>１１月</th>\n",
       "      <th>１２月</th>\n",
       "      <th>１つ</th>\n",
       "      <th>...</th>\n",
       "      <th>瀋陽</th>\n",
       "      <th>疆</th>\n",
       "      <th>盧</th>\n",
       "      <th>籠</th>\n",
       "      <th>絆</th>\n",
       "      <th>胚</th>\n",
       "      <th>諫早</th>\n",
       "      <th>趙</th>\n",
       "      <th>鉉</th>\n",
       "      <th>鎔基</th>\n",
       "    </tr>\n",
       "  </thead>\n",
       "  <tbody>\n",
       "    <tr>\n",
       "      <th>0</th>\n",
       "      <td>0</td>\n",
       "      <td>0</td>\n",
       "      <td>0</td>\n",
       "      <td>0</td>\n",
       "      <td>0</td>\n",
       "      <td>0</td>\n",
       "      <td>0</td>\n",
       "      <td>0</td>\n",
       "      <td>0</td>\n",
       "      <td>0</td>\n",
       "      <td>...</td>\n",
       "      <td>0</td>\n",
       "      <td>0</td>\n",
       "      <td>0</td>\n",
       "      <td>0</td>\n",
       "      <td>0</td>\n",
       "      <td>0</td>\n",
       "      <td>0</td>\n",
       "      <td>0</td>\n",
       "      <td>0</td>\n",
       "      <td>0</td>\n",
       "    </tr>\n",
       "    <tr>\n",
       "      <th>1</th>\n",
       "      <td>0</td>\n",
       "      <td>0</td>\n",
       "      <td>0</td>\n",
       "      <td>0</td>\n",
       "      <td>0</td>\n",
       "      <td>0</td>\n",
       "      <td>0</td>\n",
       "      <td>0</td>\n",
       "      <td>0</td>\n",
       "      <td>0</td>\n",
       "      <td>...</td>\n",
       "      <td>0</td>\n",
       "      <td>0</td>\n",
       "      <td>0</td>\n",
       "      <td>0</td>\n",
       "      <td>0</td>\n",
       "      <td>0</td>\n",
       "      <td>0</td>\n",
       "      <td>0</td>\n",
       "      <td>0</td>\n",
       "      <td>0</td>\n",
       "    </tr>\n",
       "    <tr>\n",
       "      <th>2</th>\n",
       "      <td>0</td>\n",
       "      <td>0</td>\n",
       "      <td>0</td>\n",
       "      <td>0</td>\n",
       "      <td>0</td>\n",
       "      <td>0</td>\n",
       "      <td>0</td>\n",
       "      <td>0</td>\n",
       "      <td>0</td>\n",
       "      <td>0</td>\n",
       "      <td>...</td>\n",
       "      <td>0</td>\n",
       "      <td>0</td>\n",
       "      <td>0</td>\n",
       "      <td>0</td>\n",
       "      <td>0</td>\n",
       "      <td>0</td>\n",
       "      <td>0</td>\n",
       "      <td>0</td>\n",
       "      <td>0</td>\n",
       "      <td>0</td>\n",
       "    </tr>\n",
       "  </tbody>\n",
       "</table>\n",
       "<p>3 rows × 8655 columns</p>\n",
       "</div>"
      ],
      "text/plain": [
       "   ?  ．  ・  ％  ０  １  １０月  １１月  １２月  １つ ...  瀋陽  疆  盧  籠  絆  胚  諫早  趙  鉉  鎔基\n",
       "0  0  0  0  0  0  0    0    0    0   0 ...   0  0  0  0  0  0   0  0  0   0\n",
       "1  0  0  0  0  0  0    0    0    0   0 ...   0  0  0  0  0  0   0  0  0   0\n",
       "2  0  0  0  0  0  0    0    0    0   0 ...   0  0  0  0  0  0   0  0  0   0\n",
       "\n",
       "[3 rows x 8655 columns]"
      ]
     },
     "execution_count": 19,
     "metadata": {},
     "output_type": "execute_result"
    }
   ],
   "source": [
    "allWrdMat10.head(3)"
   ]
  },
  {
   "cell_type": "markdown",
   "metadata": {
    "deletable": true,
    "editable": true
   },
   "source": [
    "### 2.2 Prepare Training Data and Testing Data"
   ]
  },
  {
   "cell_type": "code",
   "execution_count": 20,
   "metadata": {
    "collapsed": false,
    "deletable": true,
    "editable": true
   },
   "outputs": [],
   "source": [
    "targetx = allWrdMat10\n",
    "targety = alldata\n",
    "\n",
    "X = np.array(targetx.loc[targety['train'] == 1,:])\n",
    "y = np.array(targety.loc[targety['train'] == 1,'codeN'])\n",
    "\n",
    "X_train, X_test, y_train, y_test = train_test_split(X, y, test_size=.3, random_state=0)"
   ]
  },
  {
   "cell_type": "markdown",
   "metadata": {
    "deletable": true,
    "editable": true
   },
   "source": [
    "## 3. Conduct Classification (One Shot)"
   ]
  },
  {
   "cell_type": "markdown",
   "metadata": {
    "deletable": true,
    "editable": true
   },
   "source": [
    "### 3.0 Function to Simulate the Result"
   ]
  },
  {
   "cell_type": "code",
   "execution_count": 59,
   "metadata": {
    "collapsed": false,
    "deletable": true,
    "editable": true
   },
   "outputs": [],
   "source": [
    "def class_onestep_accu(X_train, y_train, X_test, y_test, clmod):\n",
    "    \"\"\"\n",
    "    Store accuracy score from one-step classification method.\n",
    "    \n",
    "    Input: design matrix for code training, X_train, response vector for code training, y_train, \n",
    "           design matrix for code test, X_test, response vector for code training, y_test, \n",
    "           a classification model, clmod\n",
    "    Output: Accuracy score, accuracy\n",
    "    \"\"\"\n",
    "    clmod.fit(X_train,y_train) ## Fit Model on Training Data\n",
    "    predy = clmod.predict(X_test)  # predicted Y (for test y)\n",
    "    accuracy = accuracy_score(y_test,predy)\n",
    "    return accuracy \n",
    "\n",
    "def class_onestep_auc(X_train, y_train, X_test, y_test, clmod):\n",
    "    \"\"\"\n",
    "    Store AUC measures from one-step classification method.\n",
    "    \n",
    "    Input: design matrix for code training, X_train, response vector for code training, y_train, \n",
    "           design matrix for code test, X_test, response vector for code training, y_test, \n",
    "           a classification model, clmod\n",
    "    Output: false positive rate, modfpr, true positive rate, modtpr, area under curve, modauc, \n",
    "            precision, modprec, recall, modrec, average precision, modprauc\n",
    "    \"\"\"\n",
    "    clmod.fit(X_train,y_train) ## Fit Model on Training Data\n",
    "    proby = clmod.predict_proba(X_test)[:,1]  # predicted Y (for test y)\n",
    "    modfpr, modtpr, _  = roc_curve(y_test, proby) #ROC Curve\n",
    "    modrocauc = auc(modfpr, modtpr) # Area Under Curve (AUC) for ROC\n",
    "    modprec, modrec, _ = precision_recall_curve(y_test, proby) #PR Curve\n",
    "    modprauc = auc(modrec, modprec) ## Average Precision from PR Curve\n",
    "    return modfpr, modtpr, modrocauc, modprec, modrec, modprauc\n",
    "\n",
    "def class_oneshot(X, y, clmod, testsize = .2, randomstate=2342):\n",
    "    \"\"\"\n",
    "    Store test measures from one-shot classification methods.\n",
    "    \n",
    "    Input: design matrix, X, response vector, y, \n",
    "           a classification model, clmod, size of test set, testsize\n",
    "    Output: false positive rate, modfpr, true positive rate, modtpr, area under curve, modauc, \n",
    "            precision, modprec, recall, modrec, average precision, modprav\n",
    "    \"\"\"\n",
    "    X_train, X_test, y_train, y_test = train_test_split(X, y, test_size=testsize, random_state=randomstate) ## Train-Test Split\n",
    "    modfpr, modtpr, modrocauc, modprec, modrec, modprauc = class_onestep_auc(X_train, y_train, X_test, y_test, clmod) ## Conduct one_step classification\n",
    "    return modfpr, modtpr, modrocauc, modprec, modrec, modprauc"
   ]
  },
  {
   "cell_type": "code",
   "execution_count": 61,
   "metadata": {
    "collapsed": false,
    "deletable": true,
    "editable": true
   },
   "outputs": [],
   "source": [
    "def class_validation(X, y, clmod, score_method = 'Accuracy', val_method = 'KFold', k = 5, testsize = 0.5, simuN=1, startrand = 3423):\n",
    "    \n",
    "    \"\"\"\n",
    "    Simulate and store test measures from k-fold cross-validation classification.\n",
    "    \n",
    "    Input: design matrix, X, response vector, y, \n",
    "           a classification model, clmod, itereation number, n\n",
    "    Output: false positive rate, modfpr, true positive rate, modtpr, are under curve, modauc, precision, modprec, recall, modrec\n",
    "    \"\"\"\n",
    "    \n",
    "    modrocauc = np.array([])\n",
    "    modprauc = np.array([])\n",
    "    modaccu = np.array([])\n",
    "\n",
    "    if score_method == 'Accuracy':\n",
    "        \n",
    "        if val_method == 'KFold':\n",
    "            kf = KFold(n_splits = k)\n",
    "            for train_index, test_index in kf.split(X):\n",
    "                X_train, X_test = X[train_index], X[test_index]\n",
    "                y_train, y_test = y[train_index], y[test_index]\n",
    "                ## Conduct one_step classification\n",
    "                modaccu_temp = class_onestep_accu(X_train, y_train, X_test, y_test, clmod) \n",
    "                ## Append Accuracy\n",
    "                modaccu = np.append(modaccu,modaccu_temp)\n",
    "\n",
    "        if val_method == 'LeaveOneOut':\n",
    "            loo = LeaveOneOut()\n",
    "            for train_index, test_index in loo.split(X):\n",
    "                X_train, X_test = X[train_index], X[test_index]\n",
    "                y_train, y_test = y[train_index], y[test_index]\n",
    "                ## Conduct one_step classification\n",
    "                modaccu_temp = class_onestep_accu(X_train, y_train, X_test, y_test, clmod) \n",
    "                ## Append Accuracies\n",
    "                modaccu = np.append(modaccu,modaccu_temp)\n",
    "        \n",
    "        if val_method == 'HoldOut':\n",
    "            for i in range(1, simuN+1):\n",
    "                X_train, X_test, y_train, y_test = train_test_split(X, y, test_size=testsize, random_state=i+(startrand-1))\n",
    "                ## Conduct one_step classification\n",
    "                modaccu_temp = class_onestep_accu(X_train, y_train, X_test, y_test, clmod) \n",
    "                ## Append Accuracies\n",
    "                modaccu = np.append(modaccu,modaccu_temp)\n",
    "        \n",
    "        return np.mean(modaccu)\n",
    "            \n",
    "    if score_method == 'AUC':\n",
    "        \n",
    "        if val_method == 'KFold':\n",
    "            kf = KFold(n_splits = k)\n",
    "            for train_index, test_index in kf.split(X):\n",
    "                X_train, X_test = X[train_index], X[test_index]\n",
    "                y_train, y_test = y[train_index], y[test_index]\n",
    "                ## Conduct one_step classification\n",
    "                _,_,modrocauc_temp,_,_,modprauc_temp = class_onestep_auc(X_train, y_train, X_test, y_test, clmod) \n",
    "                ## Append AUCs\n",
    "                modrocauc = np.append(modrocauc,modrocauc_temp)\n",
    "                modprauc = np.append(modprauc,modprauc_temp)\n",
    "                \n",
    "        if val_method == 'HoldOut':\n",
    "            for i in range(1, simuN+1):\n",
    "                X_train, X_test, y_train, y_test = train_test_split(X, y, test_size=testsize, random_state=i+(startrand-1))\n",
    "                ## Conduct one_step classification\n",
    "                _,_,modrocauc_temp,_,_,modprauc_temp = class_onestep_auc(X_train, y_train, X_test, y_test, clmod) \n",
    "                ## Append AUCs\n",
    "                modrocauc = np.append(modrocauc,modrocauc_temp)\n",
    "                modprauc = np.append(modprauc,modprauc_temp)        \n",
    "        \n",
    "        return np.mean(modrocauc), np.mean(modprauc)            "
   ]
  },
  {
   "cell_type": "markdown",
   "metadata": {
    "deletable": true,
    "editable": true
   },
   "source": [
    "### 3.1 K Nearest Neighbors"
   ]
  },
  {
   "cell_type": "code",
   "execution_count": 62,
   "metadata": {
    "collapsed": false,
    "deletable": true,
    "editable": true,
    "scrolled": true
   },
   "outputs": [],
   "source": [
    "## With k \n",
    "k = 100\n",
    "knn = neighbors.KNeighborsClassifier(n_neighbors=k) ##knn estimation\n",
    "\n",
    "## On Test Set\n",
    "knnfpr, knntpr, knnrocauc, knnprec, knnrec, knnprauc = class_oneshot(X, y, knn)"
   ]
  },
  {
   "cell_type": "markdown",
   "metadata": {
    "deletable": true,
    "editable": true
   },
   "source": [
    "### 3.2 Logistic Regression (With Newton Conjugate Solver)"
   ]
  },
  {
   "cell_type": "code",
   "execution_count": 63,
   "metadata": {
    "collapsed": false,
    "deletable": true,
    "editable": true
   },
   "outputs": [],
   "source": [
    "## Logistic Regression\n",
    "logit = skl_lm.LogisticRegression(solver='newton-cg')\n",
    "\n",
    "## On Test Set\n",
    "logitfpr, logittpr, logitrocauc, logitprec, logitrec, logitprauc = class_oneshot(X, y, logit)"
   ]
  },
  {
   "cell_type": "markdown",
   "metadata": {
    "deletable": true,
    "editable": true
   },
   "source": [
    "### 3.3 Linear Discriminant Analysis"
   ]
  },
  {
   "cell_type": "code",
   "execution_count": 64,
   "metadata": {
    "collapsed": false,
    "deletable": true,
    "editable": true
   },
   "outputs": [],
   "source": [
    "## Linear Discriminant Analysis\n",
    "lda = LinearDiscriminantAnalysis()\n",
    "\n",
    "## On Test Set\n",
    "ldafpr, ldatpr, ldarocauc, ldaprec, ldarec, ldaprauc = class_oneshot(X, y, lda)"
   ]
  },
  {
   "cell_type": "markdown",
   "metadata": {
    "deletable": true,
    "editable": true
   },
   "source": [
    "### 3.4 Support Vector Machine"
   ]
  },
  {
   "cell_type": "code",
   "execution_count": 65,
   "metadata": {
    "collapsed": true,
    "deletable": true,
    "editable": true
   },
   "outputs": [],
   "source": [
    "## Support Vector Machines\n",
    "svmcl = SVC(probability=True)\n",
    "\n",
    "## On Test Set\n",
    "svmfpr, svmtpr, svmrocauc, svmprec, svmrec, svmprauc = class_oneshot(X, y, svmcl)"
   ]
  },
  {
   "cell_type": "markdown",
   "metadata": {
    "deletable": true,
    "editable": true
   },
   "source": [
    "### 3.5 Bernoulli Naive Bayes "
   ]
  },
  {
   "cell_type": "code",
   "execution_count": 66,
   "metadata": {
    "collapsed": true,
    "deletable": true,
    "editable": true
   },
   "outputs": [],
   "source": [
    "## Bernoulli Naive Bayes\n",
    "nb = BernoulliNB()\n",
    " \n",
    "## On Test Set\n",
    "nbfpr, nbtpr, nbrocauc, nbprec, nbrec, nbprauc = class_oneshot(X, y, nb)"
   ]
  },
  {
   "cell_type": "markdown",
   "metadata": {
    "deletable": true,
    "editable": true
   },
   "source": [
    "### 3.5 Random Forest "
   ]
  },
  {
   "cell_type": "code",
   "execution_count": 67,
   "metadata": {
    "collapsed": false,
    "deletable": true,
    "editable": true
   },
   "outputs": [],
   "source": [
    "## Random Forest\n",
    "rf = RandomForestClassifier(n_estimators=500)\n",
    "\n",
    "## On Test Set\n",
    "rffpr, rftpr, rfrocauc, rfprec, rfrec, rfprauc = class_oneshot(X, y, rf)"
   ]
  },
  {
   "cell_type": "markdown",
   "metadata": {
    "deletable": true,
    "editable": true
   },
   "source": [
    "## 4. Compare The Result"
   ]
  },
  {
   "cell_type": "markdown",
   "metadata": {
    "deletable": true,
    "editable": true
   },
   "source": [
    "### 4.1 ROC Curve"
   ]
  },
  {
   "cell_type": "code",
   "execution_count": 32,
   "metadata": {
    "collapsed": false,
    "deletable": true,
    "editable": true
   },
   "outputs": [
    {
     "data": {
      "image/png": "[encoded data removed]",
      "text/plain": [
       "<matplotlib.figure.Figure at 0x26c807240>"
      ]
     },
     "metadata": {},
     "output_type": "display_data"
    }
   ],
   "source": [
    "plt.rcParams[\"figure.figsize\"] = (17,4)\n",
    "f, (ax0, ax1, ax2, ax3, ax4, ax5),  = plt.subplots(1, 6, sharey=True)\n",
    "f.text(0.5, 0.02, 'False Positive Rate', ha='center', va='center', fontsize = 15)\n",
    "f.text(0.06, 0.5, 'True Positive Rate', ha='center', va='center', rotation='vertical', fontsize = 15)\n",
    "\n",
    "ax0.plot(knnfpr, knntpr, 'k-', label = 'ROC Curve \\n(Area = %0.3f)' % knnrocauc)\n",
    "ax0.plot([0, 1], [0, 1], color='gray', lw=2, linestyle='--')\n",
    "ax0.set_title('KNN (K=100)');\n",
    "ax0.set_xlim(-0.05,1.05)\n",
    "ax0.set_ylim(-0.05,1.05)\n",
    "ax0.legend(loc=\"lower right\")\n",
    "\n",
    "ax1.plot(logitfpr, logittpr, 'r-', label = 'ROC Curve \\n(Area = %0.3f)' % logitrocauc)\n",
    "ax1.plot([0, 1], [0, 1], color='gray', lw=2, linestyle='--')\n",
    "ax1.set_title('Logit');\n",
    "ax1.set_xlim(-0.05,1.05)\n",
    "ax1.set_ylim(-0.05,1.05)\n",
    "ax1.legend(loc=\"lower right\")\n",
    "\n",
    "ax2.plot(ldafpr, ldatpr, 'g-', label = 'ROC Curve \\n(Area = %0.3f)' % ldarocauc)\n",
    "ax2.plot([0, 1], [0, 1], color='gray', lw=2, linestyle='--')\n",
    "ax2.set_title('LDA');\n",
    "ax2.set_xlim(-0.05,1.05)\n",
    "ax2.set_ylim(-0.05,1.05)\n",
    "ax2.legend(loc=\"lower right\")\n",
    "\n",
    "ax3.plot(svmfpr, svmtpr, 'b-', label = 'ROC Curve \\n(Area = %0.3f)' % svmrocauc)\n",
    "ax3.plot([0, 1], [0, 1], color='gray', lw=2, linestyle='--')\n",
    "ax3.set_title('SVM');\n",
    "ax3.set_xlim(-0.05,1.05)\n",
    "ax3.set_ylim(-0.05,1.05)\n",
    "ax3.legend(loc=\"lower right\")\n",
    "\n",
    "ax4.plot(nbfpr, nbtpr, 'm-', label = 'ROC Curve \\n(Area = %0.3f)' % nbrocauc)\n",
    "ax4.plot([0, 1], [0, 1], color='gray', lw=2, linestyle='--')\n",
    "ax4.set_title('Naive Bayes');\n",
    "ax4.set_xlim(-0.05,1.05)\n",
    "ax4.set_ylim(-0.05,1.05)\n",
    "ax4.legend(loc=\"lower right\")\n",
    "\n",
    "ax5.plot(rffpr, rftpr, 'c-', label = 'ROC Curve \\n(Area = %0.3f)' % rfrocauc)\n",
    "ax5.plot([0, 1], [0, 1], color='gray', lw=2, linestyle='--')\n",
    "ax5.set_title('Random Forest');\n",
    "ax5.set_xlim(-0.05,1.05)\n",
    "ax5.set_ylim(-0.05,1.05)\n",
    "ax5.legend(loc=\"lower right\")\n",
    "\n",
    "plt.show()"
   ]
  },
  {
   "cell_type": "markdown",
   "metadata": {
    "deletable": true,
    "editable": true
   },
   "source": [
    "### 4.2 PR Curve"
   ]
  },
  {
   "cell_type": "code",
   "execution_count": 33,
   "metadata": {
    "collapsed": false,
    "deletable": true,
    "editable": true
   },
   "outputs": [
    {
     "data": {
      "image/png": "[encoded data removed]",
      "text/plain": [
       "<matplotlib.figure.Figure at 0x7b344940>"
      ]
     },
     "metadata": {},
     "output_type": "display_data"
    }
   ],
   "source": [
    "plt.rcParams[\"figure.figsize\"] = (17,4)\n",
    "f, (ax0, ax1, ax2, ax3, ax4, ax5) = plt.subplots(1, 6, sharey=True)\n",
    "f.text(0.5, 0.02, 'Recall', ha='center', va='center', fontsize = 15)\n",
    "f.text(0.06, 0.5, 'Precision', ha='center', va='center', rotation='vertical', fontsize = 15)\n",
    "\n",
    "ax0.plot(knnrec, knnprec, 'k-', label = 'PR Curve \\n(Area = %0.3f)' % knnprauc)\n",
    "ax0.set_title('KNN (K=100)');\n",
    "ax0.set_xlim(-0.05,1.05)\n",
    "ax0.set_ylim(-0.05,1.05)\n",
    "ax0.legend(loc=\"lower right\")\n",
    "\n",
    "ax1.plot(logitrec, logitprec, 'r-', label = 'PR Curve \\n(Area = %0.3f)' % logitprauc)\n",
    "ax1.set_title('Logit');\n",
    "ax1.set_xlim(-0.05,1.05)\n",
    "ax1.set_ylim(-0.05,1.05)\n",
    "ax1.legend(loc=\"lower right\")\n",
    "\n",
    "ax2.plot(ldarec, ldaprec, 'g-', label = 'PR Curve \\n(Area = %0.3f)' % ldaprauc)\n",
    "ax2.set_title('LDA');\n",
    "ax2.set_xlim(-0.05,1.05)\n",
    "ax2.set_ylim(-0.05,1.05)\n",
    "ax2.legend(loc=\"lower right\")\n",
    "\n",
    "ax3.plot(svmrec, svmprec, 'b-', label = 'PR Curve \\n(Area = %0.3f)' % svmprauc)\n",
    "ax3.set_title('SVM');\n",
    "ax3.set_xlim(-0.05,1.05)\n",
    "ax3.set_ylim(-0.05,1.05)\n",
    "ax3.legend(loc=\"lower right\")\n",
    "\n",
    "ax4.plot(nbrec, nbprec, 'm-', label = 'PR Curve \\n(Area = %0.3f)' % nbprauc)\n",
    "ax4.set_title('Naive Bayes');\n",
    "ax4.set_xlim(-0.05,1.05)\n",
    "ax4.set_ylim(-0.05,1.05)\n",
    "ax4.legend(loc=\"lower right\")\n",
    "\n",
    "ax5.plot(rfrec, rfprec, 'c-', label = 'PR Curve \\n(Area = %0.3f)' % rfprauc)\n",
    "ax5.set_title('Random Forest');\n",
    "ax5.set_xlim(-0.05,1.05)\n",
    "ax5.set_ylim(-0.05,1.05)\n",
    "ax5.legend(loc=\"lower right\")\n",
    "\n",
    "plt.show()"
   ]
  },
  {
   "cell_type": "markdown",
   "metadata": {
    "deletable": true,
    "editable": true
   },
   "source": [
    "## 5. Store the Result"
   ]
  },
  {
   "cell_type": "markdown",
   "metadata": {
    "deletable": true,
    "editable": true
   },
   "source": [
    "### 5.1 Predictions of Full Dataset"
   ]
  },
  {
   "cell_type": "code",
   "execution_count": 4,
   "metadata": {
    "collapsed": true,
    "deletable": true,
    "editable": true
   },
   "outputs": [],
   "source": [
    "def class_simpred(Xall, X, y, clmod, n, testsize = .2):\n",
    "    \"\"\"\n",
    "    Simulate and store predicted probabilities from classification methods.\n",
    "    \n",
    "    Input: All design matrix, Xall, training design matrix, X, response vector, y, \n",
    "           a classification model, clmod, itereation number, n\n",
    "    Output: predicted probabilities, probyA\n",
    "    \"\"\"\n",
    "    probyA = np.array([]).reshape(0,X.shape[1])\n",
    "    for i in range(1, n+1):\n",
    "        X_train, X_test, y_train, y_test = train_test_split(X, y, test_size=testsize, random_state=i) ## Train-Test Split\n",
    "        clmod.fit(X_train,y_train) ## Fit Model on Training Data\n",
    "        probyA_temp = clmod.predict_proba(Xall)[:,1]  # predicted all Y (for All y)        \n",
    "        probyA = np.vstack([probyA, probyA_temp])\n",
    "    return probyA"
   ]
  },
  {
   "cell_type": "code",
   "execution_count": null,
   "metadata": {
    "collapsed": true,
    "deletable": true,
    "editable": true
   },
   "outputs": [],
   "source": []
  }
 ],
 "metadata": {
  "kernelspec": {
   "display_name": "Python 2",
   "language": "python",
   "name": "python2"
  },
  "language_info": {
   "codemirror_mode": {
    "name": "ipython",
    "version": 2
   },
   "file_extension": ".py",
   "mimetype": "text/x-python",
   "name": "python",
   "nbconvert_exporter": "python",
   "pygments_lexer": "ipython2",
   "version": "2.7.13"
  }
 },
 "nbformat": 4,
 "nbformat_minor": 2
}
