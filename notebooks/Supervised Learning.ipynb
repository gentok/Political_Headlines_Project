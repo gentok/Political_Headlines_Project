{
 "cells": [
  {
   "cell_type": "markdown",
   "metadata": {
    "deletable": true,
    "editable": true
   },
   "source": [
    "# Initializing Supervised Learning"
   ]
  },
  {
   "cell_type": "markdown",
   "metadata": {
    "deletable": true,
    "editable": true
   },
   "source": [
    "## 1. Purpose\n",
    "\n",
    "Apply supervised learning methods to the data"
   ]
  },
  {
   "cell_type": "markdown",
   "metadata": {
    "deletable": true,
    "editable": true
   },
   "source": [
    "## 2. Preparation\n",
    "\n",
    "### 2.0 Import Required Packages"
   ]
  },
  {
   "cell_type": "code",
   "execution_count": 11,
   "metadata": {
    "collapsed": false,
    "deletable": true,
    "editable": true
   },
   "outputs": [],
   "source": [
    "import pandas as pd\n",
    "import numpy as np\n",
    "import matplotlib as mpl\n",
    "import matplotlib.pyplot as plt\n",
    "%matplotlib inline\n",
    "plt.style.use('ggplot')\n",
    "\n",
    "import sklearn.linear_model as skl_lm\n",
    "from sklearn.discriminant_analysis import LinearDiscriminantAnalysis\n",
    "from sklearn.metrics import confusion_matrix, classification_report, precision_recall_curve, roc_curve, auc\n",
    "from sklearn import preprocessing, neighbors\n",
    "from sklearn.svm import SVC\n",
    "from sklearn.model_selection import train_test_split, LeaveOneOut"
   ]
  },
  {
   "cell_type": "markdown",
   "metadata": {
    "deletable": true,
    "editable": true
   },
   "source": [
    "### 2.1 Load Data"
   ]
  },
  {
   "cell_type": "code",
   "execution_count": 7,
   "metadata": {
    "collapsed": true,
    "deletable": true,
    "editable": true
   },
   "outputs": [],
   "source": [
    "## All Data are too heavy\n",
    "#alldata = pd.read_csv(\"../../data/alldata_traincode_170510.csv\", encoding='CP932')\n",
    "#allWrdMat10 = pd.read_csv(\"../../allWrdMat10.csv\", encoding='CP932')\n",
    "\n",
    "## Test on Cabinet Data\n",
    "#cabinetdata = pd.read_csv('../data_public/cabinetdata_traincode.csv', encoding='CP932', na_values='NA')\n",
    "#cabinetWrdMat10 = pd.read_csv('../data_public/cabinetWrdMat10.csv', encoding='CP932', na_values='NA')\n",
    "\n",
    "## Test on LDP Data\n",
    "#ldpdata = pd.read_csv('../data_public/ldpdata_traincode.csv', encoding='CP932', na_values='NA')\n",
    "#ldpWrdMat10 = pd.read_csv('../data_public/ldpWrdMat10.csv', encoding='CP932', na_values='NA')\n",
    "\n",
    "## Test on Politics Data (FOR THIS EXAMPLE)\n",
    "politicsdata = pd.read_csv('../data_public/politicsdata_traincode.csv', encoding='CP932', na_values='NA')\n",
    "politicsWrdMat10 = pd.read_csv('../data_public/politicsWrdMat10.csv', encoding='CP932', na_values='NA')"
   ]
  },
  {
   "cell_type": "code",
   "execution_count": 6,
   "metadata": {
    "collapsed": false,
    "deletable": true,
    "editable": true
   },
   "outputs": [
    {
     "data": {
      "text/html": [
       "<div>\n",
       "<table border=\"1\" class=\"dataframe\">\n",
       "  <thead>\n",
       "    <tr style=\"text-align: right;\">\n",
       "      <th></th>\n",
       "      <th>id_all</th>\n",
       "      <th>id_inpaper</th>\n",
       "      <th>id_original</th>\n",
       "      <th>year</th>\n",
       "      <th>month</th>\n",
       "      <th>date</th>\n",
       "      <th>ymonth</th>\n",
       "      <th>Headline</th>\n",
       "      <th>paper</th>\n",
       "      <th>wcount</th>\n",
       "      <th>Asahi</th>\n",
       "      <th>Yomiuri</th>\n",
       "      <th>jijistartdate</th>\n",
       "      <th>jijiymonth</th>\n",
       "      <th>cabinet</th>\n",
       "      <th>ldp</th>\n",
       "      <th>politics</th>\n",
       "      <th>codeN</th>\n",
       "      <th>train</th>\n",
       "    </tr>\n",
       "  </thead>\n",
       "  <tbody>\n",
       "    <tr>\n",
       "      <th>0</th>\n",
       "      <td>3</td>\n",
       "      <td>3</td>\n",
       "      <td>5</td>\n",
       "      <td>1987</td>\n",
       "      <td>11</td>\n",
       "      <td>7</td>\n",
       "      <td>198711</td>\n",
       "      <td>政策遂行は党主導か　竹下内閣発足＜解説＞</td>\n",
       "      <td>A</td>\n",
       "      <td>1033.0</td>\n",
       "      <td>1.0</td>\n",
       "      <td>NaN</td>\n",
       "      <td>7</td>\n",
       "      <td>198711</td>\n",
       "      <td>1</td>\n",
       "      <td>0</td>\n",
       "      <td>1</td>\n",
       "      <td>NaN</td>\n",
       "      <td>0</td>\n",
       "    </tr>\n",
       "    <tr>\n",
       "      <th>1</th>\n",
       "      <td>10</td>\n",
       "      <td>3</td>\n",
       "      <td>3</td>\n",
       "      <td>1987</td>\n",
       "      <td>11</td>\n",
       "      <td>7</td>\n",
       "      <td>198711</td>\n",
       "      <td>大胆な発想と実行の政治を　初閣議で竹下首相説示</td>\n",
       "      <td>Y</td>\n",
       "      <td>403.0</td>\n",
       "      <td>NaN</td>\n",
       "      <td>1.0</td>\n",
       "      <td>7</td>\n",
       "      <td>198711</td>\n",
       "      <td>1</td>\n",
       "      <td>0</td>\n",
       "      <td>1</td>\n",
       "      <td>NaN</td>\n",
       "      <td>0</td>\n",
       "    </tr>\n",
       "    <tr>\n",
       "      <th>2</th>\n",
       "      <td>17</td>\n",
       "      <td>7</td>\n",
       "      <td>8</td>\n",
       "      <td>1987</td>\n",
       "      <td>11</td>\n",
       "      <td>8</td>\n",
       "      <td>198711</td>\n",
       "      <td>「合意と決断の政治」　竹下首相、初会見で強調　内需拡大へ大型予算</td>\n",
       "      <td>Y</td>\n",
       "      <td>1470.0</td>\n",
       "      <td>NaN</td>\n",
       "      <td>1.0</td>\n",
       "      <td>7</td>\n",
       "      <td>198711</td>\n",
       "      <td>1</td>\n",
       "      <td>0</td>\n",
       "      <td>1</td>\n",
       "      <td>NaN</td>\n",
       "      <td>0</td>\n",
       "    </tr>\n",
       "  </tbody>\n",
       "</table>\n",
       "</div>"
      ],
      "text/plain": [
       "   id_all  id_inpaper  id_original  year  month  date  ymonth  \\\n",
       "0       3           3            5  1987     11     7  198711   \n",
       "1      10           3            3  1987     11     7  198711   \n",
       "2      17           7            8  1987     11     8  198711   \n",
       "\n",
       "                            Headline paper  wcount  Asahi  Yomiuri  \\\n",
       "0               政策遂行は党主導か　竹下内閣発足＜解説＞     A  1033.0    1.0      NaN   \n",
       "1           大胆な発想と実行の政治を　初閣議で竹下首相説示      Y   403.0    NaN      1.0   \n",
       "2  「合意と決断の政治」　竹下首相、初会見で強調　内需拡大へ大型予算      Y  1470.0    NaN      1.0   \n",
       "\n",
       "   jijistartdate  jijiymonth  cabinet  ldp  politics  codeN  train  \n",
       "0              7      198711        1    0         1    NaN      0  \n",
       "1              7      198711        1    0         1    NaN      0  \n",
       "2              7      198711        1    0         1    NaN      0  "
      ]
     },
     "execution_count": 6,
     "metadata": {},
     "output_type": "execute_result"
    }
   ],
   "source": [
    "politicsdata.head(3)"
   ]
  },
  {
   "cell_type": "code",
   "execution_count": 7,
   "metadata": {
    "collapsed": false,
    "deletable": true,
    "editable": true
   },
   "outputs": [
    {
     "data": {
      "text/html": [
       "<div>\n",
       "<table border=\"1\" class=\"dataframe\">\n",
       "  <thead>\n",
       "    <tr style=\"text-align: right;\">\n",
       "      <th></th>\n",
       "      <th>?</th>\n",
       "      <th>．</th>\n",
       "      <th>・</th>\n",
       "      <th>％</th>\n",
       "      <th>０</th>\n",
       "      <th>１</th>\n",
       "      <th>１０月</th>\n",
       "      <th>１１月</th>\n",
       "      <th>１２月</th>\n",
       "      <th>１月</th>\n",
       "      <th>...</th>\n",
       "      <th>論考</th>\n",
       "      <th>論説</th>\n",
       "      <th>論戦</th>\n",
       "      <th>和歌山</th>\n",
       "      <th>和平</th>\n",
       "      <th>枠</th>\n",
       "      <th>枠組み</th>\n",
       "      <th>湾岸</th>\n",
       "      <th>拉致</th>\n",
       "      <th>盧</th>\n",
       "    </tr>\n",
       "  </thead>\n",
       "  <tbody>\n",
       "    <tr>\n",
       "      <th>0</th>\n",
       "      <td>0</td>\n",
       "      <td>0</td>\n",
       "      <td>0</td>\n",
       "      <td>0</td>\n",
       "      <td>0</td>\n",
       "      <td>0</td>\n",
       "      <td>0</td>\n",
       "      <td>0</td>\n",
       "      <td>0</td>\n",
       "      <td>0</td>\n",
       "      <td>...</td>\n",
       "      <td>0</td>\n",
       "      <td>0</td>\n",
       "      <td>0</td>\n",
       "      <td>0</td>\n",
       "      <td>0</td>\n",
       "      <td>0</td>\n",
       "      <td>0</td>\n",
       "      <td>0</td>\n",
       "      <td>0</td>\n",
       "      <td>0</td>\n",
       "    </tr>\n",
       "    <tr>\n",
       "      <th>1</th>\n",
       "      <td>0</td>\n",
       "      <td>0</td>\n",
       "      <td>0</td>\n",
       "      <td>0</td>\n",
       "      <td>0</td>\n",
       "      <td>0</td>\n",
       "      <td>0</td>\n",
       "      <td>0</td>\n",
       "      <td>0</td>\n",
       "      <td>0</td>\n",
       "      <td>...</td>\n",
       "      <td>0</td>\n",
       "      <td>0</td>\n",
       "      <td>0</td>\n",
       "      <td>0</td>\n",
       "      <td>0</td>\n",
       "      <td>0</td>\n",
       "      <td>0</td>\n",
       "      <td>0</td>\n",
       "      <td>0</td>\n",
       "      <td>0</td>\n",
       "    </tr>\n",
       "    <tr>\n",
       "      <th>2</th>\n",
       "      <td>0</td>\n",
       "      <td>0</td>\n",
       "      <td>0</td>\n",
       "      <td>0</td>\n",
       "      <td>0</td>\n",
       "      <td>0</td>\n",
       "      <td>0</td>\n",
       "      <td>0</td>\n",
       "      <td>0</td>\n",
       "      <td>0</td>\n",
       "      <td>...</td>\n",
       "      <td>0</td>\n",
       "      <td>0</td>\n",
       "      <td>0</td>\n",
       "      <td>0</td>\n",
       "      <td>0</td>\n",
       "      <td>0</td>\n",
       "      <td>0</td>\n",
       "      <td>0</td>\n",
       "      <td>0</td>\n",
       "      <td>0</td>\n",
       "    </tr>\n",
       "  </tbody>\n",
       "</table>\n",
       "<p>3 rows × 2361 columns</p>\n",
       "</div>"
      ],
      "text/plain": [
       "   ?  ．  ・  ％  ０  １  １０月  １１月  １２月  １月 ...  論考  論説  論戦  和歌山  和平  枠  枠組み  湾岸  \\\n",
       "0  0  0  0  0  0  0    0    0    0   0 ...   0   0   0    0   0  0    0   0   \n",
       "1  0  0  0  0  0  0    0    0    0   0 ...   0   0   0    0   0  0    0   0   \n",
       "2  0  0  0  0  0  0    0    0    0   0 ...   0   0   0    0   0  0    0   0   \n",
       "\n",
       "   拉致  盧  \n",
       "0   0  0  \n",
       "1   0  0  \n",
       "2   0  0  \n",
       "\n",
       "[3 rows x 2361 columns]"
      ]
     },
     "execution_count": 7,
     "metadata": {},
     "output_type": "execute_result"
    }
   ],
   "source": [
    "politicsWrdMat10.head(3)"
   ]
  },
  {
   "cell_type": "markdown",
   "metadata": {
    "deletable": true,
    "editable": true
   },
   "source": [
    "### 2.2 Prepare Training Data and Testing Data"
   ]
  },
  {
   "cell_type": "code",
   "execution_count": 8,
   "metadata": {
    "collapsed": false,
    "deletable": true,
    "editable": true
   },
   "outputs": [],
   "source": [
    "targetx = politicsWrdMat10\n",
    "targety = politicsdata\n",
    "\n",
    "X = np.array(targetx.loc[targety['train'] == 1,:])\n",
    "y = np.array(targety.loc[targety['train'] == 1,'codeN'])\n",
    "\n",
    "X_train, X_test, y_train, y_test = train_test_split(X, y, test_size=.3, random_state=0)"
   ]
  },
  {
   "cell_type": "markdown",
   "metadata": {
    "deletable": true,
    "editable": true
   },
   "source": [
    "## 3. Conduct Classification"
   ]
  },
  {
   "cell_type": "markdown",
   "metadata": {},
   "source": [
    "### 3.1 K Nearest Neighbors"
   ]
  },
  {
   "cell_type": "code",
   "execution_count": 27,
   "metadata": {
    "collapsed": false
   },
   "outputs": [],
   "source": [
    "## With k = 10\n",
    "k = 10\n",
    "knn1 = neighbors.KNeighborsClassifier(n_neighbors=k) ##knn estimation\n",
    "knn1.fit(X_train, y_train)\n",
    "\n",
    "## On Test Set\n",
    "proby = knn1.predict_proba(X_test)[:,1]  # predicted Y\n",
    "knn1fpr, knn1tpr, _  = roc_curve(y_test, proby) #ROC Curve\n",
    "knn1auc = auc(knn1fpr, knn1tpr) # Area Under Curve (AUC)\n",
    "knn1prec, knn1rec, _ = precision_recall_curve(y_test, proby) #PR Curve\n",
    "\n",
    "## With k = 50\n",
    "k = 50\n",
    "knn2 = neighbors.KNeighborsClassifier(n_neighbors=k) ##knn estimation\n",
    "knn2.fit(X_train, y_train)\n",
    "\n",
    "## On Test Set\n",
    "proby = knn2.predict_proba(X_test)[:,1]  # predicted Y\n",
    "knn2fpr, knn2tpr, _  = roc_curve(y_test, proby) #ROC Curve\n",
    "knn2auc = auc(knn2fpr, knn2tpr) # Area Under Curve (AUC)\n",
    "knn2prec, knn2rec, _ = precision_recall_curve(y_test, proby) #PR Curve"
   ]
  },
  {
   "cell_type": "markdown",
   "metadata": {
    "deletable": true,
    "editable": true
   },
   "source": [
    "### 3.2 Logistic Regression (With Newton Conjugate Solver)"
   ]
  },
  {
   "cell_type": "code",
   "execution_count": 28,
   "metadata": {
    "collapsed": false,
    "deletable": true,
    "editable": true
   },
   "outputs": [],
   "source": [
    "## Logistic Regression\n",
    "logit = skl_lm.LogisticRegression(solver='newton-cg')\n",
    "logit.fit(X_train,y_train)\n",
    "\n",
    "## On Test Set\n",
    "proby = logit.predict_proba(X_test)[:,1]  # predicted Y\n",
    "logitfpr, logittpr, _  = roc_curve(y_test, proby) #ROC Curve\n",
    "logitauc = auc(logitfpr, logittpr) # Area Under Curve (AUC)\n",
    "logitprec, logitrec, _ = precision_recall_curve(y_test, proby) #PR Curve"
   ]
  },
  {
   "cell_type": "markdown",
   "metadata": {
    "deletable": true,
    "editable": true
   },
   "source": [
    "### 3.3 Linear Discriminant Analysis"
   ]
  },
  {
   "cell_type": "code",
   "execution_count": 29,
   "metadata": {
    "collapsed": false,
    "deletable": true,
    "editable": true
   },
   "outputs": [],
   "source": [
    "## Linear Discriminant Analysis\n",
    "lda = LinearDiscriminantAnalysis()\n",
    "lda.fit(X_train,y_train)\n",
    "\n",
    "## On Test Set\n",
    "proby = lda.predict_proba(X_test)[:,1]  # predicted Y\n",
    "ldafpr, ldatpr, _ = roc_curve(y_test, proby) #ROC Curve\n",
    "ldaauc = auc(ldafpr, ldatpr) # Area Under Curve (AUC)\n",
    "ldaprec, ldarec, _ = precision_recall_curve(y_test, proby) #PR Curve"
   ]
  },
  {
   "cell_type": "markdown",
   "metadata": {
    "deletable": true,
    "editable": true
   },
   "source": [
    "### 3.4 Support Vector Machine"
   ]
  },
  {
   "cell_type": "code",
   "execution_count": 30,
   "metadata": {
    "collapsed": true,
    "deletable": true,
    "editable": true
   },
   "outputs": [],
   "source": [
    "## Support Vector Machines\n",
    "svmcl = SVC(probability=True)\n",
    "svmcl.fit(X_train,y_train)\n",
    "\n",
    "## On Test Set\n",
    "proby = svmcl.predict_proba(X_test)[:,1]  # predicted Y\n",
    "svmfpr, svmtpr, _ = roc_curve(y_test, proby) #ROC Curve\n",
    "svmauc = auc(svmfpr, svmtpr) # Area Under Curve (AUC)\n",
    "svmprec, svmrec, _ = precision_recall_curve(y_test, proby) #PR Curve"
   ]
  },
  {
   "cell_type": "markdown",
   "metadata": {
    "deletable": true,
    "editable": true
   },
   "source": [
    "## 4. Compare The Result"
   ]
  },
  {
   "cell_type": "markdown",
   "metadata": {
    "deletable": true,
    "editable": true
   },
   "source": [
    "### 4.1 ROC Curve"
   ]
  },
  {
   "cell_type": "code",
   "execution_count": 34,
   "metadata": {
    "collapsed": false,
    "deletable": true,
    "editable": true
   },
   "outputs": [
    {
     "data": {
      "image/png": "[encoded data removed]",
      "text/plain": [
       "<matplotlib.figure.Figure at 0x1dc47d30>"
      ]
     },
     "metadata": {},
     "output_type": "display_data"
    }
   ],
   "source": [
    "plt.rcParams[\"figure.figsize\"] = (17,4)\n",
    "f, (ax01, ax02, ax1, ax2, ax3) = plt.subplots(1, 5, sharey=True)\n",
    "f.text(0.5, 0.02, 'False Positive Rate', ha='center', va='center', fontsize = 15)\n",
    "f.text(0.06, 0.5, 'True Positive Rate', ha='center', va='center', rotation='vertical', fontsize = 15)\n",
    "\n",
    "ax01.plot(knn1fpr, knn1tpr, 'k-', label = 'ROC Curve (Area = %0.3f)' % knn1auc)\n",
    "ax01.plot([0, 1], [0, 1], color='gray', lw=2, linestyle='--')\n",
    "ax01.set_title('KNN (K=10)');\n",
    "ax01.set_xlim(-0.05,1.05)\n",
    "ax01.set_ylim(-0.05,1.05)\n",
    "ax01.legend(loc=\"lower right\")\n",
    "\n",
    "ax02.plot(knn2fpr, knn2tpr, 'k-', label = 'ROC Curve (Area = %0.3f)' % knn2auc)\n",
    "ax02.plot([0, 1], [0, 1], color='gray', lw=2, linestyle='--')\n",
    "ax02.set_title('KNN (K=50)');\n",
    "ax02.set_xlim(-0.05,1.05)\n",
    "ax02.set_ylim(-0.05,1.05)\n",
    "ax02.legend(loc=\"lower right\")\n",
    "\n",
    "ax1.plot(logitfpr, logittpr, 'r-', label = 'ROC Curve (Area = %0.3f)' % logitauc)\n",
    "ax1.plot([0, 1], [0, 1], color='gray', lw=2, linestyle='--')\n",
    "ax1.set_title('Logit');\n",
    "ax1.set_xlim(-0.05,1.05)\n",
    "ax1.set_ylim(-0.05,1.05)\n",
    "ax1.legend(loc=\"lower right\")\n",
    "\n",
    "ax2.plot(ldafpr, ldatpr, 'g-', label = 'ROC Curve (Area = %0.3f)' % ldaauc)\n",
    "ax2.plot([0, 1], [0, 1], color='gray', lw=2, linestyle='--')\n",
    "ax2.set_title('LDA');\n",
    "ax2.set_xlim(-0.05,1.05)\n",
    "ax2.set_ylim(-0.05,1.05)\n",
    "ax2.legend(loc=\"lower right\")\n",
    "\n",
    "ax3.plot(svmfpr, svmtpr, 'b-', label = 'ROC Curve (Area = %0.3f)' % svmauc)\n",
    "ax3.plot([0, 1], [0, 1], color='gray', lw=2, linestyle='--')\n",
    "ax3.set_title('SVM');\n",
    "ax3.set_xlim(-0.05,1.05)\n",
    "ax3.set_ylim(-0.05,1.05)\n",
    "ax3.legend(loc=\"lower right\")\n",
    "\n",
    "plt.show()"
   ]
  },
  {
   "cell_type": "markdown",
   "metadata": {
    "deletable": true,
    "editable": true
   },
   "source": [
    "### 4.2 PR Curve"
   ]
  },
  {
   "cell_type": "code",
   "execution_count": 35,
   "metadata": {
    "collapsed": false,
    "deletable": true,
    "editable": true
   },
   "outputs": [
    {
     "data": {
      "image/png": "[encoded data removed]",
      "text/plain": [
       "<matplotlib.figure.Figure at 0x1d0c5128>"
      ]
     },
     "metadata": {},
     "output_type": "display_data"
    }
   ],
   "source": [
    "plt.rcParams[\"figure.figsize\"] = (17,4)\n",
    "f, (ax01, ax02, ax1, ax2, ax3) = plt.subplots(1, 5, sharey=True)\n",
    "f.text(0.5, 0.02, 'Recall', ha='center', va='center', fontsize = 15)\n",
    "f.text(0.06, 0.5, 'Precision', ha='center', va='center', rotation='vertical', fontsize = 15)\n",
    "\n",
    "ax01.plot(knn1rec, knn1prec, 'k-', label = 'Precision-Recall(PR) Curve')\n",
    "ax01.set_title('KNN (K=10)');\n",
    "ax01.set_xlim(-0.05,1.05)\n",
    "ax01.set_ylim(-0.05,1.05)\n",
    "ax01.legend(loc=\"lower right\")\n",
    "\n",
    "ax02.plot(knn2rec, knn2prec, 'k-', label = 'Precision-Recall(PR) Curve')\n",
    "ax02.set_title('KNN (K=50)');\n",
    "ax02.set_xlim(-0.05,1.05)\n",
    "ax02.set_ylim(-0.05,1.05)\n",
    "ax02.legend(loc=\"lower right\")\n",
    "\n",
    "ax1.plot(logitrec, logitprec, 'r-', label = 'Precision-Recall(PR) Curve')\n",
    "ax1.set_title('Logit');\n",
    "ax1.set_xlim(-0.05,1.05)\n",
    "ax1.set_ylim(-0.05,1.05)\n",
    "ax1.legend(loc=\"lower right\")\n",
    "\n",
    "ax2.plot(ldarec, ldaprec, 'g-', label = 'Precision-Recall(PR) Curve')\n",
    "ax2.set_title('LDA');\n",
    "ax2.set_xlim(-0.05,1.05)\n",
    "ax2.set_ylim(-0.05,1.05)\n",
    "ax2.legend(loc=\"lower right\")\n",
    "\n",
    "ax3.plot(svmrec, svmprec, 'b-', label = 'Precision-Recall(PR) Curve')\n",
    "ax3.set_title('SVM');\n",
    "ax3.set_xlim(-0.05,1.05)\n",
    "ax3.set_ylim(-0.05,1.05)\n",
    "ax3.legend(loc=\"lower right\")\n",
    "\n",
    "plt.show()"
   ]
  }
 ],
 "metadata": {
  "kernelspec": {
   "display_name": "Python 2",
   "language": "python",
   "name": "python2"
  },
  "language_info": {
   "codemirror_mode": {
    "name": "ipython",
    "version": 2
   },
   "file_extension": ".py",
   "mimetype": "text/x-python",
   "name": "python",
   "nbconvert_exporter": "python",
   "pygments_lexer": "ipython2",
   "version": "2.7.13"
  }
 },
 "nbformat": 4,
 "nbformat_minor": 2
}
