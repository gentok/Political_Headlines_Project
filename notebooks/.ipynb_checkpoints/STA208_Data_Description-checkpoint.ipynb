{
 "cells": [
  {
   "cell_type": "markdown",
   "metadata": {
    "deletable": true,
    "editable": true
   },
   "source": [
    "<h1 style=\"text-align:center\"> Exploring and Predicting Characteristics of Japanese Newspaper Headlines </h1> \n",
    " <h2 style=\"text-align:center\"> <i>STA208 Final Project (Spring 2017)</i> </h2> \n",
    " <h3 style=\"text-align:center\"> <i>Tzu-ping Liu and Gento Kato</i> </h3> \n",
    "\n",
    "\n",
    "[<h5 style=\"text-align:center\"> Back to Summary Notebook </h5>](STA208_Project_Summary.ipynb)"
   ]
  },
  {
   "cell_type": "markdown",
   "metadata": {
    "deletable": true,
    "editable": true
   },
   "source": [
    "<h1 style=\"text-align:center\">Section II</h1>\n",
    "<h1 style=\"text-align:center\">Data of Japanese Newspaper Headlines</h1>\n"
   ]
  },
  {
   "cell_type": "markdown",
   "metadata": {},
   "source": [
    "In this section, we introduce datasets in use for the current research project. There are two types of data. **Raw headline text data** involves raw full-texts of headlines with corresponding dates , hand-coded positive-negative sentiments, and other characteristics. To construct **word appearance matrix data** we process raw-texts to extract normalized words, and count the frequency of each word appeared in each headline. "
   ]
  },
  {
   "cell_type": "markdown",
   "metadata": {
    "deletable": true,
    "editable": true
   },
   "source": [
    "## 1. Raw Headline Text Data <br>\n",
    "\n",
    "This dataset includes the full texts of newspaper headlines from Nov 1987 to Mar 2015. They are (almost) **ALL first page headlines** from two major newspapers in Japan, *Yomiuri Shimbun* and *The Asahi Shimbun*.\n",
    "\n",
    "Raw texts are extracted using [*Yomidas Rekishikan*](http://www.yomiuri.co.jp/database/rekishikan/) for *Yomiuri Shimbun* and [*Kikuzo II Visual*](https://database.asahi.com/index.shtml) for *The Asahi Shimbun*. Headlines with general names such as \"Today's news\" or \"Today's column\" are eliminated from the dataset, since it involves no information regarding to the topical content of the story.\n"
   ]
  },
  {
   "cell_type": "markdown",
   "metadata": {
    "deletable": true,
    "editable": true
   },
   "source": [
    "### 1.1 Dataset\n",
    " * [<code>alldate_170420.csv</code>](https://github.com/UCDSTA208/208-final-project-liu_and_kato/blob/master/data/alldate_170420.csv) is the original dataset that includes ALL first page newspaper headlines from November 1987 through March 2015.<br><br>\n",
    " * [<code>alldata_traincode.csv</code>](https://github.com/UCDSTA208/208-final-project-liu_and_kato/blob/master/data/alldata_traincode_170510.csv) additionaly includes training code variable <code>codeN</code> for the negative sentiment appeared on randomly sampled 1000 headlines. Following files are used to construct the data:\n",
    "   * Random sampling of headlines by [<code>polhead_allCodingSample_170509.R</code>](https://github.com/gentok/Political_Headlines_Project/blob/master/codes/polhead_allCodingSample_170509.R).\n",
    "   * Handcoded negative sentiments in  [<code>codedall_170509.csv</code>](https://github.com/gentok/Political_Headlines_Project/blob/master/data_public/codedall_170509.csv).\n",
    "   * The creation of new dataset by [<code>polhead_allCoded_170510.R</code>](https://github.com/gentok/Political_Headlines_Project/blob/master/codes/polhead_allCoded_170510.R).\n"
   ]
  },
  {
   "cell_type": "markdown",
   "metadata": {
    "deletable": true,
    "editable": true
   },
   "source": [
    "### 1.2 Variables\n",
    "\n",
    "The [<code>alldata_traincode.csv</code>](https://github.com/UCDSTA208/208-final-project-liu_and_kato/blob/master/data/alldata_traincode_170510.csv) dataset comes with 99151 rows (headlines) and following variables:\n",
    "\n",
    "   * <code><b>id_all</b></code>: Global headline id (each headline has a unique ID)\n",
    "   * <code>id_inpaper</code>: With-in paper headline id (each headline in the same newspaper has a unique ID)\n",
    "   * <code>id_original</code>: Headline ID from original dataset (can be ignored)\n",
    "   * <code>year</code>: Year of headline\n",
    "   * <code>month</code>: Month of headline\n",
    "   * <code>date</code>: Day of headline\n",
    "   * <code><b>ymonth</b></code>: Year-month of headline\n",
    "   * <code><b>Headline</b></code>: The raw texts of headline\n",
    "   * <code>paper</code>: Character string for the newspaper. \"A\" indicates Asahi, \"Y\" indicates Yomiuri.\n",
    "   * <code><b>wcount</b></code>: Word count for each article attached with headline\n",
    "   * <code>Asahi</code>: Dummy for Asahi newspaper. 1 for headlines from Asahi.\n",
    "   * <code>Yomiuri</code>: Dummy for Yomiuri newspaper. 1 for headlines from Yomiuri.\n",
    "   * <code>jijistartdate</code>: The date when *jiji monthly poll* start to collect the data in each month.\n",
    "   * <code>jijiymonth</code>: Year-month according to *jiji monthly poll*. The month is considered to start when *jiji monthly poll* starts to collect its data (jijistartdate) in current month, and ends at the day before *jiji monthly poll* starts to collect data for next month.\n",
    "   * <code><b>codeN</b></code>: Manually coded negative sentiment appeared on randomly sampled 1000 headlines. *1 means negative, 0 means neutral/positive, and NA means not-sampled*. (There is no independent code for strictly positive sentiments, since we rarely observe those sentiments.)\n",
    "   \n",
    "The actual [<code>alldata_traincode.csv</code>](https://github.com/UCDSTA208/208-final-project-liu_and_kato/blob/master/data/alldata_traincode_170510.csv) data look like follows:"
   ]
  },
  {
   "cell_type": "code",
   "execution_count": 14,
   "metadata": {
    "collapsed": false,
    "deletable": true,
    "editable": true
   },
   "outputs": [
    {
     "data": {
      "text/html": [
       "<div>\n",
       "<table border=\"1\" class=\"dataframe\">\n",
       "  <thead>\n",
       "    <tr style=\"text-align: right;\">\n",
       "      <th></th>\n",
       "      <th>id_all</th>\n",
       "      <th>id_inpaper</th>\n",
       "      <th>id_original</th>\n",
       "      <th>year</th>\n",
       "      <th>month</th>\n",
       "      <th>date</th>\n",
       "      <th>ymonth</th>\n",
       "      <th>Headline</th>\n",
       "      <th>paper</th>\n",
       "      <th>wcount</th>\n",
       "      <th>Asahi</th>\n",
       "      <th>Yomiuri</th>\n",
       "      <th>jijistartdate</th>\n",
       "      <th>jijiymonth</th>\n",
       "      <th>codeN</th>\n",
       "      <th>train</th>\n",
       "    </tr>\n",
       "  </thead>\n",
       "  <tbody>\n",
       "    <tr>\n",
       "      <th>930</th>\n",
       "      <td>931</td>\n",
       "      <td>448</td>\n",
       "      <td>615</td>\n",
       "      <td>1988</td>\n",
       "      <td>1</td>\n",
       "      <td>24</td>\n",
       "      <td>198801</td>\n",
       "      <td>「東京朝日」１００周年記念の懸賞論文　審査委員に２０氏</td>\n",
       "      <td>A</td>\n",
       "      <td>766.0</td>\n",
       "      <td>1.0</td>\n",
       "      <td>NaN</td>\n",
       "      <td>9</td>\n",
       "      <td>198801</td>\n",
       "      <td>0.0</td>\n",
       "      <td>1</td>\n",
       "    </tr>\n",
       "    <tr>\n",
       "      <th>940</th>\n",
       "      <td>941</td>\n",
       "      <td>489</td>\n",
       "      <td>580</td>\n",
       "      <td>1988</td>\n",
       "      <td>1</td>\n",
       "      <td>24</td>\n",
       "      <td>198801</td>\n",
       "      <td>税制改革法案　小渕官房長官も今国会提出を表明</td>\n",
       "      <td>Y</td>\n",
       "      <td>387.0</td>\n",
       "      <td>NaN</td>\n",
       "      <td>1.0</td>\n",
       "      <td>9</td>\n",
       "      <td>198801</td>\n",
       "      <td>NaN</td>\n",
       "      <td>0</td>\n",
       "    </tr>\n",
       "    <tr>\n",
       "      <th>945</th>\n",
       "      <td>946</td>\n",
       "      <td>457</td>\n",
       "      <td>626</td>\n",
       "      <td>1988</td>\n",
       "      <td>1</td>\n",
       "      <td>25</td>\n",
       "      <td>198801</td>\n",
       "      <td>都道府県別の銭湯数</td>\n",
       "      <td>A</td>\n",
       "      <td>1235.0</td>\n",
       "      <td>1.0</td>\n",
       "      <td>NaN</td>\n",
       "      <td>9</td>\n",
       "      <td>198801</td>\n",
       "      <td>NaN</td>\n",
       "      <td>0</td>\n",
       "    </tr>\n",
       "    <tr>\n",
       "      <th>955</th>\n",
       "      <td>956</td>\n",
       "      <td>462</td>\n",
       "      <td>633</td>\n",
       "      <td>1988</td>\n",
       "      <td>1</td>\n",
       "      <td>26</td>\n",
       "      <td>198801</td>\n",
       "      <td>大阪地検、田代議員を１０００万円容疑で起訴へ　砂利船汚職</td>\n",
       "      <td>A</td>\n",
       "      <td>799.0</td>\n",
       "      <td>1.0</td>\n",
       "      <td>NaN</td>\n",
       "      <td>9</td>\n",
       "      <td>198801</td>\n",
       "      <td>1.0</td>\n",
       "      <td>1</td>\n",
       "    </tr>\n",
       "  </tbody>\n",
       "</table>\n",
       "</div>"
      ],
      "text/plain": [
       "     id_all  id_inpaper  id_original  year  month  date  ymonth  \\\n",
       "930     931         448          615  1988      1    24  198801   \n",
       "940     941         489          580  1988      1    24  198801   \n",
       "945     946         457          626  1988      1    25  198801   \n",
       "955     956         462          633  1988      1    26  198801   \n",
       "\n",
       "                         Headline paper  wcount  Asahi  Yomiuri  \\\n",
       "930   「東京朝日」１００周年記念の懸賞論文　審査委員に２０氏     A   766.0    1.0      NaN   \n",
       "940       税制改革法案　小渕官房長官も今国会提出を表明      Y   387.0    NaN      1.0   \n",
       "945                     都道府県別の銭湯数     A  1235.0    1.0      NaN   \n",
       "955  大阪地検、田代議員を１０００万円容疑で起訴へ　砂利船汚職     A   799.0    1.0      NaN   \n",
       "\n",
       "     jijistartdate  jijiymonth  codeN  train  \n",
       "930              9      198801    0.0      1  \n",
       "940              9      198801    NaN      0  \n",
       "945              9      198801    NaN      0  \n",
       "955              9      198801    1.0      1  "
      ]
     },
     "execution_count": 14,
     "metadata": {},
     "output_type": "execute_result"
    }
   ],
   "source": [
    "import pandas as pd\n",
    "alldata = pd.read_csv(\"../../data/alldata_traincode_170510.csv\", encoding='CP932')\n",
    "alldata.iloc[[930,940,945,955]] #alldata[alldata['train'] == 1] "
   ]
  },
  {
   "cell_type": "markdown",
   "metadata": {
    "deletable": true,
    "editable": true
   },
   "source": [
    "## 2. Word Appearance Matrix Data\n"
   ]
  },
  {
   "cell_type": "markdown",
   "metadata": {
    "deletable": true,
    "editable": true
   },
   "source": [
    " ### 2.1 Dataset\n",
    "\n",
    " * [<code>allWrdMat10.csv.gz</code>](https://github.com/UCDSTA208/208-final-project-liu_and_kato/blob/master/data/allWrdMat10.csv.gz) is the matrix of word appearance frequency, created by using <code>Headline</code> variable in [<code>alldata_traincode.csv</code>](https://github.com/UCDSTA208/208-final-project-liu_and_kato/blob/master/data/alldata_traincode_170510.csv).\n",
    "\n",
    "\n",
    "To construct the above dataset, we first conduct isomorphic analysis of Japanese texts by <code>MeCab</code> (Japanese isomorphic analysis software), and extract nouns, adjectives and verbs that appeared **more than 10 times** in the dataset by [<code>polhead_allWrdMat_170509.R</code>](https://github.com/gentok/Political_Headlines_Project/blob/master/codes/polhead_allWrdMat_170509.R). In the exported data, **rows represent headlines and columns represent words.** It includes 99151 rows (headlines) and 8655 columns (words). The word appearnce matrix data has **identical row number as <code>id_all</code> variable** in [<code>alldate_traincode.csv</code>](https://github.com/UCDSTA208/208-final-project-liu_and_kato/blob/master/data/alldata_traincode_170510.csv).\n",
    "\n",
    "NOTE: Original text matrix dataset is a VERY large file, so we use gzip method to compress the original csv file.\n",
    "\n",
    "<!---\n",
    "  In addition, <code>allBigram20t.rds</code> [*Private*] includes all bi-grams of terms that are appeared 20 times or more. This data is transposed, that means, rows represent bigrams (19531 bigrams), and columns represent headlines. <br>\n",
    "--->\n"
   ]
  },
  {
   "cell_type": "markdown",
   "metadata": {
    "deletable": true,
    "editable": true
   },
   "source": [
    " ### 2.2 Variables\n",
    "\n",
    " **Each column represents word** (i.e., noun, adjective and verb). The value indicates **the frequency of word appearance**. The value often takes 1 or 0, but not necessarily. ***If the same word appears twice (or more) in one headline, then the value takes 2 or more.*** You need to recode the variable if you want to use these variables as dummy word appearnce in headline.\n",
    "\n",
    " The dataset includes ALL nouns, adjectives, and verbs that **are appeared at least 10 times** in whole data. Note that it may be inefficient to include all those variables in the analysis, so we select subset of words depending on the context.\n",
    " \n",
    " The actual [<code>allWrdMat10.csv.gz</code>](https://github.com/UCDSTA208/208-final-project-liu_and_kato/blob/master/data/allWrdMat10.csv.gz) data look like follows:"
   ]
  },
  {
   "cell_type": "code",
   "execution_count": 15,
   "metadata": {
    "collapsed": true,
    "deletable": true,
    "editable": true
   },
   "outputs": [],
   "source": [
    "allWrdMat10 = pd.read_csv(\"../../data/allWrdMat10.csv.gz\", encoding='CP932')"
   ]
  },
  {
   "cell_type": "code",
   "execution_count": 403,
   "metadata": {
    "collapsed": false,
    "deletable": true,
    "editable": true
   },
   "outputs": [
    {
     "data": {
      "text/html": [
       "<div>\n",
       "<table border=\"1\" class=\"dataframe\">\n",
       "  <thead>\n",
       "    <tr style=\"text-align: right;\">\n",
       "      <th></th>\n",
       "      <th>産廃</th>\n",
       "      <th>産婦人科</th>\n",
       "      <th>産卵</th>\n",
       "      <th>算出</th>\n",
       "      <th>算数</th>\n",
       "      <th>算定</th>\n",
       "      <th>賛成</th>\n",
       "      <th>賛同</th>\n",
       "      <th>賛否</th>\n",
       "      <th>酸性</th>\n",
       "      <th>暫定</th>\n",
       "      <th>残す</th>\n",
       "      <th>残り</th>\n",
       "      <th>残る</th>\n",
       "      <th>残業</th>\n",
       "      <th>残高</th>\n",
       "      <th>残念</th>\n",
       "      <th>残留</th>\n",
       "      <th>仕事</th>\n",
       "      <th>仕手</th>\n",
       "    </tr>\n",
       "  </thead>\n",
       "  <tbody>\n",
       "    <tr>\n",
       "      <th>10732</th>\n",
       "      <td>0</td>\n",
       "      <td>0</td>\n",
       "      <td>0</td>\n",
       "      <td>0</td>\n",
       "      <td>0</td>\n",
       "      <td>0</td>\n",
       "      <td>0</td>\n",
       "      <td>0</td>\n",
       "      <td>0</td>\n",
       "      <td>1</td>\n",
       "      <td>0</td>\n",
       "      <td>0</td>\n",
       "      <td>0</td>\n",
       "      <td>0</td>\n",
       "      <td>0</td>\n",
       "      <td>0</td>\n",
       "      <td>0</td>\n",
       "      <td>0</td>\n",
       "      <td>0</td>\n",
       "      <td>0</td>\n",
       "    </tr>\n",
       "    <tr>\n",
       "      <th>24498</th>\n",
       "      <td>0</td>\n",
       "      <td>0</td>\n",
       "      <td>0</td>\n",
       "      <td>0</td>\n",
       "      <td>0</td>\n",
       "      <td>0</td>\n",
       "      <td>0</td>\n",
       "      <td>0</td>\n",
       "      <td>0</td>\n",
       "      <td>0</td>\n",
       "      <td>1</td>\n",
       "      <td>0</td>\n",
       "      <td>0</td>\n",
       "      <td>0</td>\n",
       "      <td>0</td>\n",
       "      <td>0</td>\n",
       "      <td>0</td>\n",
       "      <td>0</td>\n",
       "      <td>0</td>\n",
       "      <td>0</td>\n",
       "    </tr>\n",
       "    <tr>\n",
       "      <th>40534</th>\n",
       "      <td>0</td>\n",
       "      <td>0</td>\n",
       "      <td>0</td>\n",
       "      <td>0</td>\n",
       "      <td>0</td>\n",
       "      <td>0</td>\n",
       "      <td>1</td>\n",
       "      <td>0</td>\n",
       "      <td>0</td>\n",
       "      <td>0</td>\n",
       "      <td>0</td>\n",
       "      <td>0</td>\n",
       "      <td>0</td>\n",
       "      <td>0</td>\n",
       "      <td>0</td>\n",
       "      <td>0</td>\n",
       "      <td>0</td>\n",
       "      <td>0</td>\n",
       "      <td>0</td>\n",
       "      <td>0</td>\n",
       "    </tr>\n",
       "    <tr>\n",
       "      <th>58985</th>\n",
       "      <td>0</td>\n",
       "      <td>0</td>\n",
       "      <td>0</td>\n",
       "      <td>0</td>\n",
       "      <td>0</td>\n",
       "      <td>0</td>\n",
       "      <td>0</td>\n",
       "      <td>0</td>\n",
       "      <td>0</td>\n",
       "      <td>0</td>\n",
       "      <td>0</td>\n",
       "      <td>1</td>\n",
       "      <td>0</td>\n",
       "      <td>0</td>\n",
       "      <td>0</td>\n",
       "      <td>0</td>\n",
       "      <td>0</td>\n",
       "      <td>0</td>\n",
       "      <td>0</td>\n",
       "      <td>0</td>\n",
       "    </tr>\n",
       "    <tr>\n",
       "      <th>78645</th>\n",
       "      <td>0</td>\n",
       "      <td>0</td>\n",
       "      <td>0</td>\n",
       "      <td>0</td>\n",
       "      <td>0</td>\n",
       "      <td>0</td>\n",
       "      <td>0</td>\n",
       "      <td>0</td>\n",
       "      <td>0</td>\n",
       "      <td>0</td>\n",
       "      <td>1</td>\n",
       "      <td>0</td>\n",
       "      <td>0</td>\n",
       "      <td>0</td>\n",
       "      <td>0</td>\n",
       "      <td>0</td>\n",
       "      <td>0</td>\n",
       "      <td>0</td>\n",
       "      <td>0</td>\n",
       "      <td>0</td>\n",
       "    </tr>\n",
       "  </tbody>\n",
       "</table>\n",
       "</div>"
      ],
      "text/plain": [
       "       産廃  産婦人科  産卵  算出  算数  算定  賛成  賛同  賛否  酸性  暫定  残す  残り  残る  残業  残高  残念  \\\n",
       "10732   0     0   0   0   0   0   0   0   0   1   0   0   0   0   0   0   0   \n",
       "24498   0     0   0   0   0   0   0   0   0   0   1   0   0   0   0   0   0   \n",
       "40534   0     0   0   0   0   0   1   0   0   0   0   0   0   0   0   0   0   \n",
       "58985   0     0   0   0   0   0   0   0   0   0   0   1   0   0   0   0   0   \n",
       "78645   0     0   0   0   0   0   0   0   0   0   1   0   0   0   0   0   0   \n",
       "\n",
       "       残留  仕事  仕手  \n",
       "10732   0   0   0  \n",
       "24498   0   0   0  \n",
       "40534   0   0   0  \n",
       "58985   0   0   0  \n",
       "78645   0   0   0  "
      ]
     },
     "execution_count": 403,
     "metadata": {},
     "output_type": "execute_result"
    }
   ],
   "source": [
    "allWrdMat10.iloc[[10732, 24498,40534, 58985, 78645],3890:3910] #.sample(n=5)"
   ]
  }
 ],
 "metadata": {
  "kernelspec": {
   "display_name": "Python 2",
   "language": "python",
   "name": "python2"
  },
  "language_info": {
   "codemirror_mode": {
    "name": "ipython",
    "version": 2
   },
   "file_extension": ".py",
   "mimetype": "text/x-python",
   "name": "python",
   "nbconvert_exporter": "python",
   "pygments_lexer": "ipython2",
   "version": "2.7.13"
  }
 },
 "nbformat": 4,
 "nbformat_minor": 2
}
