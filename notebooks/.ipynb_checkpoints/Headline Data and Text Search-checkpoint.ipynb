{
 "cells": [
  {
   "cell_type": "markdown",
   "metadata": {},
   "source": [
    "# Introduction to Headline Data and Text Search"
   ]
  },
  {
   "cell_type": "markdown",
   "metadata": {},
   "source": [
    "## 1. Purpose\n",
    "Briefly introduce headline data and ways to search Japanese texts and code data. "
   ]
  },
  {
   "cell_type": "markdown",
   "metadata": {},
   "source": [
    "## 2. Data Description\n",
    "\n",
    "### Load Data"
   ]
  },
  {
   "cell_type": "code",
   "execution_count": 14,
   "metadata": {
    "collapsed": false
   },
   "outputs": [],
   "source": [
    "## Check Working Directory, and if it is not the location of THIS file, fix it.\n",
    "#getwd()\n",
    "\n",
    "## Load Data\n",
    "load(\"./../../data/polhead_RMeCab_170420.rda\")"
   ]
  },
  {
   "cell_type": "markdown",
   "metadata": {},
   "source": [
    "### Check Data\n",
    "\n",
    "#### Headline Dataset(**datedata**)\n",
    "Class = dataframe. The list of newspaper headlines from Nov 1987 to Mar 2015. They are ALL first page headlines from two major newspapers in Japan, Asahi and Yomiuri. Following are the brief description of columns. \n",
    "\n",
    " * **id_all**: Global headline id (each headline has a unique ID)\n",
    " * id_inpaper: With-in paper headline id (each headline in the same newspaper has a unique ID)\n",
    " * id_original: Headline ID from original dataset (can be ignored)\n",
    " * year: Year of headline\n",
    " * month: Month of headline\n",
    " * date: Day of headline\n",
    " * **ymonth**: Year-month of headline\n",
    " * **Headline**: The raw texts of headline\n",
    " * **paper**: Character string for the newspaper. \"A\" indicates Asahi, \"Y\" indicates Yomiuri.\n",
    " * **wcount**: Word count for each article attached with headline\n",
    " * **codePN**: Manually coded positive-negative sentiment (in terms of Prime Minister) of headlines. Some values are missing.\n",
    " * Asahi: Dummy for Asahi newspaper. 1 for headlines from Asahi.\n",
    " * Yomiuri: Dummy for Yomiuri newspaper. 1 for headlines from Yomiuri.\n",
    " * jijistartdate: The date when *jiji monthly poll* start to collect the data in each month.\n",
    " * **jijiymonth**: Year-month according to *jiji monthly poll*. The month is considered to start when *jiji monthly poll* starts to collect its data (jijistartdate) in current month, and ends at the day before *jiji monthly poll* starts to collect data for next month."
   ]
  },
  {
   "cell_type": "code",
   "execution_count": 15,
   "metadata": {
    "collapsed": false
   },
   "outputs": [
    {
     "data": {
      "text/html": [
       "<table>\n",
       "<thead><tr><th scope=col>id_all</th><th scope=col>id_inpaper</th><th scope=col>id_original</th><th scope=col>year</th><th scope=col>month</th><th scope=col>date</th><th scope=col>ymonth</th><th scope=col>Headline</th><th scope=col>paper</th><th scope=col>wcount</th><th scope=col>codePN</th><th scope=col>Asahi</th><th scope=col>Yomiuri</th><th scope=col>jijistartdate</th><th scope=col>jijiymonth</th></tr></thead>\n",
       "<tbody>\n",
       "\t<tr><td> 1                                                                    </td><td>1                                                                     </td><td>3                                                                     </td><td>1987                                                                  </td><td>11                                                                    </td><td>7                                                                     </td><td>198711                                                                </td><td>竹下首相任命式も皇太子殿下が出席                                      </td><td>A                                                                     </td><td>  85                                                                  </td><td>0                                                                     </td><td> 1                                                                    </td><td>NA                                                                    </td><td>7                                                                     </td><td>198711                                                                </td></tr>\n",
       "\t<tr><td> 2                                                                    </td><td>2                                                                     </td><td>4                                                                     </td><td>1987                                                                  </td><td>11                                                                    </td><td>7                                                                     </td><td>198711                                                                </td><td>米国務次官補、懸案協議へあす来日                                      </td><td>A                                                                     </td><td> 426                                                                  </td><td>0                                                                     </td><td> 1                                                                    </td><td>NA                                                                    </td><td>7                                                                     </td><td>198711                                                                </td></tr>\n",
       "\t<tr><td> 3                                                                    </td><td>3                                                                     </td><td>5                                                                     </td><td>1987                                                                  </td><td>11                                                                    </td><td>7                                                                     </td><td>198711                                                                </td><td>政策遂行は党主導か　竹下内閣発足＜解説＞                              </td><td>A                                                                     </td><td>1033                                                                  </td><td>0                                                                     </td><td> 1                                                                    </td><td>NA                                                                    </td><td>7                                                                     </td><td>198711                                                                </td></tr>\n",
       "\t<tr><td> 4                                                                    </td><td>4                                                                     </td><td>6                                                                     </td><td>1987                                                                  </td><td>11                                                                    </td><td>7                                                                     </td><td>198711                                                                </td><td>東京の終値も最高値１３５円台　３日連続更新                            </td><td>A                                                                     </td><td> 169                                                                  </td><td>0                                                                     </td><td> 1                                                                    </td><td>NA                                                                    </td><td>7                                                                     </td><td>198711                                                                </td></tr>\n",
       "\t<tr><td> 5                                                                    </td><td>5                                                                     </td><td>7                                                                     </td><td>1987                                                                  </td><td>11                                                                    </td><td>7                                                                     </td><td>198711                                                                </td><td>竹下内閣・閣僚の顔ぶれ（昭和６２年１１月６日発足）　　　　　　　　　　</td><td>A                                                                     </td><td>1844                                                                  </td><td>0                                                                     </td><td> 1                                                                    </td><td>NA                                                                    </td><td>7                                                                     </td><td>198711                                                                </td></tr>\n",
       "\t<tr><td> 6                                                                    </td><td>6                                                                     </td><td>8                                                                     </td><td>1987                                                                  </td><td>11                                                                    </td><td>7                                                                     </td><td>198711                                                                </td><td>米英市場、１３５円台                                                  </td><td>A                                                                     </td><td> 601                                                                  </td><td>0                                                                     </td><td> 1                                                                    </td><td>NA                                                                    </td><td>7                                                                     </td><td>198711                                                                </td></tr>\n",
       "\t<tr><td> 7                                                                    </td><td>7                                                                     </td><td>9                                                                     </td><td>1987                                                                  </td><td>11                                                                    </td><td>7                                                                     </td><td>198711                                                                </td><td>竹下内閣が発足　融和重視の派閥均衡型　税制の改革に力点                </td><td>A                                                                     </td><td>1288                                                                  </td><td>0                                                                     </td><td> 1                                                                    </td><td>NA                                                                    </td><td>7                                                                     </td><td>198711                                                                </td></tr>\n",
       "\t<tr><td> 8                                                                    </td><td>1                                                                     </td><td>1                                                                     </td><td>1987                                                                  </td><td>11                                                                    </td><td>7                                                                     </td><td>198711                                                                </td><td>竹下内閣スタート　派閥均衡の実務型　税制・土地を重視＝図付き          </td><td>Y                                                                     </td><td>1258                                                                  </td><td>0                                                                     </td><td>NA                                                                    </td><td> 1                                                                    </td><td>7                                                                     </td><td>198711                                                                </td></tr>\n",
       "\t<tr><td> 9                                                                    </td><td>2                                                                     </td><td>2                                                                     </td><td>1987                                                                  </td><td>11                                                                    </td><td>7                                                                     </td><td>198711                                                                </td><td>衆参両院で竹下首相を指名                                              </td><td>Y                                                                     </td><td> 212                                                                  </td><td>0                                                                     </td><td>NA                                                                    </td><td> 1                                                                    </td><td>7                                                                     </td><td>198711                                                                </td></tr>\n",
       "\t<tr><td>10                                                                    </td><td>3                                                                     </td><td>3                                                                     </td><td>1987                                                                  </td><td>11                                                                    </td><td>7                                                                     </td><td>198711                                                                </td><td>大胆な発想と実行の政治を　初閣議で竹下首相説示                        </td><td>Y                                                                     </td><td> 403                                                                  </td><td>0                                                                     </td><td>NA                                                                    </td><td> 1                                                                    </td><td>7                                                                     </td><td>198711                                                                </td></tr>\n",
       "</tbody>\n",
       "</table>\n"
      ],
      "text/latex": [
       "\\begin{tabular}{r|lllllllllllllll}\n",
       " id\\_all & id\\_inpaper & id\\_original & year & month & date & ymonth & Headline & paper & wcount & codePN & Asahi & Yomiuri & jijistartdate & jijiymonth\\\\\n",
       "\\hline\n",
       "\t  1                                                                     & 1                                                                      & 3                                                                      & 1987                                                                   & 11                                                                     & 7                                                                      & 198711                                                                 & 竹下首相任命式も皇太子殿下が出席                                       & A                                                                      &   85                                                                   & 0                                                                      &  1                                                                     & NA                                                                     & 7                                                                      & 198711                                                                \\\\\n",
       "\t  2                                                                     & 2                                                                      & 4                                                                      & 1987                                                                   & 11                                                                     & 7                                                                      & 198711                                                                 & 米国務次官補、懸案協議へあす来日                                       & A                                                                      &  426                                                                   & 0                                                                      &  1                                                                     & NA                                                                     & 7                                                                      & 198711                                                                \\\\\n",
       "\t  3                                                                     & 3                                                                      & 5                                                                      & 1987                                                                   & 11                                                                     & 7                                                                      & 198711                                                                 & 政策遂行は党主導か　竹下内閣発足＜解説＞                               & A                                                                      & 1033                                                                   & 0                                                                      &  1                                                                     & NA                                                                     & 7                                                                      & 198711                                                                \\\\\n",
       "\t  4                                                                     & 4                                                                      & 6                                                                      & 1987                                                                   & 11                                                                     & 7                                                                      & 198711                                                                 & 東京の終値も最高値１３５円台　３日連続更新                             & A                                                                      &  169                                                                   & 0                                                                      &  1                                                                     & NA                                                                     & 7                                                                      & 198711                                                                \\\\\n",
       "\t  5                                                                     & 5                                                                      & 7                                                                      & 1987                                                                   & 11                                                                     & 7                                                                      & 198711                                                                 & 竹下内閣・閣僚の顔ぶれ（昭和６２年１１月６日発足）　　　　　　　　　　 & A                                                                      & 1844                                                                   & 0                                                                      &  1                                                                     & NA                                                                     & 7                                                                      & 198711                                                                \\\\\n",
       "\t  6                                                                     & 6                                                                      & 8                                                                      & 1987                                                                   & 11                                                                     & 7                                                                      & 198711                                                                 & 米英市場、１３５円台                                                   & A                                                                      &  601                                                                   & 0                                                                      &  1                                                                     & NA                                                                     & 7                                                                      & 198711                                                                \\\\\n",
       "\t  7                                                                     & 7                                                                      & 9                                                                      & 1987                                                                   & 11                                                                     & 7                                                                      & 198711                                                                 & 竹下内閣が発足　融和重視の派閥均衡型　税制の改革に力点                 & A                                                                      & 1288                                                                   & 0                                                                      &  1                                                                     & NA                                                                     & 7                                                                      & 198711                                                                \\\\\n",
       "\t  8                                                                     & 1                                                                      & 1                                                                      & 1987                                                                   & 11                                                                     & 7                                                                      & 198711                                                                 & 竹下内閣スタート　派閥均衡の実務型　税制・土地を重視＝図付き           & Y                                                                      & 1258                                                                   & 0                                                                      & NA                                                                     &  1                                                                     & 7                                                                      & 198711                                                                \\\\\n",
       "\t  9                                                                     & 2                                                                      & 2                                                                      & 1987                                                                   & 11                                                                     & 7                                                                      & 198711                                                                 & 衆参両院で竹下首相を指名                                               & Y                                                                      &  212                                                                   & 0                                                                      & NA                                                                     &  1                                                                     & 7                                                                      & 198711                                                                \\\\\n",
       "\t 10                                                                     & 3                                                                      & 3                                                                      & 1987                                                                   & 11                                                                     & 7                                                                      & 198711                                                                 & 大胆な発想と実行の政治を　初閣議で竹下首相説示                         & Y                                                                      &  403                                                                   & 0                                                                      & NA                                                                     &  1                                                                     & 7                                                                      & 198711                                                                \\\\\n",
       "\\end{tabular}\n"
      ],
      "text/markdown": [
       "\n",
       "id_all | id_inpaper | id_original | year | month | date | ymonth | Headline | paper | wcount | codePN | Asahi | Yomiuri | jijistartdate | jijiymonth | \n",
       "|---|---|---|---|---|---|---|---|---|---|\n",
       "|  1                                                                     | 1                                                                      | 3                                                                      | 1987                                                                   | 11                                                                     | 7                                                                      | 198711                                                                 | 竹下首相任命式も皇太子殿下が出席                                       | A                                                                      |   85                                                                   | 0                                                                      |  1                                                                     | NA                                                                     | 7                                                                      | 198711                                                                 | \n",
       "|  2                                                                     | 2                                                                      | 4                                                                      | 1987                                                                   | 11                                                                     | 7                                                                      | 198711                                                                 | 米国務次官補、懸案協議へあす来日                                       | A                                                                      |  426                                                                   | 0                                                                      |  1                                                                     | NA                                                                     | 7                                                                      | 198711                                                                 | \n",
       "|  3                                                                     | 3                                                                      | 5                                                                      | 1987                                                                   | 11                                                                     | 7                                                                      | 198711                                                                 | 政策遂行は党主導か　竹下内閣発足＜解説＞                               | A                                                                      | 1033                                                                   | 0                                                                      |  1                                                                     | NA                                                                     | 7                                                                      | 198711                                                                 | \n",
       "|  4                                                                     | 4                                                                      | 6                                                                      | 1987                                                                   | 11                                                                     | 7                                                                      | 198711                                                                 | 東京の終値も最高値１３５円台　３日連続更新                             | A                                                                      |  169                                                                   | 0                                                                      |  1                                                                     | NA                                                                     | 7                                                                      | 198711                                                                 | \n",
       "|  5                                                                     | 5                                                                      | 7                                                                      | 1987                                                                   | 11                                                                     | 7                                                                      | 198711                                                                 | 竹下内閣・閣僚の顔ぶれ（昭和６２年１１月６日発足）　　　　　　　　　　 | A                                                                      | 1844                                                                   | 0                                                                      |  1                                                                     | NA                                                                     | 7                                                                      | 198711                                                                 | \n",
       "|  6                                                                     | 6                                                                      | 8                                                                      | 1987                                                                   | 11                                                                     | 7                                                                      | 198711                                                                 | 米英市場、１３５円台                                                   | A                                                                      |  601                                                                   | 0                                                                      |  1                                                                     | NA                                                                     | 7                                                                      | 198711                                                                 | \n",
       "|  7                                                                     | 7                                                                      | 9                                                                      | 1987                                                                   | 11                                                                     | 7                                                                      | 198711                                                                 | 竹下内閣が発足　融和重視の派閥均衡型　税制の改革に力点                 | A                                                                      | 1288                                                                   | 0                                                                      |  1                                                                     | NA                                                                     | 7                                                                      | 198711                                                                 | \n",
       "|  8                                                                     | 1                                                                      | 1                                                                      | 1987                                                                   | 11                                                                     | 7                                                                      | 198711                                                                 | 竹下内閣スタート　派閥均衡の実務型　税制・土地を重視＝図付き           | Y                                                                      | 1258                                                                   | 0                                                                      | NA                                                                     |  1                                                                     | 7                                                                      | 198711                                                                 | \n",
       "|  9                                                                     | 2                                                                      | 2                                                                      | 1987                                                                   | 11                                                                     | 7                                                                      | 198711                                                                 | 衆参両院で竹下首相を指名                                               | Y                                                                      |  212                                                                   | 0                                                                      | NA                                                                     |  1                                                                     | 7                                                                      | 198711                                                                 | \n",
       "| 10                                                                     | 3                                                                      | 3                                                                      | 1987                                                                   | 11                                                                     | 7                                                                      | 198711                                                                 | 大胆な発想と実行の政治を　初閣議で竹下首相説示                         | Y                                                                      |  403                                                                   | 0                                                                      | NA                                                                     |  1                                                                     | 7                                                                      | 198711                                                                 | \n",
       "\n",
       "\n"
      ],
      "text/plain": [
       "   id_all id_inpaper id_original year month date ymonth\n",
       "1   1     1          3           1987 11    7    198711\n",
       "2   2     2          4           1987 11    7    198711\n",
       "3   3     3          5           1987 11    7    198711\n",
       "4   4     4          6           1987 11    7    198711\n",
       "5   5     5          7           1987 11    7    198711\n",
       "6   6     6          8           1987 11    7    198711\n",
       "7   7     7          9           1987 11    7    198711\n",
       "8   8     1          1           1987 11    7    198711\n",
       "9   9     2          2           1987 11    7    198711\n",
       "10 10     3          3           1987 11    7    198711\n",
       "   Headline                                                               paper\n",
       "1  竹下首相任命式も皇太子殿下が出席                                       A    \n",
       "2  米国務次官補、懸案協議へあす来日                                       A    \n",
       "3  政策遂行は党主導か　竹下内閣発足＜解説＞                               A    \n",
       "4  東京の終値も最高値１３５円台　３日連続更新                             A    \n",
       "5  竹下内閣・閣僚の顔ぶれ（昭和６２年１１月６日発足）　　　　　　　　　　 A    \n",
       "6  米英市場、１３５円台                                                   A    \n",
       "7  竹下内閣が発足　融和重視の派閥均衡型　税制の改革に力点                 A    \n",
       "8  竹下内閣スタート　派閥均衡の実務型　税制・土地を重視＝図付き           Y    \n",
       "9  衆参両院で竹下首相を指名                                               Y    \n",
       "10 大胆な発想と実行の政治を　初閣議で竹下首相説示                         Y    \n",
       "   wcount codePN Asahi Yomiuri jijistartdate jijiymonth\n",
       "1    85   0       1    NA      7             198711    \n",
       "2   426   0       1    NA      7             198711    \n",
       "3  1033   0       1    NA      7             198711    \n",
       "4   169   0       1    NA      7             198711    \n",
       "5  1844   0       1    NA      7             198711    \n",
       "6   601   0       1    NA      7             198711    \n",
       "7  1288   0       1    NA      7             198711    \n",
       "8  1258   0      NA     1      7             198711    \n",
       "9   212   0      NA     1      7             198711    \n",
       "10  403   0      NA     1      7             198711    "
      ]
     },
     "metadata": {},
     "output_type": "display_data"
    }
   ],
   "source": [
    "head(datedata,10)"
   ]
  },
  {
   "cell_type": "markdown",
   "metadata": {},
   "source": [
    "#### Word List Data (**MeCabRes**) \n",
    "\n",
    "Class = list. The list of words used in each headlines. The results are extracated by isomorphic analysis using **MeCab** through **RMeCab**. Each object represent one headline, and the order corresponds to **id_all** in **datedata**. The example of the object is shown as follows. "
   ]
  },
  {
   "cell_type": "code",
   "execution_count": 17,
   "metadata": {
    "collapsed": false
   },
   "outputs": [
    {
     "data": {
      "text/html": [
       "<ol>\n",
       "\t<li><dl class=dl-horizontal>\n",
       "\t<dt>名詞</dt>\n",
       "\t\t<dd>'竹下'</dd>\n",
       "\t<dt>名詞</dt>\n",
       "\t\t<dd>'首相'</dd>\n",
       "\t<dt>名詞</dt>\n",
       "\t\t<dd>'任命'</dd>\n",
       "\t<dt>名詞</dt>\n",
       "\t\t<dd>'式'</dd>\n",
       "\t<dt>助詞</dt>\n",
       "\t\t<dd>'も'</dd>\n",
       "\t<dt>名詞</dt>\n",
       "\t\t<dd>'皇太子'</dd>\n",
       "\t<dt>名詞</dt>\n",
       "\t\t<dd>'殿下'</dd>\n",
       "\t<dt>助詞</dt>\n",
       "\t\t<dd>'が'</dd>\n",
       "\t<dt>名詞</dt>\n",
       "\t\t<dd>'出席'</dd>\n",
       "</dl>\n",
       "</li>\n",
       "</ol>\n"
      ],
      "text/latex": [
       "\\begin{enumerate}\n",
       "\\item \\begin{description*}\n",
       "\\item[名詞] '竹下'\n",
       "\\item[名詞] '首相'\n",
       "\\item[名詞] '任命'\n",
       "\\item[名詞] '式'\n",
       "\\item[助詞] 'も'\n",
       "\\item[名詞] '皇太子'\n",
       "\\item[名詞] '殿下'\n",
       "\\item[助詞] 'が'\n",
       "\\item[名詞] '出席'\n",
       "\\end{description*}\n",
       "\n",
       "\\end{enumerate}\n"
      ],
      "text/markdown": [
       "1. 名詞\n",
       ":   '竹下'名詞\n",
       ":   '首相'名詞\n",
       ":   '任命'名詞\n",
       ":   '式'助詞\n",
       ":   'も'名詞\n",
       ":   '皇太子'名詞\n",
       ":   '殿下'助詞\n",
       ":   'が'名詞\n",
       ":   '出席'\n",
       "\n",
       "\n",
       "\n",
       "\n"
      ],
      "text/plain": [
       "[[1]]\n",
       "    名詞     名詞     名詞     名詞     助詞     名詞     名詞     助詞 \n",
       "  \"竹下\"   \"首相\"   \"任命\"     \"式\"     \"も\" \"皇太子\"   \"殿下\"     \"が\" \n",
       "    名詞 \n",
       "  \"出席\" \n"
      ]
     },
     "metadata": {},
     "output_type": "display_data"
    }
   ],
   "source": [
    "MeCabRes[1]"
   ]
  },
  {
   "cell_type": "markdown",
   "metadata": {},
   "source": [
    "In the above example, each row represents word. The bolded part describes lexical category (e.g., noun, verb, ...) of a word. Then, the quoted part describes the word itself. For example, the first line reads as the noun (名詞), '竹下' (Takeshita). All words are put back into normal form, so the result sometimes does not much exactly with the original text."
   ]
  },
  {
   "cell_type": "markdown",
   "metadata": {},
   "source": [
    "## 3. Text Search and Code"
   ]
  },
  {
   "cell_type": "markdown",
   "metadata": {},
   "source": [
    "The following function gives you the way to seach certain words in **MeCabRes**, and code headlines (add variable to **datedata**) by the dummy appearance of those words in the headline."
   ]
  },
  {
   "cell_type": "code",
   "execution_count": 21,
   "metadata": {
    "collapsed": true
   },
   "outputs": [],
   "source": [
    "## Text finding function\n",
    "inclwrd<-function(target,search){ ##target=Mecab List, search=set of words to search\n",
    "  n<-length(target) # Define the length of exporting vector\n",
    "  countres<-rep(NA,n) # create the exporting vector\n",
    "  for(i in 1:n){ \n",
    "    sample<-as.factor(target[[i]]) # Each element in data value\n",
    "    levels(sample)[levels(sample) %in%  search]<-\"ifindit\" # Mark the searching words\n",
    "    countres[i]<-sum(sample==\"ifindit\") # word count of searching words\n",
    "  }\n",
    "  countres[countres>0]<-1 # make it a dummy variable\n",
    "  return(countres) # return the vector\n",
    "}"
   ]
  },
  {
   "cell_type": "markdown",
   "metadata": {},
   "source": [
    "Try an example to search economy related words, and create dummy variable of its appearance:"
   ]
  },
  {
   "cell_type": "code",
   "execution_count": 22,
   "metadata": {
    "collapsed": false
   },
   "outputs": [
    {
     "data": {
      "text/plain": [
       "\n",
       "    0     1 \n",
       "83657 15494 "
      ]
     },
     "metadata": {},
     "output_type": "display_data"
    }
   ],
   "source": [
    "## List of words related to economy\n",
    "econwords<-c(\"貿易\",\"投資\",\"ガット\",\"関税\",\"輸入\",\"輸出\",\"禁輸\",\n",
    "          \"資本\",\"現地生産\",\"漁業協定\",\"ＷＴＯ\",\"ＦＴＡ\",\"ＡＰＥＣ\",\n",
    "          \"援助\",\"支援\",\"円借款\",\"経済\",\"株\",\"相場\",\"円安\",\"円高\",\n",
    "          \"終値\",\"市場\",\"赤字\",\"黒字\",\"公共事業\",\"産業\",\"人民元\",\n",
    "          \"バブル\",\"円\",\"就業\",\"ドル\",\"ウォン\",\"通商\",\"社\",\"関税\",\"構造協議\")\n",
    "\n",
    "## Create a dummy variable in datedata\n",
    "datedata$econ<-inclwrd(target=MecabRes,search=econwords)\n",
    "\n",
    "## Describe the Variable\n",
    "table(datedata$econ)"
   ]
  },
  {
   "cell_type": "markdown",
   "metadata": {},
   "source": [
    "The result shows that there are 15494 headlines which include economy related words, and 83657 headlines which don't."
   ]
  }
 ],
 "metadata": {
  "kernelspec": {
   "display_name": "R",
   "language": "R",
   "name": "ir"
  },
  "language_info": {
   "codemirror_mode": "r",
   "file_extension": ".r",
   "mimetype": "text/x-r-source",
   "name": "R",
   "pygments_lexer": "r",
   "version": "3.3.2"
  }
 },
 "nbformat": 4,
 "nbformat_minor": 2
}
