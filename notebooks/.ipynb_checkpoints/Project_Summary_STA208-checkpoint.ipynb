{
 "cells": [
  {
   "cell_type": "markdown",
   "metadata": {
    "deletable": true,
    "editable": true
   },
   "source": [
    "<h1 style=\"text-align:center\"> Exploring and Predicting Characteristics of Japanese Newspaper Headlines </h1> \n",
    " <h2 style=\"text-align:center\"> <i>STA208 Final Project (Spring 2017)</i> </h2> \n",
    " <h3 style=\"text-align:center\"> <i>Tzu-ping Liu and Gento Kato</i> </h3> \n",
    "\n",
    "\n",
    "[<p  style=\"text-align:right\"> <i>Back to Summary Notebook</i> </p>](Project_Summary_STA208.ipynb)"
   ]
  },
  {
   "cell_type": "markdown",
   "metadata": {
    "deletable": true,
    "editable": true
   },
   "source": [
    "<center> <h1>Summary Notebook</h1> </center>"
   ]
  },
  {
   "cell_type": "markdown",
   "metadata": {
    "deletable": true,
    "editable": true
   },
   "source": [
    "## I. Research Question\n",
    "\n",
    "This project asks two major questions.\n",
    "\n",
    " * Can unsupervised-learning methods identify the major categories of news appeared on headlines?\n",
    " * Can supervised-learning method predict positive/negative (PN) sentiments expressed in news headlines?\n",
    "<!--- \n",
    "* What are the impact of political news on public opinion (e.g., prime minister approval)?\n",
    "--->"
   ]
  },
  {
   "cell_type": "markdown",
   "metadata": {
    "deletable": true,
    "editable": true
   },
   "source": [
    "## II. [Data of Japanese Newspaper Headlines](https://github.com/gentok/Political_Headlines_Project/blob/master/data_public/DESCRIPTION_alldata.md)\n",
    "\n",
    "Detailed descriptions of data construction by clicking [HERE](https://github.com/gentok/Political_Headlines_Project/blob/master/data_public/DESCRIPTION_alldata.md) (R is used in the data construction) or section title. \n",
    "\n",
    "In summary, following data are used in the analysis:\n",
    "\n",
    " * Full texts of *ALL* first page headlines from two major newspapers in Japan (*Yomiuri Shimbun* and *Asahi Shimbun*). The data collection starts on November 1987 and ends on March 2015.\n",
    " * Hand-coded negative sentiments (1 = negative, 0 = positive/neutral) appeared on randomly sampled 1000 headlines. \n",
    " * Matrix of word appearance frequency from the headlines.\n",
    " \n",
    "<!---\n",
    " * Dictionary approach to extract political headlines (Tutorial from [HERE](Headline%20Data%20and%20Text%20Search.ipynb))\n",
    " * Monthly public opinion polls in Japan of the corresponding period.\n",
    "--->"
   ]
  },
  {
   "cell_type": "markdown",
   "metadata": {
    "deletable": true,
    "editable": true
   },
   "source": [
    "## III. Analytical Strategy\n",
    "\n",
    " 1. Combination of unsupervised and supervised machine learning to explore categories of news.\n",
    " 2. Supervised machine learning to predict negative sentiments appeared on headlines.\n",
    "<!---\n",
    "* Time-series analysis to assess the impact of news coverage on public opinion.\n",
    "--->"
   ]
  },
  {
   "cell_type": "markdown",
   "metadata": {
    "deletable": true,
    "editable": true
   },
   "source": [
    "## IV. [Exploring Categories of Newspaper Headlines](NonSupervised.ipynb)\n",
    "\n",
    "In this section, we apply **both unsupervised and supervised learning methods to identify major news categories** in headlines. Details are presented in separate notebook file. Click [HERE](NonSupervised.ipynb) or section title for the contents."
   ]
  },
  {
   "cell_type": "markdown",
   "metadata": {
    "deletable": true,
    "editable": true
   },
   "source": [
    "## V. [Predicting Negative Sentiments in Newspaper Headlines](Supervised_Learning.ipynb)\n",
    "\n",
    "In this section, we apply various **supervised learning methods to predict negative sentiments** appeared in headlines, and compare their performances. Details are presented in separate notebook file. Click [HERE](Supervised_Learning.ipynb) or section title to see the contents."
   ]
  },
  {
   "cell_type": "markdown",
   "metadata": {
    "deletable": true,
    "editable": true
   },
   "source": [
    "## VI. Discussion"
   ]
  }
 ],
 "metadata": {
  "kernelspec": {
   "display_name": "Python 2",
   "language": "python",
   "name": "python2"
  },
  "language_info": {
   "codemirror_mode": {
    "name": "ipython",
    "version": 2
   },
   "file_extension": ".py",
   "mimetype": "text/x-python",
   "name": "python",
   "nbconvert_exporter": "python",
   "pygments_lexer": "ipython2",
   "version": "2.7.13"
  }
 },
 "nbformat": 4,
 "nbformat_minor": 2
}
