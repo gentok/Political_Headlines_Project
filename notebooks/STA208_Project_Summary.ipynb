{
 "cells": [
  {
   "cell_type": "markdown",
   "metadata": {
    "deletable": true,
    "editable": true
   },
   "source": [
    "<h1 style=\"text-align:center\"> Exploring and Predicting Characteristics of Japanese Newspaper Headlines </h1> \n",
    " <h2 style=\"text-align:center\"> <i>STA208 Final Project (Spring 2017)</i> </h2> \n",
    " <h3 style=\"text-align:center\"> <i>Tzu-ping Liu and Gento Kato</i> </h3> \n",
    "\n",
    "\n",
    "[<h5 style=\"text-align:center\"> Back to Summary Notebook </h5>](STA208_Project_Summary.ipynb)"
   ]
  },
  {
   "cell_type": "markdown",
   "metadata": {
    "deletable": true,
    "editable": true
   },
   "source": [
    "<h1 style=\"text-align:center\">Summary Notebook</h1>"
   ]
  },
  {
   "cell_type": "markdown",
   "metadata": {
    "deletable": true,
    "editable": true
   },
   "source": [
    "## I. Research Question\n",
    "\n",
    "Using unique dataset of Japanese Newspaper Headlines, this project asks two questions:\n",
    "\n",
    " * Can unsupervised-learning methods identify the major categories of news appeared on headlines?\n",
    " * How good supervised-learning methods are to predict positive/negative (PN) sentiments expressed in news headlines?\n",
    "\n",
    "This summary notebook does not include all descriptions and results of our analysis. Click on corresponding section titles to see detailed contents in each section (if link is provided). If links do not work, all relevant jupyter notebook files are store in the same directory as this summary notebook file (<code>/208-final-project-liu_and_kato\\Political_Headlines_Project\\notebooks</code>).\n",
    "\n",
    "<!--- \n",
    "* What are the impact of political news on public opinion (e.g., prime minister approval)?\n",
    "--->"
   ]
  },
  {
   "cell_type": "markdown",
   "metadata": {
    "deletable": true,
    "editable": true
   },
   "source": [
    "## II. [Data of Japanese Newspaper Headlines](STA208_Data_Description.ipynb)\n",
    "\n",
    "Detailed introduction of data structure can be seen in [HERE](STA208_Data_Description.ipynb) (R is used in the data construction) or by clicking section title. \n",
    "\n",
    "In summary, following data are used in the analysis:\n",
    "\n",
    " * Full texts of *ALL* first page headlines from two major newspapers in Japan (*Yomiuri Shimbun* and *Asahi Shimbun*). The data collection starts on November 1987 and ends on March 2015. (The data are originally collected by the author)\n",
    " * Hand-coded negative sentiments (1 = negative, 0 = positive/neutral) appeared on randomly sampled 1000 headlines. \n",
    " * Matrix of word appearance frequency from the headlines.\n",
    " \n",
    "<!---\n",
    " * Dictionary approach to extract political headlines (Tutorial from [HERE](Headline%20Data%20and%20Text%20Search.ipynb))\n",
    " * Monthly public opinion polls in Japan of the corresponding period.\n",
    "--->"
   ]
  },
  {
   "cell_type": "markdown",
   "metadata": {
    "deletable": true,
    "editable": true
   },
   "source": [
    "## III. Analytical Strategy\n",
    "\n",
    "We have two major objectives in the analysis, as follows: \n",
    "\n",
    " 1. Explore major categories of news through unsupervised and machine learning.\n",
    " 2. Predict negative sentiments appeared on headlines through supervised machine learning. \n",
    "\n",
    "First, we are interested in identifying major categories of news contents [Section IV]. We don't have pre-defined set of categories, therefore, we impletement **unsupervised learning methods (K-Means and Agglomerative Clustering)** to explore the major categories appeared in this dataset. We then briefly look into generated categories to assess if each of the method is successful in extracting meaningful categories.\n",
    "\n",
    "Second, we are also interested in coding positive-negative sentiments appeared in each headline [Section V]. In this section, One of the author sample 1000 headlines from the full dataset, and manually code the dichotomous appearance of negative sentiment. Then, we use **supervised learning methods (K Nearest Neightbors, Logit, Linear Discriminant Analysis, Support Verctor Machine with RBF Kernel, Decision Tree, Bagging, Random Forest and Adaboost)** to learn those negative-sentiment coding. We compare the result at the the last to evaluate how different methods perform differently on the learning.\n",
    "\n",
    "In the last discussion section, we discuss potential future development of the project by cross-sectioning two codings we generated so far. \n",
    "\n",
    "<!---\n",
    "* Time-series analysis to assess the impact of news coverage on public opinion.\n",
    "--->"
   ]
  },
  {
   "cell_type": "markdown",
   "metadata": {
    "deletable": true,
    "editable": true
   },
   "source": [
    "## IV. [Exploring Categories of Newspaper Headlines](STA208_NonSupervised.ipynb)\n",
    "\n",
    "In this section, we apply **both unsupervised and supervised learning methods to identify major news categories** in headlines. Details are presented in separate notebook file. Click [HERE](STA208_NonSupervised.ipynb) or section title to see the contents."
   ]
  },
  {
   "cell_type": "markdown",
   "metadata": {
    "deletable": true,
    "editable": true
   },
   "source": [
    "## V. [Predicting Negative Sentiments in Newspaper Headlines](STA208_Supervised_Learning.ipynb)\n",
    "\n",
    "In this section, we apply various **supervised learning methods to predict negative sentiments** appeared in headlines, and compare their performances. Details are presented in separate notebook file. Click [HERE](STA208_Supervised_Learning.ipynb) or section title to see the contents."
   ]
  },
  {
   "cell_type": "markdown",
   "metadata": {
    "deletable": true,
    "editable": true
   },
   "source": [
    "## VI. Discussion"
   ]
  }
 ],
 "metadata": {
  "kernelspec": {
   "display_name": "Python 2",
   "language": "python",
   "name": "python2"
  },
  "language_info": {
   "codemirror_mode": {
    "name": "ipython",
    "version": 2
   },
   "file_extension": ".py",
   "mimetype": "text/x-python",
   "name": "python",
   "nbconvert_exporter": "python",
   "pygments_lexer": "ipython2",
   "version": "2.7.13"
  }
 },
 "nbformat": 4,
 "nbformat_minor": 2
}
