{
 "cells": [
  {
   "cell_type": "markdown",
   "metadata": {
    "deletable": true,
    "editable": true
   },
   "source": [
    "<h1 style=\"text-align:center\"> Exploring and Predicting Characteristics of Japanese Newspaper Headlines </h1> \n",
    " <h2 style=\"text-align:center\"> <i>STA208 Final Project (Spring 2017)</i> </h2> \n",
    " <h3 style=\"text-align:center\"> <i>Tzu-ping Liu and Gento Kato</i> </h3> \n",
    "\n",
    "\n",
    "[<h5 style=\"text-align:center\"> Back to Summary Notebook </h5>](STA208_Project_Summary.ipynb)"
   ]
  },
  {
   "cell_type": "markdown",
   "metadata": {
    "deletable": true,
    "editable": true
   },
   "source": [
    "<h1 style=\"text-align:center\">Summary Notebook</h1>"
   ]
  },
  {
   "cell_type": "markdown",
   "metadata": {
    "deletable": true,
    "editable": true
   },
   "source": [
    "## I. Research Question\n",
    "\n",
    "Using unique dataset of Japanese Newspaper Headlines, this project asks two questions:\n",
    "\n",
    " * Can unsupervised-learning methods identify the major categories of news appeared on headlines?\n",
    " * How good supervised-learning methods are to predict positive/negative (PN) sentiments expressed in news headlines?\n",
    "\n",
    "This summary notebook does not include all descriptions and results of our analysis. Click on corresponding section titles to see detailed contents in each section (if link is provided). If links do not work, all relevant jupyter notebook files are store in the same directory as this summary notebook file (<code>/208-final-project-liu_and_kato\\Political_Headlines_Project\\notebooks</code>).\n",
    "\n",
    "<!--- \n",
    "* What are the impact of political news on public opinion (e.g., prime minister approval)?\n",
    "--->"
   ]
  },
  {
   "cell_type": "markdown",
   "metadata": {
    "deletable": true,
    "editable": true
   },
   "source": [
    "## II. [Data of Japanese Newspaper Headlines](STA208_Data_Description.ipynb)\n",
    "\n",
    "Detailed introduction of data structure can be seen in [HERE](STA208_Data_Description.ipynb) (R is used in the data construction) or by clicking section title. \n",
    "\n",
    "In summary, following data are used in the analysis:\n",
    "\n",
    " * Full texts of *ALL* first page headlines from two major newspapers in Japan (*Yomiuri Shimbun* and *Asahi Shimbun*). The data collection starts on November 1987 and ends on March 2015. (The data are originally collected by the author)\n",
    " * Hand-coded negative sentiments (1 = negative, 0 = positive/neutral) appeared on randomly sampled 1000 headlines. \n",
    " * Matrix of word appearance frequency from the headlines.\n",
    " \n",
    "<!---\n",
    " * Dictionary approach to extract political headlines (Tutorial from [HERE](Headline%20Data%20and%20Text%20Search.ipynb))\n",
    " * Monthly public opinion polls in Japan of the corresponding period.\n",
    "--->"
   ]
  },
  {
   "cell_type": "markdown",
   "metadata": {
    "deletable": true,
    "editable": true
   },
   "source": [
    "## III. Analytical Strategy\n",
    "\n",
    "We have two major objectives in the analysis, as follows: \n",
    "\n",
    " 1. Explore major categories of news through unsupervised and machine learning.\n",
    " 2. Predict negative sentiments appeared on headlines through supervised machine learning. \n",
    "\n",
    "First, we are interested in identifying major categories of news contents ([Section IV](STA208_Unsupervised_Learning.ipynb)). We don't have pre-defined set of categories, therefore, we impletement **unsupervised learning methods (K-Means and Agglomerative Clustering)** to explore the major categories appeared in this dataset. We then briefly look into generated categories to assess if each of the method is successful in extracting meaningful categories.\n",
    "\n",
    "Second, we are also interested in coding positive-negative sentiments appeared in each headline ([Section V](STA208_Supervised_Learning.ipynb)). In this section, One of the author sample 1000 headlines from the full dataset, and manually code the dichotomous appearance of negative sentiment. Then, we use **supervised learning methods (K Nearest Neighbors, Logit, Linear Discriminant Analysis, Support Verctor Machine with RBF Kernel, Decision Tree, Bagging, Random Forest and Adaboost)** to learn those negative-sentiment coding. We compare the result at the the last to evaluate how different methods perform differently on the learning.\n",
    "\n",
    "<!---\n",
    "* Time-series analysis to assess the impact of news coverage on public opinion.\n",
    "--->"
   ]
  },
  {
   "cell_type": "markdown",
   "metadata": {
    "deletable": true,
    "editable": true
   },
   "source": [
    "## IV. [Exploring Categories of Newspaper Headlines](STA208_Unsupervised_Learning.ipynb)\n",
    "\n",
    "In this section, we apply **unsupervised learning methods to identify major news categories and word appearance patterns** in headlines. Details are presented in separate notebook file. Click [HERE](STA208_Unsupervised_Learning.ipynb) or section title to see the contents."
   ]
  },
  {
   "cell_type": "markdown",
   "metadata": {
    "deletable": true,
    "editable": true
   },
   "source": [
    "## V. [Predicting Negative Sentiments in Newspaper Headlines](STA208_Supervised_Learning.ipynb)\n",
    "\n",
    "In this section, we apply various **supervised learning methods to predict negative sentiments** appeared in headlines, and compare their performances. Details are presented in separate notebook file. Click [HERE](STA208_Supervised_Learning.ipynb) or section title to see the contents."
   ]
  },
  {
   "cell_type": "markdown",
   "metadata": {
    "deletable": true,
    "editable": true
   },
   "source": [
    "## VI. Discussion\n",
    "\n",
    "In this section, we discuss potential future development of the project with some general assessments on the analytical results from previous sections. Click on the following button to turn on off the raw codes for generating tables."
   ]
  },
  {
   "cell_type": "code",
   "execution_count": 1,
   "metadata": {
    "collapsed": false,
    "deletable": true,
    "editable": true
   },
   "outputs": [
    {
     "data": {
      "text/html": [
       "<script>\n",
       "code_show=true; \n",
       "function code_toggle() {\n",
       " if (code_show){\n",
       " $('div.input').hide();\n",
       " } else {\n",
       " $('div.input').show();\n",
       " }\n",
       " code_show = !code_show\n",
       "} \n",
       "$( document ).ready(code_toggle);\n",
       "</script>\n",
       "<form action=\"javascript:code_toggle()\"><input type=\"submit\" value=\"Click here to toggle on/off the raw code.\"></form>"
      ],
      "text/plain": [
       "<IPython.core.display.HTML object>"
      ]
     },
     "execution_count": 1,
     "metadata": {},
     "output_type": "execute_result"
    }
   ],
   "source": [
    "from IPython.display import HTML\n",
    "\n",
    "HTML('''<script>\n",
    "code_show=true; \n",
    "function code_toggle() {\n",
    " if (code_show){\n",
    " $('div.input').hide();\n",
    " } else {\n",
    " $('div.input').show();\n",
    " }\n",
    " code_show = !code_show\n",
    "} \n",
    "$( document ).ready(code_toggle);\n",
    "</script>\n",
    "<form action=\"javascript:code_toggle()\"><input type=\"submit\" value=\"Click here to toggle on/off the raw code.\"></form>''')"
   ]
  },
  {
   "cell_type": "markdown",
   "metadata": {
    "deletable": true,
    "editable": true
   },
   "source": [
    "### 1. Overview of Generated Variables\n",
    "\n",
    "To start with, analysis in previous sections generate following variables for headline characteristics.\n",
    "\n",
    "** Unsupervised Learning** ([Section IV](STA208_NonSupervised.ipynb))\n",
    "* <code>km_3cat</code>: Topical categories geneated from *K-means* with $k=3$. \n",
    "* <code>km_4cat</code>: Topical categories geneated from *K-means* with $k=4$. \n",
    "* <code>km_5cat</code>: Topical categories geneated from *K-means* with $k=5$. \n",
    "\n",
    "** Supervised Learning** ([Section V](STA208_Supervised_Learning.ipynb))\n",
    "* <code>rf_pred</code>: Negative sentiment probability generated from *Random Forest*. \n",
    "* <code>logit_pred</code>: Negative sentiment probability generated from *Logistic Regression*. \n",
    "\n",
    "### 2. Negative Sentiments in Topics\n",
    "\n",
    "Here, we summarize results from both unsupervised and supervised machine learning by mean comparison. Following tables show average predicted probabilities of negative sentiments by each topical category.  "
   ]
  },
  {
   "cell_type": "code",
   "execution_count": 19,
   "metadata": {
    "collapsed": true,
    "deletable": true,
    "editable": true
   },
   "outputs": [],
   "source": [
    "# Computation Timer\n",
    "from timeit import default_timer as trec\n",
    "\n",
    "## Data Mining\n",
    "import pandas as pd\n",
    "import numpy as np\n",
    "import matplotlib as mpl\n",
    "import matplotlib.pyplot as plt\n",
    "%matplotlib inline\n",
    "plt.style.use('ggplot')"
   ]
  },
  {
   "cell_type": "code",
   "execution_count": 20,
   "metadata": {
    "collapsed": false,
    "deletable": true,
    "editable": true
   },
   "outputs": [],
   "source": [
    "## Import Data\n",
    "alldata = pd.read_csv(\"../../data/alldata_codepred_170529.csv\", encoding='CP932')\n",
    "kmlabels3 = pd.read_csv(\"../../data/kmlabels3_reduced.csv\", encoding='CP932')\n",
    "kmlabels4 = pd.read_csv(\"../../data/kmlabels4_reduced.csv\", encoding='CP932')\n",
    "kmlabels5 = pd.read_csv(\"../../data/kmlabels5_reduced.csv\", encoding='CP932')\n",
    "alldata['km_3cat'] = kmlabels3.iloc[:,1]\n",
    "alldata['km_4cat'] = kmlabels4.iloc[:,1]\n",
    "alldata['km_5cat'] = kmlabels5.iloc[:,1]"
   ]
  },
  {
   "cell_type": "code",
   "execution_count": 24,
   "metadata": {
    "collapsed": false,
    "deletable": true,
    "editable": true
   },
   "outputs": [
    {
     "data": {
      "text/html": [
       "<div>\n",
       "<table border=\"1\" class=\"dataframe\">\n",
       "  <thead>\n",
       "    <tr style=\"text-align: right;\">\n",
       "      <th>km_3cat</th>\n",
       "      <th>Diplomacy</th>\n",
       "      <th>Election</th>\n",
       "      <th>General</th>\n",
       "    </tr>\n",
       "  </thead>\n",
       "  <tbody>\n",
       "    <tr>\n",
       "      <th>rf_pred</th>\n",
       "      <td>0.157</td>\n",
       "      <td>0.131</td>\n",
       "      <td>0.204</td>\n",
       "    </tr>\n",
       "    <tr>\n",
       "      <th>logit_pred</th>\n",
       "      <td>0.111</td>\n",
       "      <td>0.057</td>\n",
       "      <td>0.197</td>\n",
       "    </tr>\n",
       "  </tbody>\n",
       "</table>\n",
       "</div>"
      ],
      "text/plain": [
       "km_3cat     Diplomacy  Election  General\n",
       "rf_pred         0.157     0.131    0.204\n",
       "logit_pred      0.111     0.057    0.197"
      ]
     },
     "execution_count": 24,
     "metadata": {},
     "output_type": "execute_result"
    }
   ],
   "source": [
    "alldata.groupby(['km_3cat']).agg({'logit_pred': \"mean\",'rf_pred': \"mean\"}).transpose().round(3)"
   ]
  },
  {
   "cell_type": "code",
   "execution_count": 25,
   "metadata": {
    "collapsed": false,
    "deletable": true,
    "editable": true
   },
   "outputs": [
    {
     "data": {
      "text/html": [
       "<div>\n",
       "<table border=\"1\" class=\"dataframe\">\n",
       "  <thead>\n",
       "    <tr style=\"text-align: right;\">\n",
       "      <th>km_4cat</th>\n",
       "      <th>Crime</th>\n",
       "      <th>Economy</th>\n",
       "      <th>General</th>\n",
       "      <th>Politics</th>\n",
       "    </tr>\n",
       "  </thead>\n",
       "  <tbody>\n",
       "    <tr>\n",
       "      <th>rf_pred</th>\n",
       "      <td>0.280</td>\n",
       "      <td>0.389</td>\n",
       "      <td>0.192</td>\n",
       "      <td>0.137</td>\n",
       "    </tr>\n",
       "    <tr>\n",
       "      <th>logit_pred</th>\n",
       "      <td>0.315</td>\n",
       "      <td>0.496</td>\n",
       "      <td>0.179</td>\n",
       "      <td>0.030</td>\n",
       "    </tr>\n",
       "  </tbody>\n",
       "</table>\n",
       "</div>"
      ],
      "text/plain": [
       "km_4cat     Crime  Economy  General  Politics\n",
       "rf_pred     0.280    0.389    0.192     0.137\n",
       "logit_pred  0.315    0.496    0.179     0.030"
      ]
     },
     "execution_count": 25,
     "metadata": {},
     "output_type": "execute_result"
    }
   ],
   "source": [
    "alldata.groupby(['km_4cat']).agg({'logit_pred': \"mean\",'rf_pred': \"mean\"}).transpose().round(3)"
   ]
  },
  {
   "cell_type": "code",
   "execution_count": 26,
   "metadata": {
    "collapsed": false,
    "deletable": true,
    "editable": true
   },
   "outputs": [
    {
     "data": {
      "text/html": [
       "<div>\n",
       "<table border=\"1\" class=\"dataframe\">\n",
       "  <thead>\n",
       "    <tr style=\"text-align: right;\">\n",
       "      <th>km_5cat</th>\n",
       "      <th>Crime</th>\n",
       "      <th>Diplomacy</th>\n",
       "      <th>Economy</th>\n",
       "      <th>General</th>\n",
       "      <th>Politics</th>\n",
       "    </tr>\n",
       "  </thead>\n",
       "  <tbody>\n",
       "    <tr>\n",
       "      <th>rf_pred</th>\n",
       "      <td>0.281</td>\n",
       "      <td>0.123</td>\n",
       "      <td>0.389</td>\n",
       "      <td>0.197</td>\n",
       "      <td>0.137</td>\n",
       "    </tr>\n",
       "    <tr>\n",
       "      <th>logit_pred</th>\n",
       "      <td>0.317</td>\n",
       "      <td>0.042</td>\n",
       "      <td>0.496</td>\n",
       "      <td>0.187</td>\n",
       "      <td>0.031</td>\n",
       "    </tr>\n",
       "  </tbody>\n",
       "</table>\n",
       "</div>"
      ],
      "text/plain": [
       "km_5cat     Crime  Diplomacy  Economy  General  Politics\n",
       "rf_pred     0.281      0.123    0.389    0.197     0.137\n",
       "logit_pred  0.317      0.042    0.496    0.187     0.031"
      ]
     },
     "execution_count": 26,
     "metadata": {},
     "output_type": "execute_result"
    }
   ],
   "source": [
    "alldata.groupby(['km_5cat']).agg({'logit_pred': \"mean\",'rf_pred': \"mean\"}).transpose().round(3)"
   ]
  }
 ],
 "metadata": {
  "kernelspec": {
   "display_name": "Python 2",
   "language": "python",
   "name": "python2"
  },
  "language_info": {
   "codemirror_mode": {
    "name": "ipython",
    "version": 2
   },
   "file_extension": ".py",
   "mimetype": "text/x-python",
   "name": "python",
   "nbconvert_exporter": "python",
   "pygments_lexer": "ipython2",
   "version": "2.7.13"
  }
 },
 "nbformat": 4,
 "nbformat_minor": 2
}
