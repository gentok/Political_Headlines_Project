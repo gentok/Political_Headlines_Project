{
 "cells": [
  {
   "cell_type": "markdown",
   "metadata": {
    "deletable": true,
    "editable": true
   },
   "source": [
    "<h1 style=\"text-align:center\"> Exploring and Predicting Characteristics of Japanese Newspaper Headlines </h1> \n",
    " <h2 style=\"text-align:center\"> <i>STA208 Final Project (Spring 2017)</i> </h2> \n",
    " <h3 style=\"text-align:center\"> <i>Tzu-ping Liu and Gento Kato</i> </h3> \n",
    "\n",
    "\n",
    "[<h5 style=\"text-align:center\"> Back to Summary Notebook </h5>](STA208_Project_Summary.ipynb)"
   ]
  },
  {
   "cell_type": "markdown",
   "metadata": {
    "deletable": true,
    "editable": true
   },
   "source": [
    "<h1 style=\"text-align:center\">Summary Notebook</h1>"
   ]
  },
  {
   "cell_type": "markdown",
   "metadata": {
    "deletable": true,
    "editable": true
   },
   "source": [
    "## I. Research Question\n",
    "\n",
    "Using unique dataset of Japanese Newspaper Headlines, this project asks two questions:\n",
    "\n",
    " * Can unsupervised-learning methods identify the major categories of news appeared on headlines?\n",
    " * How good supervised-learning methods are to predict positive/negative (PN) sentiments expressed in news headlines?\n",
    "\n",
    "This summary notebook does not include all descriptions and results of our analysis. Click on corresponding section titles to see detailed contents in each section (if link is provided). If links do not work, all relevant jupyter notebook files are store in the same directory as this summary notebook file (<code>/208-final-project-liu_and_kato\\Political_Headlines_Project\\notebooks</code>).\n",
    "\n",
    "<!--- \n",
    "* What are the impact of political news on public opinion (e.g., prime minister approval)?\n",
    "--->"
   ]
  },
  {
   "cell_type": "markdown",
   "metadata": {
    "deletable": true,
    "editable": true
   },
   "source": [
    "## II. [Data of Japanese Newspaper Headlines](STA208_Data_Description.ipynb)\n",
    "\n",
    "Detailed introduction of data structure can be seen in [HERE](STA208_Data_Description.ipynb) (R is used in the data construction) or by clicking section title. \n",
    "\n",
    "In summary, following data are used in the analysis:\n",
    "\n",
    " * Full texts of *ALL* first page headlines from two major newspapers in Japan (*Yomiuri Shimbun* and *Asahi Shimbun*). The data collection starts on November 1987 and ends on March 2015. (The data are originally collected by the author)\n",
    " * Hand-coded negative sentiments (1 = negative, 0 = positive/neutral) appeared on randomly sampled 1000 headlines. \n",
    " * Matrix of word appearance frequency from the headlines.\n",
    " \n",
    "<!---\n",
    " * Dictionary approach to extract political headlines (Tutorial from [HERE](Headline%20Data%20and%20Text%20Search.ipynb))\n",
    " * Monthly public opinion polls in Japan of the corresponding period.\n",
    "--->"
   ]
  },
  {
   "cell_type": "markdown",
   "metadata": {
    "deletable": true,
    "editable": true
   },
   "source": [
    "## III. Analytical Strategy\n",
    "\n",
    "We have two major objectives in the analysis, as follows: \n",
    "\n",
    " 1. Explore major categories of news through unsupervised and machine learning.\n",
    " 2. Predict negative sentiments appeared on headlines through supervised machine learning. \n",
    "\n",
    "First, we are interested in identifying major categories of news contents ([Section IV](STA208_Unsupervised_Learning.ipynb)). We don't have pre-defined set of categories, therefore, we impletement **unsupervised learning methods (K-Means and Agglomerative Clustering)** to explore the major categories appeared in this dataset. We then briefly look into generated categories to assess if each of the method is successful in extracting meaningful categories.\n",
    "\n",
    "Second, we are also interested in coding positive-negative sentiments appeared in each headline ([Section V](STA208_Supervised_Learning.ipynb)). In this section, One of the author sample 1000 headlines from the full dataset, and manually code the dichotomous appearance of negative sentiment. Then, we use **supervised learning methods (K Nearest Neighbors, Logit, Linear Discriminant Analysis, Support Verctor Machine with RBF Kernel, Decision Tree, Bagging, Random Forest and Adaboost)** to learn those negative-sentiment coding. We compare the result at the the last to evaluate how different methods perform differently on the learning.\n",
    "\n",
    "<!---\n",
    "* Time-series analysis to assess the impact of news coverage on public opinion.\n",
    "--->"
   ]
  },
  {
   "cell_type": "markdown",
   "metadata": {
    "deletable": true,
    "editable": true
   },
   "source": [
    "## IV. [Exploring Categories of Newspaper Headlines](STA208_Unsupervised_Learning.ipynb)\n",
    "\n",
    "In this section, we apply **unsupervised learning methods to identify major news categories and word appearance patterns** in headlines. Details are presented in separate notebook file. Click [HERE](STA208_Unsupervised_Learning.ipynb) or section title to see the contents."
   ]
  },
  {
   "cell_type": "markdown",
   "metadata": {
    "deletable": true,
    "editable": true
   },
   "source": [
    "## V. [Predicting Negative Sentiments in Newspaper Headlines](STA208_Supervised_Learning.ipynb)\n",
    "\n",
    "In this section, we apply various **supervised learning methods to predict negative sentiments** appeared in headlines, and compare their performances. Details are presented in separate notebook file. Click [HERE](STA208_Supervised_Learning.ipynb) or section title to see the contents."
   ]
  },
  {
   "cell_type": "markdown",
   "metadata": {
    "deletable": true,
    "editable": true
   },
   "source": [
    "## VI. Discussion\n",
    "\n",
    "In this section, we discuss the relationship between different variables generated from analyses in previous sections, and suggest potential future development of the project. Click on the following button to turn on off the raw codes for generating tables."
   ]
  },
  {
   "cell_type": "code",
   "execution_count": 1,
   "metadata": {
    "collapsed": false,
    "deletable": true,
    "editable": true
   },
   "outputs": [
    {
     "data": {
      "text/html": [
       "<script>\n",
       "code_show=true; \n",
       "function code_toggle() {\n",
       " if (code_show){\n",
       " $('div.input').hide();\n",
       " } else {\n",
       " $('div.input').show();\n",
       " }\n",
       " code_show = !code_show\n",
       "} \n",
       "$( document ).ready(code_toggle);\n",
       "</script>\n",
       "<form action=\"javascript:code_toggle()\"><input type=\"submit\" value=\"Click here to toggle on/off the raw code.\"></form>"
      ],
      "text/plain": [
       "<IPython.core.display.HTML object>"
      ]
     },
     "execution_count": 1,
     "metadata": {},
     "output_type": "execute_result"
    }
   ],
   "source": [
    "from IPython.display import HTML\n",
    "\n",
    "HTML('''<script>\n",
    "code_show=true; \n",
    "function code_toggle() {\n",
    " if (code_show){\n",
    " $('div.input').hide();\n",
    " } else {\n",
    " $('div.input').show();\n",
    " }\n",
    " code_show = !code_show\n",
    "} \n",
    "$( document ).ready(code_toggle);\n",
    "</script>\n",
    "<form action=\"javascript:code_toggle()\"><input type=\"submit\" value=\"Click here to toggle on/off the raw code.\"></form>''')"
   ]
  },
  {
   "cell_type": "code",
   "execution_count": 2,
   "metadata": {
    "collapsed": true,
    "deletable": true,
    "editable": true
   },
   "outputs": [],
   "source": [
    "# Computation Timer\n",
    "from timeit import default_timer as trec\n",
    "\n",
    "## Data Mining\n",
    "import pandas as pd\n",
    "import numpy as np\n",
    "import matplotlib as mpl\n",
    "import matplotlib.pyplot as plt\n",
    "%matplotlib inline\n",
    "plt.style.use('ggplot')"
   ]
  },
  {
   "cell_type": "markdown",
   "metadata": {
    "deletable": true,
    "editable": true
   },
   "source": [
    "### 1. Overview of Generated Variables\n",
    "\n",
    "To start with, in the analysis in previous sections major variables of headline characteristics are shown as follows. (Given its highly unbalanced and non-intuitive nature, results from hierarchical clustering are omitted.)\n",
    "\n",
    "** Headline Topic Clusters from Unsupervised Learning** ([Section IV](STA208_Unsupervised_Learning.ipynb))\n",
    "* <code>km_7catr_name</code>: Topical categories geneated from *K-means* with $k=7$ on word reduced data. \n",
    "* <code>km_8cat_name</code>: Topical categories geneated from *K-means* with $k=8$ on word reduced data. \n",
    "* <code>km_9cat_name</code>: Topical categories geneated from *K-means* with $k=9$ on word reduced data. \n",
    "\n",
    "** Negative Sentiments Probability from Supervised Learning** ([Section V](STA208_Supervised_Learning.ipynb))\n",
    "* <code>rf_pred</code>: Negative sentiment probability generated from *Random Forest*. \n",
    "* <code>logit_pred</code>: Negative sentiment probability generated from *Logistic Regression*. \n"
   ]
  },
  {
   "cell_type": "markdown",
   "metadata": {
    "deletable": true,
    "editable": true
   },
   "source": [
    "### 2. Relationship between Variables\n",
    "\n",
    "Here we cross-section generated variables to assess their relationships, and discuss if the relationship between those variables show expected patterns.  \n",
    "\n",
    "**Word Clusters by Topics**\n"
   ]
  },
  {
   "cell_type": "code",
   "execution_count": 3,
   "metadata": {
    "collapsed": false,
    "deletable": true,
    "editable": true
   },
   "outputs": [],
   "source": [
    "## Import Data\n",
    "alldata = pd.read_csv(\"../../data/alldata_codepred_170611.csv\", encoding='CP932')"
   ]
  },
  {
   "cell_type": "markdown",
   "metadata": {
    "deletable": true,
    "editable": true
   },
   "source": [
    "**Negative Sentiments by Topics**\n",
    "\n",
    "Here, we summarize results from both unsupervised and supervised machine learning by mean comparison. Following tables show **average predicted probabilities of negative sentiments by topical categories** generated from K-means. Higher probability indicates that headlines fall into corresponding topic is more likely to involve negative sentiments on average."
   ]
  },
  {
   "cell_type": "code",
   "execution_count": 4,
   "metadata": {
    "collapsed": false,
    "deletable": true,
    "editable": true
   },
   "outputs": [
    {
     "data": {
      "text/html": [
       "<div>\n",
       "<table border=\"1\" class=\"dataframe\">\n",
       "  <thead>\n",
       "    <tr style=\"text-align: right;\">\n",
       "      <th>km_7catr_name</th>\n",
       "      <th>Budget</th>\n",
       "      <th>Crime-Economy</th>\n",
       "      <th>Election</th>\n",
       "      <th>Featured</th>\n",
       "      <th>General</th>\n",
       "      <th>Social-Crime</th>\n",
       "      <th>War</th>\n",
       "    </tr>\n",
       "  </thead>\n",
       "  <tbody>\n",
       "    <tr>\n",
       "      <th>rf_pred</th>\n",
       "      <td>0.284</td>\n",
       "      <td>0.263</td>\n",
       "      <td>0.130</td>\n",
       "      <td>0.208</td>\n",
       "      <td>0.185</td>\n",
       "      <td>0.684</td>\n",
       "      <td>0.221</td>\n",
       "    </tr>\n",
       "    <tr>\n",
       "      <th>logit_pred</th>\n",
       "      <td>0.369</td>\n",
       "      <td>0.293</td>\n",
       "      <td>0.054</td>\n",
       "      <td>0.254</td>\n",
       "      <td>0.164</td>\n",
       "      <td>0.835</td>\n",
       "      <td>0.205</td>\n",
       "    </tr>\n",
       "  </tbody>\n",
       "</table>\n",
       "</div>"
      ],
      "text/plain": [
       "km_7catr_name  Budget  Crime-Economy  Election  Featured  General  \\\n",
       "rf_pred         0.284          0.263     0.130     0.208    0.185   \n",
       "logit_pred      0.369          0.293     0.054     0.254    0.164   \n",
       "\n",
       "km_7catr_name  Social-Crime    War  \n",
       "rf_pred               0.684  0.221  \n",
       "logit_pred            0.835  0.205  "
      ]
     },
     "execution_count": 4,
     "metadata": {},
     "output_type": "execute_result"
    }
   ],
   "source": [
    "alldata.groupby(['km_7catr_name']).agg({'logit_pred': \"mean\",'rf_pred': \"mean\"}).transpose().round(3)"
   ]
  },
  {
   "cell_type": "code",
   "execution_count": 5,
   "metadata": {
    "collapsed": false,
    "deletable": true,
    "editable": true
   },
   "outputs": [
    {
     "data": {
      "text/html": [
       "<div>\n",
       "<table border=\"1\" class=\"dataframe\">\n",
       "  <thead>\n",
       "    <tr style=\"text-align: right;\">\n",
       "      <th>km_8catr_name</th>\n",
       "      <th>Diplomacy 1</th>\n",
       "      <th>Diplomacy 2</th>\n",
       "      <th>Economy-Crime</th>\n",
       "      <th>Election</th>\n",
       "      <th>Featured</th>\n",
       "      <th>General</th>\n",
       "      <th>Politics</th>\n",
       "      <th>Polling</th>\n",
       "    </tr>\n",
       "  </thead>\n",
       "  <tbody>\n",
       "    <tr>\n",
       "      <th>rf_pred</th>\n",
       "      <td>0.159</td>\n",
       "      <td>0.116</td>\n",
       "      <td>0.395</td>\n",
       "      <td>0.125</td>\n",
       "      <td>0.234</td>\n",
       "      <td>0.191</td>\n",
       "      <td>0.226</td>\n",
       "      <td>0.294</td>\n",
       "    </tr>\n",
       "    <tr>\n",
       "      <th>logit_pred</th>\n",
       "      <td>0.114</td>\n",
       "      <td>0.037</td>\n",
       "      <td>0.506</td>\n",
       "      <td>0.048</td>\n",
       "      <td>0.307</td>\n",
       "      <td>0.170</td>\n",
       "      <td>0.235</td>\n",
       "      <td>0.393</td>\n",
       "    </tr>\n",
       "  </tbody>\n",
       "</table>\n",
       "</div>"
      ],
      "text/plain": [
       "km_8catr_name  Diplomacy 1  Diplomacy 2  Economy-Crime  Election  Featured  \\\n",
       "rf_pred              0.159        0.116          0.395     0.125     0.234   \n",
       "logit_pred           0.114        0.037          0.506     0.048     0.307   \n",
       "\n",
       "km_8catr_name  General  Politics  Polling  \n",
       "rf_pred          0.191     0.226    0.294  \n",
       "logit_pred       0.170     0.235    0.393  "
      ]
     },
     "execution_count": 5,
     "metadata": {},
     "output_type": "execute_result"
    }
   ],
   "source": [
    "alldata.groupby(['km_8catr_name']).agg({'logit_pred': \"mean\",'rf_pred': \"mean\"}).transpose().round(3)"
   ]
  },
  {
   "cell_type": "code",
   "execution_count": 6,
   "metadata": {
    "collapsed": false,
    "deletable": true,
    "editable": true
   },
   "outputs": [
    {
     "data": {
      "text/html": [
       "<div>\n",
       "<table border=\"1\" class=\"dataframe\">\n",
       "  <thead>\n",
       "    <tr style=\"text-align: right;\">\n",
       "      <th>km_9catr_name</th>\n",
       "      <th>Diplomacy 1</th>\n",
       "      <th>Diplomacy 2</th>\n",
       "      <th>Economy-Crime</th>\n",
       "      <th>Election</th>\n",
       "      <th>Featured 1</th>\n",
       "      <th>Featured 2</th>\n",
       "      <th>General</th>\n",
       "      <th>Politics</th>\n",
       "      <th>Polling</th>\n",
       "    </tr>\n",
       "  </thead>\n",
       "  <tbody>\n",
       "    <tr>\n",
       "      <th>rf_pred</th>\n",
       "      <td>0.158</td>\n",
       "      <td>0.112</td>\n",
       "      <td>0.395</td>\n",
       "      <td>0.124</td>\n",
       "      <td>0.234</td>\n",
       "      <td>0.231</td>\n",
       "      <td>0.190</td>\n",
       "      <td>0.227</td>\n",
       "      <td>0.295</td>\n",
       "    </tr>\n",
       "    <tr>\n",
       "      <th>logit_pred</th>\n",
       "      <td>0.113</td>\n",
       "      <td>0.031</td>\n",
       "      <td>0.505</td>\n",
       "      <td>0.048</td>\n",
       "      <td>0.306</td>\n",
       "      <td>0.267</td>\n",
       "      <td>0.167</td>\n",
       "      <td>0.236</td>\n",
       "      <td>0.392</td>\n",
       "    </tr>\n",
       "  </tbody>\n",
       "</table>\n",
       "</div>"
      ],
      "text/plain": [
       "km_9catr_name  Diplomacy 1  Diplomacy 2  Economy-Crime  Election  Featured 1  \\\n",
       "rf_pred              0.158        0.112          0.395     0.124       0.234   \n",
       "logit_pred           0.113        0.031          0.505     0.048       0.306   \n",
       "\n",
       "km_9catr_name  Featured 2  General  Politics  Polling  \n",
       "rf_pred             0.231    0.190     0.227    0.295  \n",
       "logit_pred          0.267    0.167     0.236    0.392  "
      ]
     },
     "execution_count": 6,
     "metadata": {},
     "output_type": "execute_result"
    }
   ],
   "source": [
    "alldata.groupby(['km_9catr_name']).agg({'logit_pred': \"mean\",'rf_pred': \"mean\"}).transpose().round(3)"
   ]
  },
  {
   "cell_type": "markdown",
   "metadata": {
    "deletable": true,
    "editable": true
   },
   "source": [
    "From the above tables, following patterns are apparent:\n",
    "\n",
    "1. Negative sentiments prediction from random forest (<code>rf_pred</code>) and logit (<code>logit_pred</code>) show similar patterns across topics, while logit predictions come with more extreme values (close to 0 or 1) than random forest predictions.\n",
    "2. *Crime-Economy*, *Social-Crime*, *Featured* and *Polling* topics are more likely to be negative than *Diplomacy*, *Politics* or *Election* topics. \n",
    "\n",
    "First pattern confirms the assessment in [Section V](STA208_Supervised_Learning.ipynb). Logit and random forest do seem to capture same characteristics in headlines. For the second pattern, it follows the expectation that *Crime* topic comes with high negative sentiment probability. On the other hand, it is interesting to see that *Polling* topic is highly likely to be negative, but *Politics* and *Diplomacy* are not. In general, negative sentiments and topics are related, but do seem to capture independent aspects of headline contents."
   ]
  },
  {
   "cell_type": "markdown",
   "metadata": {
    "deletable": true,
    "editable": true
   },
   "source": [
    "### 3. Future Directions\n",
    "\n",
    "In this project, we are interested in various methods to extract mearnigful characteristics from headline data. Despite short text nature of headlines, unsupervised learning did generate seemingly meaningful categories, and supervised learning did predict negative sentiments fairly well. As we are studying political science, our final goal is to apply those generated characteristics to answer substantive questions in political science. With this goal in mind, there are at least three directions to further develop this project. \n",
    "\n",
    "First, we can consider methods to generate more balanced categories of headlines and words. The current categories (from both *K-Means* and *Hierarchical Categories*) are highly unbalanced, and it is difficult to extract the specific meaning from the largest cluster (e.g., *General* category from K-means). More balanced categories will make full interpretation of categories possible. \n",
    "\n",
    "Second, we can incorporate the aspect of time into machine learning. Each headline in the dataset come with the posted date of the headline, while we are ignoring them for now. Major characteristics of data may transform across time. If we can learn and capture the dynamic change in the characteristic of data across time, it would benefit our understanding of media contents over time.\n",
    "\n",
    "Third, in addition to the above data, we have access to monthly public opinion poll data of corresponding time (including such questions as cabinet approval, party approval, and subjective economic performance). Therefore, we can aggeregate the machine learned characteristics of headlines by month, and assess the relationship between media contents and public opinion."
   ]
  }
 ],
 "metadata": {
  "kernelspec": {
   "display_name": "Python 2",
   "language": "python",
   "name": "python2"
  },
  "language_info": {
   "codemirror_mode": {
    "name": "ipython",
    "version": 2
   },
   "file_extension": ".py",
   "mimetype": "text/x-python",
   "name": "python",
   "nbconvert_exporter": "python",
   "pygments_lexer": "ipython2",
   "version": "2.7.13"
  }
 },
 "nbformat": 4,
 "nbformat_minor": 2
}
