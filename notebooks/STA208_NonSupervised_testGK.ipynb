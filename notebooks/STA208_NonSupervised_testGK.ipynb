{
 "cells": [
  {
   "cell_type": "markdown",
   "metadata": {
    "deletable": true,
    "editable": true
   },
   "source": [
    "<h1 style=\"text-align:center\"> Exploring and Predicting Characteristics of Japanese Newspaper Headlines </h1> \n",
    " <h2 style=\"text-align:center\"> <i>STA208 Final Project (Spring 2017)</i> </h2> \n",
    " <h3 style=\"text-align:center\"> <i>Tzu-ping Liu and Gento Kato</i> </h3> \n",
    "\n",
    "\n",
    "[<h5 style=\"text-align:center\"> Back to Summary Notebook </h5>](STA208_Project_Summary.ipynb)"
   ]
  },
  {
   "cell_type": "markdown",
   "metadata": {
    "deletable": true,
    "editable": true
   },
   "source": [
    "<h1 style=\"text-align:center\"> Section IV </h1>\n",
    "<h1 style=\"text-align:center\"> <i>Exploring Categories of Newspaper Headlines</i> </h1>"
   ]
  },
  {
   "cell_type": "code",
   "execution_count": 22,
   "metadata": {
    "collapsed": true,
    "deletable": true,
    "editable": true
   },
   "outputs": [],
   "source": [
    "# Computation Timer\n",
    "from timeit import default_timer as trec\n",
    "\n",
    "# Data Mining\n",
    "import pandas as pd\n",
    "import numpy as np\n",
    "from sklearn import decomposition\n",
    "from scipy.spatial.distance import cdist, pdist\n",
    "from scipy import sparse as sp ## Sparse Matrix\n",
    "from sklearn.cluster import KMeans, MiniBatchKMeans # Add MiniBatchKMeans\n",
    "\n",
    "# Visualization\n",
    "from IPython.display import display # Display HTML Table\n",
    "import matplotlib as mpl\n",
    "import matplotlib.pyplot as plt\n",
    "plt.style.use('ggplot')"
   ]
  },
  {
   "cell_type": "code",
   "execution_count": 2,
   "metadata": {
    "collapsed": false,
    "deletable": true,
    "editable": true
   },
   "outputs": [
    {
     "name": "stdout",
     "output_type": "stream",
     "text": [
      "Computation time is 307.608 seconds\n"
     ]
    }
   ],
   "source": [
    "start = trec() \n",
    "\n",
    "## Read data\n",
    "alldata = pd.read_csv(\"../../data/alldata_traincode_170510.csv\", encoding='CP932')\n",
    "allWrdMat10 = pd.read_csv(\"../../data/allWrdMat10.csv.gz\", encoding='CP932')\n",
    "\n",
    "time = trec() - start\n",
    "print('Computation time is %0.3f seconds' % time)"
   ]
  },
  {
   "cell_type": "code",
   "execution_count": 3,
   "metadata": {
    "collapsed": false,
    "deletable": true,
    "editable": true
   },
   "outputs": [
    {
     "name": "stdout",
     "output_type": "stream",
     "text": [
      "Computation time is 42.177 seconds\n"
     ]
    }
   ],
   "source": [
    "start = trec() \n",
    "\n",
    "## Set X as CSR Sparse Matrix (Row Extraction is Faster) \n",
    "X = np.array(allWrdMat10)\n",
    "X = sp.csr_matrix(X)\n",
    "\n",
    "time = trec() - start\n",
    "print('Computation time is %0.3f seconds' % time)"
   ]
  },
  {
   "cell_type": "markdown",
   "metadata": {
    "deletable": true,
    "editable": true
   },
   "source": [
    "**K-Means** \n",
    "\n",
    "Reduced <code>max_iter</code>, <code>n_init</code> to make classification a little faster. Also, <code>n_jobs = -1</code> to allow parallel computing."
   ]
  },
  {
   "cell_type": "code",
   "execution_count": 4,
   "metadata": {
    "collapsed": false,
    "deletable": true,
    "editable": true
   },
   "outputs": [
    {
     "name": "stdout",
     "output_type": "stream",
     "text": [
      "Computation time is 559.526 seconds\n"
     ]
    }
   ],
   "source": [
    "start = trec() \n",
    "\n",
    "## K-Means\n",
    "## Using the elbow nethod to determine the number of clusters\n",
    "model_km = []; score_km = []\n",
    "cluster = range(1, 16) ## 1- 15 clusters \n",
    "for a in cluster:\n",
    "    kmeans = KMeans(n_clusters=a, random_state=0, n_init=1, max_iter=100, n_jobs = -1)\n",
    "    km = kmeans.fit(X)\n",
    "    ks = -(km.score(X))\n",
    "    score_km.append(ks)\n",
    "    model_km.append(km)\n",
    "    \n",
    "time = trec() - start\n",
    "print('Computation time is %0.3f seconds' % time)"
   ]
  },
  {
   "cell_type": "code",
   "execution_count": 5,
   "metadata": {
    "collapsed": false,
    "deletable": true,
    "editable": true
   },
   "outputs": [
    {
     "data": {
      "image/png": "[encoded data removed]",
      "text/plain": [
       "<matplotlib.figure.Figure at 0x10430ac8>"
      ]
     },
     "metadata": {},
     "output_type": "display_data"
    }
   ],
   "source": [
    "## Plotting the result\n",
    "plt.plot(cluster, score_km, 'bo-', linewidth=2)\n",
    "plt.title('Score Plot')\n",
    "plt.xlabel('Number of Clusters')\n",
    "plt.ylabel('Score')\n",
    "leg = plt.legend(['Score of K-Means'], loc='best', borderpad=0.3,\n",
    "                 shadow=False, prop=mpl.font_manager.FontProperties(size='small'),\n",
    "                 markerscale=0.4)\n",
    "leg.get_frame().set_alpha(0.4)\n",
    "leg.draggable(state=True)\n",
    "plt.show()"
   ]
  },
  {
   "cell_type": "markdown",
   "metadata": {
    "collapsed": false,
    "deletable": true,
    "editable": true
   },
   "source": [
    "**MiniBatch K-Means** \n",
    "\n",
    "Randomly sample cases to conduct very efficient K-means. Here, random sample 1000 cases to execute each step."
   ]
  },
  {
   "cell_type": "code",
   "execution_count": 6,
   "metadata": {
    "collapsed": false,
    "deletable": true,
    "editable": true
   },
   "outputs": [
    {
     "name": "stdout",
     "output_type": "stream",
     "text": [
      "Computation time is 6.189 seconds\n"
     ]
    }
   ],
   "source": [
    "start = trec() \n",
    "\n",
    "## MiniBatch K-Means\n",
    "## Using the elbow nethod to determine the number of clusters\n",
    "model_mkm = []; score_mkm = []\n",
    "cluster = range(1, 16) ## 1- 15 clusters \n",
    "for a in cluster:\n",
    "    kmeans = MiniBatchKMeans(n_clusters=a, random_state=0, n_init=1, init_size=1000, batch_size=1000)\n",
    "    km = kmeans.fit(X)\n",
    "    ks = -(km.score(X))\n",
    "    score_mkm.append(ks)\n",
    "    model_mkm.append(km)\n",
    "    \n",
    "time = trec() - start\n",
    "print('Computation time is %0.3f seconds' % time)"
   ]
  },
  {
   "cell_type": "code",
   "execution_count": 7,
   "metadata": {
    "collapsed": false,
    "deletable": true,
    "editable": true
   },
   "outputs": [
    {
     "data": {
      "image/png": "[encoded data removed]",
      "text/plain": [
       "<matplotlib.figure.Figure at 0x27d942a20>"
      ]
     },
     "metadata": {},
     "output_type": "display_data"
    }
   ],
   "source": [
    "## Plotting the result\n",
    "plt.plot(cluster, score_mkm, 'bo-', linewidth=2)\n",
    "plt.title('Score Plot')\n",
    "plt.xlabel('Number of Clusters')\n",
    "plt.ylabel('Score')\n",
    "leg = plt.legend(['Score of K-Means'], loc='best', borderpad=0.3,\n",
    "                 shadow=False, prop=mpl.font_manager.FontProperties(size='small'),\n",
    "                 markerscale=0.4)\n",
    "leg.get_frame().set_alpha(0.4)\n",
    "leg.draggable(state=True)\n",
    "plt.show()"
   ]
  },
  {
   "cell_type": "markdown",
   "metadata": {
    "deletable": true,
    "editable": true
   },
   "source": [
    "**Store Best Result and Compare Two Methods**\n",
    "\n",
    "From the above, let's say there are 5 clusters."
   ]
  },
  {
   "cell_type": "code",
   "execution_count": 27,
   "metadata": {
    "collapsed": true,
    "deletable": true,
    "editable": true
   },
   "outputs": [],
   "source": [
    "## Choosing Nuber of cluster for Models\n",
    "bestk = 5 ## Choose Cluster N\n",
    "kmbest = model_km[bestk-1] # K-Means\n",
    "mkmbest = model_mkm[bestk-1] # Mini-Batch K-Means"
   ]
  },
  {
   "cell_type": "markdown",
   "metadata": {
    "deletable": true,
    "editable": true
   },
   "source": [
    "*Confusion Matrix of Two Methods*"
   ]
  },
  {
   "cell_type": "code",
   "execution_count": 28,
   "metadata": {
    "collapsed": false,
    "deletable": true,
    "editable": true
   },
   "outputs": [
    {
     "data": {
      "text/html": [
       "<div>\n",
       "<table border=\"1\" class=\"dataframe\">\n",
       "  <thead>\n",
       "    <tr style=\"text-align: right;\">\n",
       "      <th>Mini-Batch K-Means</th>\n",
       "      <th>0</th>\n",
       "      <th>1</th>\n",
       "      <th>2</th>\n",
       "      <th>3</th>\n",
       "      <th>4</th>\n",
       "      <th>All</th>\n",
       "    </tr>\n",
       "    <tr>\n",
       "      <th>K-Means</th>\n",
       "      <th></th>\n",
       "      <th></th>\n",
       "      <th></th>\n",
       "      <th></th>\n",
       "      <th></th>\n",
       "      <th></th>\n",
       "    </tr>\n",
       "  </thead>\n",
       "  <tbody>\n",
       "    <tr>\n",
       "      <th>0</th>\n",
       "      <td>19</td>\n",
       "      <td>6797</td>\n",
       "      <td>1</td>\n",
       "      <td>35</td>\n",
       "      <td>0</td>\n",
       "      <td>6852</td>\n",
       "    </tr>\n",
       "    <tr>\n",
       "      <th>1</th>\n",
       "      <td>435</td>\n",
       "      <td>2</td>\n",
       "      <td>211</td>\n",
       "      <td>251</td>\n",
       "      <td>6578</td>\n",
       "      <td>7477</td>\n",
       "    </tr>\n",
       "    <tr>\n",
       "      <th>2</th>\n",
       "      <td>2366</td>\n",
       "      <td>18</td>\n",
       "      <td>333</td>\n",
       "      <td>1315</td>\n",
       "      <td>5415</td>\n",
       "      <td>9447</td>\n",
       "    </tr>\n",
       "    <tr>\n",
       "      <th>3</th>\n",
       "      <td>1442</td>\n",
       "      <td>1</td>\n",
       "      <td>222</td>\n",
       "      <td>10156</td>\n",
       "      <td>761</td>\n",
       "      <td>12582</td>\n",
       "    </tr>\n",
       "    <tr>\n",
       "      <th>4</th>\n",
       "      <td>4208</td>\n",
       "      <td>0</td>\n",
       "      <td>4950</td>\n",
       "      <td>8</td>\n",
       "      <td>53627</td>\n",
       "      <td>62793</td>\n",
       "    </tr>\n",
       "    <tr>\n",
       "      <th>All</th>\n",
       "      <td>8470</td>\n",
       "      <td>6818</td>\n",
       "      <td>5717</td>\n",
       "      <td>11765</td>\n",
       "      <td>66381</td>\n",
       "      <td>99151</td>\n",
       "    </tr>\n",
       "  </tbody>\n",
       "</table>\n",
       "</div>"
      ],
      "text/plain": [
       "Mini-Batch K-Means     0     1     2      3      4    All\n",
       "K-Means                                                  \n",
       "0                     19  6797     1     35      0   6852\n",
       "1                    435     2   211    251   6578   7477\n",
       "2                   2366    18   333   1315   5415   9447\n",
       "3                   1442     1   222  10156    761  12582\n",
       "4                   4208     0  4950      8  53627  62793\n",
       "All                 8470  6818  5717  11765  66381  99151"
      ]
     },
     "execution_count": 28,
     "metadata": {},
     "output_type": "execute_result"
    }
   ],
   "source": [
    "## Make Prediction\n",
    "pred_km = kmbest.predict(X) # K-Means\n",
    "pred_mkm = mkmbest.predict(X) # Mini-Batch K-Means\n",
    "\n",
    "## Confusion Matrix From Two Predictions\n",
    "cm = pd.DataFrame({'K-Means': pred_km, 'Mini-Batch K-Means': pred_mkm}, \n",
    "                  columns = ['K-Means','Mini-Batch K-Means'])\n",
    "pd.crosstab(cm['K-Means'], cm['Mini-Batch K-Means'], margins=True)"
   ]
  },
  {
   "cell_type": "markdown",
   "metadata": {
    "deletable": true,
    "editable": true
   },
   "source": [
    "*Top 10 Words form each cluster of K-Means*"
   ]
  },
  {
   "cell_type": "code",
   "execution_count": 29,
   "metadata": {
    "collapsed": false,
    "deletable": true,
    "editable": true
   },
   "outputs": [
    {
     "name": "stdout",
     "output_type": "stream",
     "text": [
      "Cluster 0:\n"
     ]
    },
    {
     "data": {
      "text/html": [
       "<div>\n",
       "<table border=\"1\" class=\"dataframe\">\n",
       "  <thead>\n",
       "    <tr style=\"text-align: right;\">\n",
       "      <th></th>\n",
       "      <th>０</th>\n",
       "      <th>１</th>\n",
       "      <th>２</th>\n",
       "      <th>円</th>\n",
       "      <th>５</th>\n",
       "      <th>３</th>\n",
       "      <th>人</th>\n",
       "      <th>万</th>\n",
       "      <th>億</th>\n",
       "      <th>４</th>\n",
       "    </tr>\n",
       "  </thead>\n",
       "  <tbody>\n",
       "    <tr>\n",
       "      <th>cluster center component</th>\n",
       "      <td>2.55</td>\n",
       "      <td>0.641</td>\n",
       "      <td>0.538</td>\n",
       "      <td>0.436</td>\n",
       "      <td>0.3</td>\n",
       "      <td>0.291</td>\n",
       "      <td>0.278</td>\n",
       "      <td>0.273</td>\n",
       "      <td>0.247</td>\n",
       "      <td>0.218</td>\n",
       "    </tr>\n",
       "  </tbody>\n",
       "</table>\n",
       "</div>"
      ],
      "text/plain": [
       "                             ０      １      ２      円    ５      ３      人      万  \\\n",
       "cluster center component  2.55  0.641  0.538  0.436  0.3  0.291  0.278  0.273   \n",
       "\n",
       "                              億      ４  \n",
       "cluster center component  0.247  0.218  "
      ]
     },
     "metadata": {},
     "output_type": "display_data"
    },
    {
     "name": "stdout",
     "output_type": "stream",
     "text": [
      "Cluster 1:\n"
     ]
    },
    {
     "data": {
      "text/html": [
       "<div>\n",
       "<table border=\"1\" class=\"dataframe\">\n",
       "  <thead>\n",
       "    <tr style=\"text-align: right;\">\n",
       "      <th></th>\n",
       "      <th>米</th>\n",
       "      <th>日</th>\n",
       "      <th>大統領</th>\n",
       "      <th>会談</th>\n",
       "      <th>軍</th>\n",
       "      <th>協議</th>\n",
       "      <th>首脳</th>\n",
       "      <th>イラク</th>\n",
       "      <th>首相</th>\n",
       "      <th>日本</th>\n",
       "    </tr>\n",
       "  </thead>\n",
       "  <tbody>\n",
       "    <tr>\n",
       "      <th>cluster center component</th>\n",
       "      <td>1.106</td>\n",
       "      <td>0.285</td>\n",
       "      <td>0.154</td>\n",
       "      <td>0.134</td>\n",
       "      <td>0.113</td>\n",
       "      <td>0.1</td>\n",
       "      <td>0.092</td>\n",
       "      <td>0.084</td>\n",
       "      <td>0.067</td>\n",
       "      <td>0.067</td>\n",
       "    </tr>\n",
       "  </tbody>\n",
       "</table>\n",
       "</div>"
      ],
      "text/plain": [
       "                              米      日    大統領     会談      軍   協議     首脳  \\\n",
       "cluster center component  1.106  0.285  0.154  0.134  0.113  0.1  0.092   \n",
       "\n",
       "                            イラク     首相     日本  \n",
       "cluster center component  0.084  0.067  0.067  "
      ]
     },
     "metadata": {},
     "output_type": "display_data"
    },
    {
     "name": "stdout",
     "output_type": "stream",
     "text": [
      "Cluster 2:\n"
     ]
    },
    {
     "data": {
      "text/html": [
       "<div>\n",
       "<table border=\"1\" class=\"dataframe\">\n",
       "  <thead>\n",
       "    <tr style=\"text-align: right;\">\n",
       "      <th></th>\n",
       "      <th>２</th>\n",
       "      <th>５</th>\n",
       "      <th>％</th>\n",
       "      <th>３</th>\n",
       "      <th>０</th>\n",
       "      <th>４</th>\n",
       "      <th>人</th>\n",
       "      <th>日</th>\n",
       "      <th>６</th>\n",
       "      <th>７</th>\n",
       "    </tr>\n",
       "  </thead>\n",
       "  <tbody>\n",
       "    <tr>\n",
       "      <th>cluster center component</th>\n",
       "      <td>1.018</td>\n",
       "      <td>0.294</td>\n",
       "      <td>0.268</td>\n",
       "      <td>0.259</td>\n",
       "      <td>0.227</td>\n",
       "      <td>0.216</td>\n",
       "      <td>0.179</td>\n",
       "      <td>0.174</td>\n",
       "      <td>0.173</td>\n",
       "      <td>0.155</td>\n",
       "    </tr>\n",
       "  </tbody>\n",
       "</table>\n",
       "</div>"
      ],
      "text/plain": [
       "                              ２      ５      ％      ３      ０      ４      人  \\\n",
       "cluster center component  1.018  0.294  0.268  0.259  0.227  0.216  0.179   \n",
       "\n",
       "                              日      ６      ７  \n",
       "cluster center component  0.174  0.173  0.155  "
      ]
     },
     "metadata": {},
     "output_type": "display_data"
    },
    {
     "name": "stdout",
     "output_type": "stream",
     "text": [
      "Cluster 3:\n"
     ]
    },
    {
     "data": {
      "text/html": [
       "<div>\n",
       "<table border=\"1\" class=\"dataframe\">\n",
       "  <thead>\n",
       "    <tr style=\"text-align: right;\">\n",
       "      <th></th>\n",
       "      <th>１</th>\n",
       "      <th>０</th>\n",
       "      <th>２</th>\n",
       "      <th>円</th>\n",
       "      <th>３</th>\n",
       "      <th>５</th>\n",
       "      <th>人</th>\n",
       "      <th>日</th>\n",
       "      <th>４</th>\n",
       "      <th>年</th>\n",
       "    </tr>\n",
       "  </thead>\n",
       "  <tbody>\n",
       "    <tr>\n",
       "      <th>cluster center component</th>\n",
       "      <td>1.26</td>\n",
       "      <td>0.254</td>\n",
       "      <td>0.243</td>\n",
       "      <td>0.234</td>\n",
       "      <td>0.232</td>\n",
       "      <td>0.219</td>\n",
       "      <td>0.199</td>\n",
       "      <td>0.198</td>\n",
       "      <td>0.188</td>\n",
       "      <td>0.159</td>\n",
       "    </tr>\n",
       "  </tbody>\n",
       "</table>\n",
       "</div>"
      ],
      "text/plain": [
       "                             １      ０      ２      円      ３      ５      人  \\\n",
       "cluster center component  1.26  0.254  0.243  0.234  0.232  0.219  0.199   \n",
       "\n",
       "                              日      ４      年  \n",
       "cluster center component  0.198  0.188  0.159  "
      ]
     },
     "metadata": {},
     "output_type": "display_data"
    },
    {
     "name": "stdout",
     "output_type": "stream",
     "text": [
      "Cluster 4:\n"
     ]
    },
    {
     "data": {
      "text/html": [
       "<div>\n",
       "<table border=\"1\" class=\"dataframe\">\n",
       "  <thead>\n",
       "    <tr style=\"text-align: right;\">\n",
       "      <th></th>\n",
       "      <th>氏</th>\n",
       "      <th>首相</th>\n",
       "      <th>３</th>\n",
       "      <th>政府</th>\n",
       "      <th>４</th>\n",
       "      <th>５</th>\n",
       "      <th>自民</th>\n",
       "      <th>日</th>\n",
       "      <th>人</th>\n",
       "      <th>化</th>\n",
       "    </tr>\n",
       "  </thead>\n",
       "  <tbody>\n",
       "    <tr>\n",
       "      <th>cluster center component</th>\n",
       "      <td>0.091</td>\n",
       "      <td>0.088</td>\n",
       "      <td>0.075</td>\n",
       "      <td>0.053</td>\n",
       "      <td>0.052</td>\n",
       "      <td>0.049</td>\n",
       "      <td>0.046</td>\n",
       "      <td>0.043</td>\n",
       "      <td>0.041</td>\n",
       "      <td>0.04</td>\n",
       "    </tr>\n",
       "  </tbody>\n",
       "</table>\n",
       "</div>"
      ],
      "text/plain": [
       "                              氏     首相      ３     政府      ４      ５     自民  \\\n",
       "cluster center component  0.091  0.088  0.075  0.053  0.052  0.049  0.046   \n",
       "\n",
       "                              日      人     化  \n",
       "cluster center component  0.043  0.041  0.04  "
      ]
     },
     "metadata": {},
     "output_type": "display_data"
    }
   ],
   "source": [
    "## Required Parameters\n",
    "centroid_out = kmbest.cluster_centers_\n",
    "order_centroids = centroid_out.argsort()[:, ::-1]\n",
    "terms = allWrdMat10.columns\n",
    "\n",
    "for i in range(bestk):\n",
    "    print(\"Cluster %d:\" % i)\n",
    "    top10term = []\n",
    "    top10cent = []\n",
    "    for ind in order_centroids[i, :10]:\n",
    "        top10term.append(terms[ind])\n",
    "        top10cent.append(centroid_out[i,ind])\n",
    "    table = pd.DataFrame(index = top10term, columns = ['cluster center component'], data = np.round(top10cent,3))\n",
    "    table = table.transpose()\n",
    "    display(table)"
   ]
  },
  {
   "cell_type": "markdown",
   "metadata": {
    "deletable": true,
    "editable": true
   },
   "source": [
    "*Top 10 Words form each cluster of MIni-Batch K-Means*"
   ]
  },
  {
   "cell_type": "code",
   "execution_count": 23,
   "metadata": {
    "collapsed": false,
    "deletable": true,
    "editable": true
   },
   "outputs": [
    {
     "name": "stdout",
     "output_type": "stream",
     "text": [
      "Cluster 0:\n"
     ]
    },
    {
     "data": {
      "text/html": [
       "<div>\n",
       "<table border=\"1\" class=\"dataframe\">\n",
       "  <thead>\n",
       "    <tr style=\"text-align: right;\">\n",
       "      <th></th>\n",
       "      <th>３</th>\n",
       "      <th>％</th>\n",
       "      <th>２</th>\n",
       "      <th>０</th>\n",
       "      <th>５</th>\n",
       "      <th>１</th>\n",
       "      <th>年</th>\n",
       "      <th>人</th>\n",
       "      <th>４</th>\n",
       "      <th>６</th>\n",
       "    </tr>\n",
       "  </thead>\n",
       "  <tbody>\n",
       "    <tr>\n",
       "      <th>cluster center component</th>\n",
       "      <td>1.034</td>\n",
       "      <td>0.235</td>\n",
       "      <td>0.21</td>\n",
       "      <td>0.203</td>\n",
       "      <td>0.2</td>\n",
       "      <td>0.197</td>\n",
       "      <td>0.166</td>\n",
       "      <td>0.165</td>\n",
       "      <td>0.163</td>\n",
       "      <td>0.142</td>\n",
       "    </tr>\n",
       "  </tbody>\n",
       "</table>\n",
       "</div>"
      ],
      "text/plain": [
       "                              ３      ％     ２      ０    ５      １      年      人  \\\n",
       "cluster center component  1.034  0.235  0.21  0.203  0.2  0.197  0.166  0.165   \n",
       "\n",
       "                              ４      ６  \n",
       "cluster center component  0.163  0.142  "
      ]
     },
     "metadata": {},
     "output_type": "display_data"
    },
    {
     "name": "stdout",
     "output_type": "stream",
     "text": [
      "Cluster 1:\n"
     ]
    },
    {
     "data": {
      "text/html": [
       "<div>\n",
       "<table border=\"1\" class=\"dataframe\">\n",
       "  <thead>\n",
       "    <tr style=\"text-align: right;\">\n",
       "      <th></th>\n",
       "      <th>０</th>\n",
       "      <th>１</th>\n",
       "      <th>２</th>\n",
       "      <th>円</th>\n",
       "      <th>５</th>\n",
       "      <th>３</th>\n",
       "      <th>万</th>\n",
       "      <th>人</th>\n",
       "      <th>億</th>\n",
       "      <th>４</th>\n",
       "    </tr>\n",
       "  </thead>\n",
       "  <tbody>\n",
       "    <tr>\n",
       "      <th>cluster center component</th>\n",
       "      <td>2.546</td>\n",
       "      <td>0.601</td>\n",
       "      <td>0.539</td>\n",
       "      <td>0.42</td>\n",
       "      <td>0.297</td>\n",
       "      <td>0.29</td>\n",
       "      <td>0.272</td>\n",
       "      <td>0.27</td>\n",
       "      <td>0.242</td>\n",
       "      <td>0.227</td>\n",
       "    </tr>\n",
       "  </tbody>\n",
       "</table>\n",
       "</div>"
      ],
      "text/plain": [
       "                              ０      １      ２     円      ５     ３      万     人  \\\n",
       "cluster center component  2.546  0.601  0.539  0.42  0.297  0.29  0.272  0.27   \n",
       "\n",
       "                              億      ４  \n",
       "cluster center component  0.242  0.227  "
      ]
     },
     "metadata": {},
     "output_type": "display_data"
    },
    {
     "name": "stdout",
     "output_type": "stream",
     "text": [
      "Cluster 2:\n"
     ]
    },
    {
     "data": {
      "text/html": [
       "<div>\n",
       "<table border=\"1\" class=\"dataframe\">\n",
       "  <thead>\n",
       "    <tr style=\"text-align: right;\">\n",
       "      <th></th>\n",
       "      <th>氏</th>\n",
       "      <th>選</th>\n",
       "      <th>自民</th>\n",
       "      <th>党</th>\n",
       "      <th>首相</th>\n",
       "      <th>総裁</th>\n",
       "      <th>小沢</th>\n",
       "      <th>民主</th>\n",
       "      <th>２</th>\n",
       "      <th>知事</th>\n",
       "    </tr>\n",
       "  </thead>\n",
       "  <tbody>\n",
       "    <tr>\n",
       "      <th>cluster center component</th>\n",
       "      <td>1.025</td>\n",
       "      <td>0.258</td>\n",
       "      <td>0.217</td>\n",
       "      <td>0.171</td>\n",
       "      <td>0.121</td>\n",
       "      <td>0.099</td>\n",
       "      <td>0.084</td>\n",
       "      <td>0.084</td>\n",
       "      <td>0.068</td>\n",
       "      <td>0.067</td>\n",
       "    </tr>\n",
       "  </tbody>\n",
       "</table>\n",
       "</div>"
      ],
      "text/plain": [
       "                              氏      選     自民      党     首相     総裁     小沢  \\\n",
       "cluster center component  1.025  0.258  0.217  0.171  0.121  0.099  0.084   \n",
       "\n",
       "                             民主      ２     知事  \n",
       "cluster center component  0.084  0.068  0.067  "
      ]
     },
     "metadata": {},
     "output_type": "display_data"
    },
    {
     "name": "stdout",
     "output_type": "stream",
     "text": [
      "Cluster 3:\n"
     ]
    },
    {
     "data": {
      "text/html": [
       "<div>\n",
       "<table border=\"1\" class=\"dataframe\">\n",
       "  <thead>\n",
       "    <tr style=\"text-align: right;\">\n",
       "      <th></th>\n",
       "      <th>１</th>\n",
       "      <th>２</th>\n",
       "      <th>０</th>\n",
       "      <th>円</th>\n",
       "      <th>５</th>\n",
       "      <th>日</th>\n",
       "      <th>４</th>\n",
       "      <th>人</th>\n",
       "      <th>６</th>\n",
       "      <th>９</th>\n",
       "    </tr>\n",
       "  </thead>\n",
       "  <tbody>\n",
       "    <tr>\n",
       "      <th>cluster center component</th>\n",
       "      <td>1.241</td>\n",
       "      <td>0.505</td>\n",
       "      <td>0.315</td>\n",
       "      <td>0.312</td>\n",
       "      <td>0.292</td>\n",
       "      <td>0.242</td>\n",
       "      <td>0.238</td>\n",
       "      <td>0.235</td>\n",
       "      <td>0.192</td>\n",
       "      <td>0.19</td>\n",
       "    </tr>\n",
       "  </tbody>\n",
       "</table>\n",
       "</div>"
      ],
      "text/plain": [
       "                              １      ２      ０      円      ５      日      ４  \\\n",
       "cluster center component  1.241  0.505  0.315  0.312  0.292  0.242  0.238   \n",
       "\n",
       "                              人      ６     ９  \n",
       "cluster center component  0.235  0.192  0.19  "
      ]
     },
     "metadata": {},
     "output_type": "display_data"
    },
    {
     "name": "stdout",
     "output_type": "stream",
     "text": [
      "Cluster 4:\n"
     ]
    },
    {
     "data": {
      "text/html": [
       "<div>\n",
       "<table border=\"1\" class=\"dataframe\">\n",
       "  <thead>\n",
       "    <tr style=\"text-align: right;\">\n",
       "      <th></th>\n",
       "      <th>米</th>\n",
       "      <th>２</th>\n",
       "      <th>首相</th>\n",
       "      <th>日</th>\n",
       "      <th>５</th>\n",
       "      <th>４</th>\n",
       "      <th>政府</th>\n",
       "      <th>日本</th>\n",
       "      <th>人</th>\n",
       "      <th>６</th>\n",
       "    </tr>\n",
       "  </thead>\n",
       "  <tbody>\n",
       "    <tr>\n",
       "      <th>cluster center component</th>\n",
       "      <td>0.111</td>\n",
       "      <td>0.083</td>\n",
       "      <td>0.08</td>\n",
       "      <td>0.075</td>\n",
       "      <td>0.059</td>\n",
       "      <td>0.056</td>\n",
       "      <td>0.054</td>\n",
       "      <td>0.045</td>\n",
       "      <td>0.045</td>\n",
       "      <td>0.042</td>\n",
       "    </tr>\n",
       "  </tbody>\n",
       "</table>\n",
       "</div>"
      ],
      "text/plain": [
       "                              米      ２    首相      日      ５      ４     政府  \\\n",
       "cluster center component  0.111  0.083  0.08  0.075  0.059  0.056  0.054   \n",
       "\n",
       "                             日本      人      ６  \n",
       "cluster center component  0.045  0.045  0.042  "
      ]
     },
     "metadata": {},
     "output_type": "display_data"
    }
   ],
   "source": [
    "## Required Parameters\n",
    "centroid_out = mkmbest.cluster_centers_\n",
    "order_centroids = centroid_out.argsort()[:, ::-1]\n",
    "terms = allWrdMat10.columns\n",
    "\n",
    "for i in range(bestk):\n",
    "    print(\"Cluster %d:\" % i)\n",
    "    top10term = []\n",
    "    top10cent = []\n",
    "    for ind in order_centroids[i, :10]:\n",
    "        top10term.append(terms[ind])\n",
    "        top10cent.append(centroid_out[i,ind])\n",
    "    table = pd.DataFrame(index = top10term, columns = ['cluster center component'], data = np.round(top10cent,3))\n",
    "    table = table.transpose()\n",
    "    display(table)"
   ]
  }
 ],
 "metadata": {
  "kernelspec": {
   "display_name": "Python 2",
   "language": "python",
   "name": "python2"
  },
  "language_info": {
   "codemirror_mode": {
    "name": "ipython",
    "version": 2
   },
   "file_extension": ".py",
   "mimetype": "text/x-python",
   "name": "python",
   "nbconvert_exporter": "python",
   "pygments_lexer": "ipython2",
   "version": "2.7.13"
  }
 },
 "nbformat": 4,
 "nbformat_minor": 2
}
